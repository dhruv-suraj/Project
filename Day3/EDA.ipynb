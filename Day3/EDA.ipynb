{
  "nbformat": 4,
  "nbformat_minor": 0,
  "metadata": {
    "colab": {
      "name": "EDA.ipynb",
      "provenance": [],
      "collapsed_sections": []
    },
    "kernelspec": {
      "name": "python3",
      "display_name": "Python 3"
    },
    "language_info": {
      "name": "python"
    }
  },
  "cells": [
    {
      "cell_type": "code",
      "execution_count": 131,
      "metadata": {
        "id": "gvIMGdx9OTou"
      },
      "outputs": [],
      "source": [
        "import pandas as pd\n",
        "import numpy as np\n",
        "import matplotlib.pyplot as plt\n",
        "import seaborn as sns"
      ]
    },
    {
      "cell_type": "code",
      "source": [
        "!pip install geoplot\n",
        "!pip install altair\n",
        "!pip install vega\n",
        "!pip install gpdvega"
      ],
      "metadata": {
        "colab": {
          "base_uri": "https://localhost:8080/"
        },
        "id": "Ii_ZrwhLJm-s",
        "outputId": "181a738c-1d45-4f52-f413-62aba3925332"
      },
      "execution_count": 132,
      "outputs": [
        {
          "output_type": "stream",
          "name": "stdout",
          "text": [
            "Looking in indexes: https://pypi.org/simple, https://us-python.pkg.dev/colab-wheels/public/simple/\n",
            "Requirement already satisfied: geoplot in /usr/local/lib/python3.7/dist-packages (0.5.1)\n",
            "Requirement already satisfied: contextily>=1.0.0 in /usr/local/lib/python3.7/dist-packages (from geoplot) (1.2.0)\n",
            "Requirement already satisfied: geopandas>=0.9.0 in /usr/local/lib/python3.7/dist-packages (from geoplot) (0.10.2)\n",
            "Requirement already satisfied: mapclassify>=2.1 in /usr/local/lib/python3.7/dist-packages (from geoplot) (2.4.3)\n",
            "Requirement already satisfied: seaborn in /usr/local/lib/python3.7/dist-packages (from geoplot) (0.11.2)\n",
            "Requirement already satisfied: matplotlib>=3.1.2 in /usr/local/lib/python3.7/dist-packages (from geoplot) (3.2.2)\n",
            "Requirement already satisfied: cartopy in /usr/local/lib/python3.7/dist-packages (from geoplot) (0.19.0.post1)\n",
            "Requirement already satisfied: pandas in /usr/local/lib/python3.7/dist-packages (from geoplot) (1.3.5)\n",
            "Requirement already satisfied: requests in /usr/local/lib/python3.7/dist-packages (from contextily>=1.0.0->geoplot) (2.23.0)\n",
            "Requirement already satisfied: pillow in /usr/local/lib/python3.7/dist-packages (from contextily>=1.0.0->geoplot) (7.1.2)\n",
            "Requirement already satisfied: joblib in /usr/local/lib/python3.7/dist-packages (from contextily>=1.0.0->geoplot) (1.1.0)\n",
            "Requirement already satisfied: mercantile in /usr/local/lib/python3.7/dist-packages (from contextily>=1.0.0->geoplot) (1.2.1)\n",
            "Requirement already satisfied: rasterio in /usr/local/lib/python3.7/dist-packages (from contextily>=1.0.0->geoplot) (1.2.10)\n",
            "Requirement already satisfied: xyzservices in /usr/local/lib/python3.7/dist-packages (from contextily>=1.0.0->geoplot) (2022.6.0)\n",
            "Requirement already satisfied: geopy in /usr/local/lib/python3.7/dist-packages (from contextily>=1.0.0->geoplot) (1.17.0)\n",
            "Requirement already satisfied: fiona>=1.8 in /usr/local/lib/python3.7/dist-packages (from geopandas>=0.9.0->geoplot) (1.8.21)\n",
            "Requirement already satisfied: pyproj>=2.2.0 in /usr/local/lib/python3.7/dist-packages (from geopandas>=0.9.0->geoplot) (3.2.1)\n",
            "Requirement already satisfied: shapely>=1.6 in /usr/local/lib/python3.7/dist-packages (from geopandas>=0.9.0->geoplot) (1.8.2)\n",
            "Requirement already satisfied: cligj>=0.5 in /usr/local/lib/python3.7/dist-packages (from fiona>=1.8->geopandas>=0.9.0->geoplot) (0.7.2)\n",
            "Requirement already satisfied: certifi in /usr/local/lib/python3.7/dist-packages (from fiona>=1.8->geopandas>=0.9.0->geoplot) (2022.6.15)\n",
            "Requirement already satisfied: attrs>=17 in /usr/local/lib/python3.7/dist-packages (from fiona>=1.8->geopandas>=0.9.0->geoplot) (21.4.0)\n",
            "Requirement already satisfied: setuptools in /usr/local/lib/python3.7/dist-packages (from fiona>=1.8->geopandas>=0.9.0->geoplot) (57.4.0)\n",
            "Requirement already satisfied: munch in /usr/local/lib/python3.7/dist-packages (from fiona>=1.8->geopandas>=0.9.0->geoplot) (2.5.0)\n",
            "Requirement already satisfied: click>=4.0 in /usr/local/lib/python3.7/dist-packages (from fiona>=1.8->geopandas>=0.9.0->geoplot) (7.1.2)\n",
            "Requirement already satisfied: six>=1.7 in /usr/local/lib/python3.7/dist-packages (from fiona>=1.8->geopandas>=0.9.0->geoplot) (1.15.0)\n",
            "Requirement already satisfied: click-plugins>=1.0 in /usr/local/lib/python3.7/dist-packages (from fiona>=1.8->geopandas>=0.9.0->geoplot) (1.1.1)\n",
            "Requirement already satisfied: scipy>=1.0 in /usr/local/lib/python3.7/dist-packages (from mapclassify>=2.1->geoplot) (1.4.1)\n",
            "Requirement already satisfied: numpy>=1.3 in /usr/local/lib/python3.7/dist-packages (from mapclassify>=2.1->geoplot) (1.21.6)\n",
            "Requirement already satisfied: scikit-learn in /usr/local/lib/python3.7/dist-packages (from mapclassify>=2.1->geoplot) (1.0.2)\n",
            "Requirement already satisfied: networkx in /usr/local/lib/python3.7/dist-packages (from mapclassify>=2.1->geoplot) (2.6.3)\n",
            "Requirement already satisfied: cycler>=0.10 in /usr/local/lib/python3.7/dist-packages (from matplotlib>=3.1.2->geoplot) (0.11.0)\n",
            "Requirement already satisfied: kiwisolver>=1.0.1 in /usr/local/lib/python3.7/dist-packages (from matplotlib>=3.1.2->geoplot) (1.4.3)\n",
            "Requirement already satisfied: python-dateutil>=2.1 in /usr/local/lib/python3.7/dist-packages (from matplotlib>=3.1.2->geoplot) (2.8.2)\n",
            "Requirement already satisfied: pyparsing!=2.0.4,!=2.1.2,!=2.1.6,>=2.0.1 in /usr/local/lib/python3.7/dist-packages (from matplotlib>=3.1.2->geoplot) (3.0.9)\n",
            "Requirement already satisfied: typing-extensions in /usr/local/lib/python3.7/dist-packages (from kiwisolver>=1.0.1->matplotlib>=3.1.2->geoplot) (4.1.1)\n",
            "Requirement already satisfied: pytz>=2017.3 in /usr/local/lib/python3.7/dist-packages (from pandas->geoplot) (2022.1)\n",
            "Requirement already satisfied: pyshp>=2 in /usr/local/lib/python3.7/dist-packages (from cartopy->geoplot) (2.3.0)\n",
            "Requirement already satisfied: geographiclib<2,>=1.49 in /usr/local/lib/python3.7/dist-packages (from geopy->contextily>=1.0.0->geoplot) (1.52)\n",
            "Requirement already satisfied: affine in /usr/local/lib/python3.7/dist-packages (from rasterio->contextily>=1.0.0->geoplot) (2.3.1)\n",
            "Requirement already satisfied: snuggs>=1.4.1 in /usr/local/lib/python3.7/dist-packages (from rasterio->contextily>=1.0.0->geoplot) (1.4.7)\n",
            "Requirement already satisfied: chardet<4,>=3.0.2 in /usr/local/lib/python3.7/dist-packages (from requests->contextily>=1.0.0->geoplot) (3.0.4)\n",
            "Requirement already satisfied: idna<3,>=2.5 in /usr/local/lib/python3.7/dist-packages (from requests->contextily>=1.0.0->geoplot) (2.10)\n",
            "Requirement already satisfied: urllib3!=1.25.0,!=1.25.1,<1.26,>=1.21.1 in /usr/local/lib/python3.7/dist-packages (from requests->contextily>=1.0.0->geoplot) (1.24.3)\n",
            "Requirement already satisfied: threadpoolctl>=2.0.0 in /usr/local/lib/python3.7/dist-packages (from scikit-learn->mapclassify>=2.1->geoplot) (3.1.0)\n",
            "Looking in indexes: https://pypi.org/simple, https://us-python.pkg.dev/colab-wheels/public/simple/\n",
            "Requirement already satisfied: altair in /usr/local/lib/python3.7/dist-packages (4.2.0)\n",
            "Requirement already satisfied: jsonschema>=3.0 in /usr/local/lib/python3.7/dist-packages (from altair) (4.3.3)\n",
            "Requirement already satisfied: numpy in /usr/local/lib/python3.7/dist-packages (from altair) (1.21.6)\n",
            "Requirement already satisfied: entrypoints in /usr/local/lib/python3.7/dist-packages (from altair) (0.4)\n",
            "Requirement already satisfied: toolz in /usr/local/lib/python3.7/dist-packages (from altair) (0.11.2)\n",
            "Requirement already satisfied: pandas>=0.18 in /usr/local/lib/python3.7/dist-packages (from altair) (1.3.5)\n",
            "Requirement already satisfied: jinja2 in /usr/local/lib/python3.7/dist-packages (from altair) (2.11.3)\n",
            "Requirement already satisfied: attrs>=17.4.0 in /usr/local/lib/python3.7/dist-packages (from jsonschema>=3.0->altair) (21.4.0)\n",
            "Requirement already satisfied: pyrsistent!=0.17.0,!=0.17.1,!=0.17.2,>=0.14.0 in /usr/local/lib/python3.7/dist-packages (from jsonschema>=3.0->altair) (0.18.1)\n",
            "Requirement already satisfied: typing-extensions in /usr/local/lib/python3.7/dist-packages (from jsonschema>=3.0->altair) (4.1.1)\n",
            "Requirement already satisfied: importlib-metadata in /usr/local/lib/python3.7/dist-packages (from jsonschema>=3.0->altair) (4.11.4)\n",
            "Requirement already satisfied: importlib-resources>=1.4.0 in /usr/local/lib/python3.7/dist-packages (from jsonschema>=3.0->altair) (5.7.1)\n",
            "Requirement already satisfied: zipp>=3.1.0 in /usr/local/lib/python3.7/dist-packages (from importlib-resources>=1.4.0->jsonschema>=3.0->altair) (3.8.0)\n",
            "Requirement already satisfied: python-dateutil>=2.7.3 in /usr/local/lib/python3.7/dist-packages (from pandas>=0.18->altair) (2.8.2)\n",
            "Requirement already satisfied: pytz>=2017.3 in /usr/local/lib/python3.7/dist-packages (from pandas>=0.18->altair) (2022.1)\n",
            "Requirement already satisfied: six>=1.5 in /usr/local/lib/python3.7/dist-packages (from python-dateutil>=2.7.3->pandas>=0.18->altair) (1.15.0)\n",
            "Requirement already satisfied: MarkupSafe>=0.23 in /usr/local/lib/python3.7/dist-packages (from jinja2->altair) (2.0.1)\n",
            "Looking in indexes: https://pypi.org/simple, https://us-python.pkg.dev/colab-wheels/public/simple/\n",
            "Requirement already satisfied: vega in /usr/local/lib/python3.7/dist-packages (3.6.0)\n",
            "Requirement already satisfied: pandas<2.0.0,>=1.0.0 in /usr/local/lib/python3.7/dist-packages (from vega) (1.3.5)\n",
            "Requirement already satisfied: jupyter<2.0.0,>=1.0.0 in /usr/local/lib/python3.7/dist-packages (from vega) (1.0.0)\n",
            "Requirement already satisfied: qtconsole in /usr/local/lib/python3.7/dist-packages (from jupyter<2.0.0,>=1.0.0->vega) (5.3.1)\n",
            "Requirement already satisfied: ipywidgets in /usr/local/lib/python3.7/dist-packages (from jupyter<2.0.0,>=1.0.0->vega) (7.7.0)\n",
            "Requirement already satisfied: notebook in /usr/local/lib/python3.7/dist-packages (from jupyter<2.0.0,>=1.0.0->vega) (5.3.1)\n",
            "Requirement already satisfied: nbconvert in /usr/local/lib/python3.7/dist-packages (from jupyter<2.0.0,>=1.0.0->vega) (5.6.1)\n",
            "Requirement already satisfied: jupyter-console in /usr/local/lib/python3.7/dist-packages (from jupyter<2.0.0,>=1.0.0->vega) (5.2.0)\n",
            "Requirement already satisfied: ipykernel in /usr/local/lib/python3.7/dist-packages (from jupyter<2.0.0,>=1.0.0->vega) (4.10.1)\n",
            "Requirement already satisfied: python-dateutil>=2.7.3 in /usr/local/lib/python3.7/dist-packages (from pandas<2.0.0,>=1.0.0->vega) (2.8.2)\n",
            "Requirement already satisfied: numpy>=1.17.3 in /usr/local/lib/python3.7/dist-packages (from pandas<2.0.0,>=1.0.0->vega) (1.21.6)\n",
            "Requirement already satisfied: pytz>=2017.3 in /usr/local/lib/python3.7/dist-packages (from pandas<2.0.0,>=1.0.0->vega) (2022.1)\n",
            "Requirement already satisfied: six>=1.5 in /usr/local/lib/python3.7/dist-packages (from python-dateutil>=2.7.3->pandas<2.0.0,>=1.0.0->vega) (1.15.0)\n",
            "Requirement already satisfied: tornado>=4.0 in /usr/local/lib/python3.7/dist-packages (from ipykernel->jupyter<2.0.0,>=1.0.0->vega) (5.1.1)\n",
            "Requirement already satisfied: traitlets>=4.1.0 in /usr/local/lib/python3.7/dist-packages (from ipykernel->jupyter<2.0.0,>=1.0.0->vega) (5.1.1)\n",
            "Requirement already satisfied: ipython>=4.0.0 in /usr/local/lib/python3.7/dist-packages (from ipykernel->jupyter<2.0.0,>=1.0.0->vega) (5.5.0)\n",
            "Requirement already satisfied: jupyter-client in /usr/local/lib/python3.7/dist-packages (from ipykernel->jupyter<2.0.0,>=1.0.0->vega) (5.3.5)\n",
            "Requirement already satisfied: pexpect in /usr/local/lib/python3.7/dist-packages (from ipython>=4.0.0->ipykernel->jupyter<2.0.0,>=1.0.0->vega) (4.8.0)\n",
            "Requirement already satisfied: prompt-toolkit<2.0.0,>=1.0.4 in /usr/local/lib/python3.7/dist-packages (from ipython>=4.0.0->ipykernel->jupyter<2.0.0,>=1.0.0->vega) (1.0.18)\n",
            "Requirement already satisfied: decorator in /usr/local/lib/python3.7/dist-packages (from ipython>=4.0.0->ipykernel->jupyter<2.0.0,>=1.0.0->vega) (4.4.2)\n",
            "Requirement already satisfied: setuptools>=18.5 in /usr/local/lib/python3.7/dist-packages (from ipython>=4.0.0->ipykernel->jupyter<2.0.0,>=1.0.0->vega) (57.4.0)\n",
            "Requirement already satisfied: pickleshare in /usr/local/lib/python3.7/dist-packages (from ipython>=4.0.0->ipykernel->jupyter<2.0.0,>=1.0.0->vega) (0.7.5)\n",
            "Requirement already satisfied: pygments in /usr/local/lib/python3.7/dist-packages (from ipython>=4.0.0->ipykernel->jupyter<2.0.0,>=1.0.0->vega) (2.6.1)\n",
            "Requirement already satisfied: simplegeneric>0.8 in /usr/local/lib/python3.7/dist-packages (from ipython>=4.0.0->ipykernel->jupyter<2.0.0,>=1.0.0->vega) (0.8.1)\n",
            "Requirement already satisfied: wcwidth in /usr/local/lib/python3.7/dist-packages (from prompt-toolkit<2.0.0,>=1.0.4->ipython>=4.0.0->ipykernel->jupyter<2.0.0,>=1.0.0->vega) (0.2.5)\n",
            "Requirement already satisfied: nbformat>=4.2.0 in /usr/local/lib/python3.7/dist-packages (from ipywidgets->jupyter<2.0.0,>=1.0.0->vega) (5.4.0)\n",
            "Requirement already satisfied: widgetsnbextension~=3.6.0 in /usr/local/lib/python3.7/dist-packages (from ipywidgets->jupyter<2.0.0,>=1.0.0->vega) (3.6.0)\n",
            "Requirement already satisfied: jupyterlab-widgets>=1.0.0 in /usr/local/lib/python3.7/dist-packages (from ipywidgets->jupyter<2.0.0,>=1.0.0->vega) (1.1.0)\n",
            "Requirement already satisfied: ipython-genutils~=0.2.0 in /usr/local/lib/python3.7/dist-packages (from ipywidgets->jupyter<2.0.0,>=1.0.0->vega) (0.2.0)\n",
            "Requirement already satisfied: jsonschema>=2.6 in /usr/local/lib/python3.7/dist-packages (from nbformat>=4.2.0->ipywidgets->jupyter<2.0.0,>=1.0.0->vega) (4.3.3)\n",
            "Requirement already satisfied: jupyter-core in /usr/local/lib/python3.7/dist-packages (from nbformat>=4.2.0->ipywidgets->jupyter<2.0.0,>=1.0.0->vega) (4.10.0)\n",
            "Requirement already satisfied: fastjsonschema in /usr/local/lib/python3.7/dist-packages (from nbformat>=4.2.0->ipywidgets->jupyter<2.0.0,>=1.0.0->vega) (2.15.3)\n",
            "Requirement already satisfied: importlib-metadata in /usr/local/lib/python3.7/dist-packages (from jsonschema>=2.6->nbformat>=4.2.0->ipywidgets->jupyter<2.0.0,>=1.0.0->vega) (4.11.4)\n",
            "Requirement already satisfied: importlib-resources>=1.4.0 in /usr/local/lib/python3.7/dist-packages (from jsonschema>=2.6->nbformat>=4.2.0->ipywidgets->jupyter<2.0.0,>=1.0.0->vega) (5.7.1)\n",
            "Requirement already satisfied: attrs>=17.4.0 in /usr/local/lib/python3.7/dist-packages (from jsonschema>=2.6->nbformat>=4.2.0->ipywidgets->jupyter<2.0.0,>=1.0.0->vega) (21.4.0)\n",
            "Requirement already satisfied: pyrsistent!=0.17.0,!=0.17.1,!=0.17.2,>=0.14.0 in /usr/local/lib/python3.7/dist-packages (from jsonschema>=2.6->nbformat>=4.2.0->ipywidgets->jupyter<2.0.0,>=1.0.0->vega) (0.18.1)\n",
            "Requirement already satisfied: typing-extensions in /usr/local/lib/python3.7/dist-packages (from jsonschema>=2.6->nbformat>=4.2.0->ipywidgets->jupyter<2.0.0,>=1.0.0->vega) (4.1.1)\n",
            "Requirement already satisfied: zipp>=3.1.0 in /usr/local/lib/python3.7/dist-packages (from importlib-resources>=1.4.0->jsonschema>=2.6->nbformat>=4.2.0->ipywidgets->jupyter<2.0.0,>=1.0.0->vega) (3.8.0)\n",
            "Requirement already satisfied: terminado>=0.8.1 in /usr/local/lib/python3.7/dist-packages (from notebook->jupyter<2.0.0,>=1.0.0->vega) (0.13.3)\n",
            "Requirement already satisfied: jinja2 in /usr/local/lib/python3.7/dist-packages (from notebook->jupyter<2.0.0,>=1.0.0->vega) (2.11.3)\n",
            "Requirement already satisfied: Send2Trash in /usr/local/lib/python3.7/dist-packages (from notebook->jupyter<2.0.0,>=1.0.0->vega) (1.8.0)\n",
            "Requirement already satisfied: pyzmq>=13 in /usr/local/lib/python3.7/dist-packages (from jupyter-client->ipykernel->jupyter<2.0.0,>=1.0.0->vega) (23.1.0)\n",
            "Requirement already satisfied: ptyprocess in /usr/local/lib/python3.7/dist-packages (from terminado>=0.8.1->notebook->jupyter<2.0.0,>=1.0.0->vega) (0.7.0)\n",
            "Requirement already satisfied: MarkupSafe>=0.23 in /usr/local/lib/python3.7/dist-packages (from jinja2->notebook->jupyter<2.0.0,>=1.0.0->vega) (2.0.1)\n",
            "Requirement already satisfied: pandocfilters>=1.4.1 in /usr/local/lib/python3.7/dist-packages (from nbconvert->jupyter<2.0.0,>=1.0.0->vega) (1.5.0)\n",
            "Requirement already satisfied: entrypoints>=0.2.2 in /usr/local/lib/python3.7/dist-packages (from nbconvert->jupyter<2.0.0,>=1.0.0->vega) (0.4)\n",
            "Requirement already satisfied: testpath in /usr/local/lib/python3.7/dist-packages (from nbconvert->jupyter<2.0.0,>=1.0.0->vega) (0.6.0)\n",
            "Requirement already satisfied: mistune<2,>=0.8.1 in /usr/local/lib/python3.7/dist-packages (from nbconvert->jupyter<2.0.0,>=1.0.0->vega) (0.8.4)\n",
            "Requirement already satisfied: bleach in /usr/local/lib/python3.7/dist-packages (from nbconvert->jupyter<2.0.0,>=1.0.0->vega) (5.0.0)\n",
            "Requirement already satisfied: defusedxml in /usr/local/lib/python3.7/dist-packages (from nbconvert->jupyter<2.0.0,>=1.0.0->vega) (0.7.1)\n",
            "Requirement already satisfied: webencodings in /usr/local/lib/python3.7/dist-packages (from bleach->nbconvert->jupyter<2.0.0,>=1.0.0->vega) (0.5.1)\n",
            "Requirement already satisfied: qtpy>=2.0.1 in /usr/local/lib/python3.7/dist-packages (from qtconsole->jupyter<2.0.0,>=1.0.0->vega) (2.1.0)\n",
            "Requirement already satisfied: packaging in /usr/local/lib/python3.7/dist-packages (from qtpy>=2.0.1->qtconsole->jupyter<2.0.0,>=1.0.0->vega) (21.3)\n",
            "Requirement already satisfied: pyparsing!=3.0.5,>=2.0.2 in /usr/local/lib/python3.7/dist-packages (from packaging->qtpy>=2.0.1->qtconsole->jupyter<2.0.0,>=1.0.0->vega) (3.0.9)\n",
            "Looking in indexes: https://pypi.org/simple, https://us-python.pkg.dev/colab-wheels/public/simple/\n",
            "Requirement already satisfied: gpdvega in /usr/local/lib/python3.7/dist-packages (0.1.1rc1)\n",
            "Requirement already satisfied: altair in /usr/local/lib/python3.7/dist-packages (from gpdvega) (4.2.0)\n",
            "Requirement already satisfied: geopandas in /usr/local/lib/python3.7/dist-packages (from gpdvega) (0.10.2)\n",
            "Requirement already satisfied: entrypoints in /usr/local/lib/python3.7/dist-packages (from altair->gpdvega) (0.4)\n",
            "Requirement already satisfied: jsonschema>=3.0 in /usr/local/lib/python3.7/dist-packages (from altair->gpdvega) (4.3.3)\n",
            "Requirement already satisfied: pandas>=0.18 in /usr/local/lib/python3.7/dist-packages (from altair->gpdvega) (1.3.5)\n",
            "Requirement already satisfied: numpy in /usr/local/lib/python3.7/dist-packages (from altair->gpdvega) (1.21.6)\n",
            "Requirement already satisfied: toolz in /usr/local/lib/python3.7/dist-packages (from altair->gpdvega) (0.11.2)\n",
            "Requirement already satisfied: jinja2 in /usr/local/lib/python3.7/dist-packages (from altair->gpdvega) (2.11.3)\n",
            "Requirement already satisfied: typing-extensions in /usr/local/lib/python3.7/dist-packages (from jsonschema>=3.0->altair->gpdvega) (4.1.1)\n",
            "Requirement already satisfied: importlib-metadata in /usr/local/lib/python3.7/dist-packages (from jsonschema>=3.0->altair->gpdvega) (4.11.4)\n",
            "Requirement already satisfied: pyrsistent!=0.17.0,!=0.17.1,!=0.17.2,>=0.14.0 in /usr/local/lib/python3.7/dist-packages (from jsonschema>=3.0->altair->gpdvega) (0.18.1)\n",
            "Requirement already satisfied: attrs>=17.4.0 in /usr/local/lib/python3.7/dist-packages (from jsonschema>=3.0->altair->gpdvega) (21.4.0)\n",
            "Requirement already satisfied: importlib-resources>=1.4.0 in /usr/local/lib/python3.7/dist-packages (from jsonschema>=3.0->altair->gpdvega) (5.7.1)\n",
            "Requirement already satisfied: zipp>=3.1.0 in /usr/local/lib/python3.7/dist-packages (from importlib-resources>=1.4.0->jsonschema>=3.0->altair->gpdvega) (3.8.0)\n",
            "Requirement already satisfied: python-dateutil>=2.7.3 in /usr/local/lib/python3.7/dist-packages (from pandas>=0.18->altair->gpdvega) (2.8.2)\n",
            "Requirement already satisfied: pytz>=2017.3 in /usr/local/lib/python3.7/dist-packages (from pandas>=0.18->altair->gpdvega) (2022.1)\n",
            "Requirement already satisfied: six>=1.5 in /usr/local/lib/python3.7/dist-packages (from python-dateutil>=2.7.3->pandas>=0.18->altair->gpdvega) (1.15.0)\n",
            "Requirement already satisfied: fiona>=1.8 in /usr/local/lib/python3.7/dist-packages (from geopandas->gpdvega) (1.8.21)\n",
            "Requirement already satisfied: shapely>=1.6 in /usr/local/lib/python3.7/dist-packages (from geopandas->gpdvega) (1.8.2)\n",
            "Requirement already satisfied: pyproj>=2.2.0 in /usr/local/lib/python3.7/dist-packages (from geopandas->gpdvega) (3.2.1)\n",
            "Requirement already satisfied: click-plugins>=1.0 in /usr/local/lib/python3.7/dist-packages (from fiona>=1.8->geopandas->gpdvega) (1.1.1)\n",
            "Requirement already satisfied: cligj>=0.5 in /usr/local/lib/python3.7/dist-packages (from fiona>=1.8->geopandas->gpdvega) (0.7.2)\n",
            "Requirement already satisfied: certifi in /usr/local/lib/python3.7/dist-packages (from fiona>=1.8->geopandas->gpdvega) (2022.6.15)\n",
            "Requirement already satisfied: click>=4.0 in /usr/local/lib/python3.7/dist-packages (from fiona>=1.8->geopandas->gpdvega) (7.1.2)\n",
            "Requirement already satisfied: setuptools in /usr/local/lib/python3.7/dist-packages (from fiona>=1.8->geopandas->gpdvega) (57.4.0)\n",
            "Requirement already satisfied: munch in /usr/local/lib/python3.7/dist-packages (from fiona>=1.8->geopandas->gpdvega) (2.5.0)\n",
            "Requirement already satisfied: MarkupSafe>=0.23 in /usr/local/lib/python3.7/dist-packages (from jinja2->altair->gpdvega) (2.0.1)\n"
          ]
        }
      ]
    },
    {
      "cell_type": "code",
      "source": [
        "final_df=pd.read_csv('flood.csv')"
      ],
      "metadata": {
        "id": "FykfQahsOmOd"
      },
      "execution_count": 133,
      "outputs": []
    },
    {
      "cell_type": "code",
      "source": [
        "final_df.head()"
      ],
      "metadata": {
        "id": "iYGjfF2uOsXt",
        "colab": {
          "base_uri": "https://localhost:8080/",
          "height": 433
        },
        "outputId": "7bed01b8-4407-4335-b91a-29391430b4d8"
      },
      "execution_count": 134,
      "outputs": [
        {
          "output_type": "execute_result",
          "data": {
            "text/plain": [
              "  Sl.No\\n - India  Year  Area affected in m.ha. - India  \\\n",
              "0               1  1953                            2.29   \n",
              "1               2  1954                            7.49   \n",
              "2               3  1955                            9.44   \n",
              "3               4  1956                            9.24   \n",
              "4               5  1957                            4.86   \n",
              "\n",
              "   Population affected in million - India  \\\n",
              "0                                   24.28   \n",
              "1                                   12.92   \n",
              "2                                   25.27   \n",
              "3                                   14.57   \n",
              "4                                    6.76   \n",
              "\n",
              "   Damage to Crops - Area in m. ha. - India  \\\n",
              "0                                      0.93   \n",
              "1                                      2.61   \n",
              "2                                      5.31   \n",
              "3                                      1.11   \n",
              "4                                      0.45   \n",
              "\n",
              "   Damage to Crops - Value in Rs.Crore - India  \\\n",
              "0                                        42.08   \n",
              "1                                        40.52   \n",
              "2                                        77.80   \n",
              "3                                        44.44   \n",
              "4                                        14.12   \n",
              "\n",
              "   Damage to Houses - Nos. - India  \\\n",
              "0                           264924   \n",
              "1                           199984   \n",
              "2                          1666789   \n",
              "3                           725776   \n",
              "4                           318149   \n",
              "\n",
              "   Damage to Houses - Value in Rs.Crore - India  Cattle Lost Nos. - India  \\\n",
              "0                                         7.420                     47034   \n",
              "1                                         6.561                     22552   \n",
              "2                                        20.945                     72010   \n",
              "3                                         8.047                     16108   \n",
              "4                                         4.979                      7433   \n",
              "\n",
              "   Human live Lost Nos. - India  ...  Area affected in m.ha. - Bihar  \\\n",
              "0                            37  ...                            0.97   \n",
              "1                           279  ...                            2.50   \n",
              "2                           865  ...                            1.77   \n",
              "3                           462  ...                            1.32   \n",
              "4                           352  ...                            0.79   \n",
              "\n",
              "   Population affected in million - Bihar  \\\n",
              "0                                    6.77   \n",
              "1                                    7.67   \n",
              "2                                    7.11   \n",
              "3                                    3.12   \n",
              "4                                    1.73   \n",
              "\n",
              "   Damage to Crops - Area in m. ha. - Bihar  \\\n",
              "0                                      0.93   \n",
              "1                                      1.59   \n",
              "2                                      1.01   \n",
              "3                                       0.4   \n",
              "4                                       0.3   \n",
              "\n",
              "   Damage to Crops - Value in Rs.Crore - Bihar  \\\n",
              "0                                           29   \n",
              "1                                           15   \n",
              "2                                         20.3   \n",
              "3                                         5.22   \n",
              "4                                          Neg   \n",
              "\n",
              "   Damage to Houses - Nos. - Bihar  \\\n",
              "0                           184300   \n",
              "1                           179451   \n",
              "2                           111356   \n",
              "3                            79879   \n",
              "4                            18812   \n",
              "\n",
              "   Damage to Houses - Value in Rs.Crore - Bihar  Cattle Lost Nos. - Bihar  \\\n",
              "0                                             6                        33   \n",
              "1                                             5                      1944   \n",
              "2                                          1.12                        57   \n",
              "3                                          0.51                       138   \n",
              "4                                           Neg                        18   \n",
              "\n",
              "   Human live Lost Nos. - Bihar  \\\n",
              "0                             5   \n",
              "1                            63   \n",
              "2                            44   \n",
              "3                            32   \n",
              "4                             7   \n",
              "\n",
              "   Damage to Public Utilities in Rs.Crore - Bihar  \\\n",
              "0                                             1.5   \n",
              "1                                             1.5   \n",
              "2                                           0.205   \n",
              "3                                             Nil   \n",
              "4                                             Nil   \n",
              "\n",
              "   Total damages Crops, Houses & Public utilities in Rs.Crore (col.6+8+11) - Bihar  \n",
              "0                                               36.5                                \n",
              "1                                               21.5                                \n",
              "2                                             21.625                                \n",
              "3                                               5.73                                \n",
              "4                                                Neg                                \n",
              "\n",
              "[5 rows x 42 columns]"
            ],
            "text/html": [
              "\n",
              "  <div id=\"df-7ad555e4-f638-4e86-8a2a-89363af5b0d2\">\n",
              "    <div class=\"colab-df-container\">\n",
              "      <div>\n",
              "<style scoped>\n",
              "    .dataframe tbody tr th:only-of-type {\n",
              "        vertical-align: middle;\n",
              "    }\n",
              "\n",
              "    .dataframe tbody tr th {\n",
              "        vertical-align: top;\n",
              "    }\n",
              "\n",
              "    .dataframe thead th {\n",
              "        text-align: right;\n",
              "    }\n",
              "</style>\n",
              "<table border=\"1\" class=\"dataframe\">\n",
              "  <thead>\n",
              "    <tr style=\"text-align: right;\">\n",
              "      <th></th>\n",
              "      <th>Sl.No\\n - India</th>\n",
              "      <th>Year</th>\n",
              "      <th>Area affected in m.ha. - India</th>\n",
              "      <th>Population affected in million - India</th>\n",
              "      <th>Damage to Crops - Area in m. ha. - India</th>\n",
              "      <th>Damage to Crops - Value in Rs.Crore - India</th>\n",
              "      <th>Damage to Houses - Nos. - India</th>\n",
              "      <th>Damage to Houses - Value in Rs.Crore - India</th>\n",
              "      <th>Cattle Lost Nos. - India</th>\n",
              "      <th>Human live Lost Nos. - India</th>\n",
              "      <th>...</th>\n",
              "      <th>Area affected in m.ha. - Bihar</th>\n",
              "      <th>Population affected in million - Bihar</th>\n",
              "      <th>Damage to Crops - Area in m. ha. - Bihar</th>\n",
              "      <th>Damage to Crops - Value in Rs.Crore - Bihar</th>\n",
              "      <th>Damage to Houses - Nos. - Bihar</th>\n",
              "      <th>Damage to Houses - Value in Rs.Crore - Bihar</th>\n",
              "      <th>Cattle Lost Nos. - Bihar</th>\n",
              "      <th>Human live Lost Nos. - Bihar</th>\n",
              "      <th>Damage to Public Utilities in Rs.Crore - Bihar</th>\n",
              "      <th>Total damages Crops, Houses &amp; Public utilities in Rs.Crore (col.6+8+11) - Bihar</th>\n",
              "    </tr>\n",
              "  </thead>\n",
              "  <tbody>\n",
              "    <tr>\n",
              "      <th>0</th>\n",
              "      <td>1</td>\n",
              "      <td>1953</td>\n",
              "      <td>2.29</td>\n",
              "      <td>24.28</td>\n",
              "      <td>0.93</td>\n",
              "      <td>42.08</td>\n",
              "      <td>264924</td>\n",
              "      <td>7.420</td>\n",
              "      <td>47034</td>\n",
              "      <td>37</td>\n",
              "      <td>...</td>\n",
              "      <td>0.97</td>\n",
              "      <td>6.77</td>\n",
              "      <td>0.93</td>\n",
              "      <td>29</td>\n",
              "      <td>184300</td>\n",
              "      <td>6</td>\n",
              "      <td>33</td>\n",
              "      <td>5</td>\n",
              "      <td>1.5</td>\n",
              "      <td>36.5</td>\n",
              "    </tr>\n",
              "    <tr>\n",
              "      <th>1</th>\n",
              "      <td>2</td>\n",
              "      <td>1954</td>\n",
              "      <td>7.49</td>\n",
              "      <td>12.92</td>\n",
              "      <td>2.61</td>\n",
              "      <td>40.52</td>\n",
              "      <td>199984</td>\n",
              "      <td>6.561</td>\n",
              "      <td>22552</td>\n",
              "      <td>279</td>\n",
              "      <td>...</td>\n",
              "      <td>2.50</td>\n",
              "      <td>7.67</td>\n",
              "      <td>1.59</td>\n",
              "      <td>15</td>\n",
              "      <td>179451</td>\n",
              "      <td>5</td>\n",
              "      <td>1944</td>\n",
              "      <td>63</td>\n",
              "      <td>1.5</td>\n",
              "      <td>21.5</td>\n",
              "    </tr>\n",
              "    <tr>\n",
              "      <th>2</th>\n",
              "      <td>3</td>\n",
              "      <td>1955</td>\n",
              "      <td>9.44</td>\n",
              "      <td>25.27</td>\n",
              "      <td>5.31</td>\n",
              "      <td>77.80</td>\n",
              "      <td>1666789</td>\n",
              "      <td>20.945</td>\n",
              "      <td>72010</td>\n",
              "      <td>865</td>\n",
              "      <td>...</td>\n",
              "      <td>1.77</td>\n",
              "      <td>7.11</td>\n",
              "      <td>1.01</td>\n",
              "      <td>20.3</td>\n",
              "      <td>111356</td>\n",
              "      <td>1.12</td>\n",
              "      <td>57</td>\n",
              "      <td>44</td>\n",
              "      <td>0.205</td>\n",
              "      <td>21.625</td>\n",
              "    </tr>\n",
              "    <tr>\n",
              "      <th>3</th>\n",
              "      <td>4</td>\n",
              "      <td>1956</td>\n",
              "      <td>9.24</td>\n",
              "      <td>14.57</td>\n",
              "      <td>1.11</td>\n",
              "      <td>44.44</td>\n",
              "      <td>725776</td>\n",
              "      <td>8.047</td>\n",
              "      <td>16108</td>\n",
              "      <td>462</td>\n",
              "      <td>...</td>\n",
              "      <td>1.32</td>\n",
              "      <td>3.12</td>\n",
              "      <td>0.4</td>\n",
              "      <td>5.22</td>\n",
              "      <td>79879</td>\n",
              "      <td>0.51</td>\n",
              "      <td>138</td>\n",
              "      <td>32</td>\n",
              "      <td>Nil</td>\n",
              "      <td>5.73</td>\n",
              "    </tr>\n",
              "    <tr>\n",
              "      <th>4</th>\n",
              "      <td>5</td>\n",
              "      <td>1957</td>\n",
              "      <td>4.86</td>\n",
              "      <td>6.76</td>\n",
              "      <td>0.45</td>\n",
              "      <td>14.12</td>\n",
              "      <td>318149</td>\n",
              "      <td>4.979</td>\n",
              "      <td>7433</td>\n",
              "      <td>352</td>\n",
              "      <td>...</td>\n",
              "      <td>0.79</td>\n",
              "      <td>1.73</td>\n",
              "      <td>0.3</td>\n",
              "      <td>Neg</td>\n",
              "      <td>18812</td>\n",
              "      <td>Neg</td>\n",
              "      <td>18</td>\n",
              "      <td>7</td>\n",
              "      <td>Nil</td>\n",
              "      <td>Neg</td>\n",
              "    </tr>\n",
              "  </tbody>\n",
              "</table>\n",
              "<p>5 rows × 42 columns</p>\n",
              "</div>\n",
              "      <button class=\"colab-df-convert\" onclick=\"convertToInteractive('df-7ad555e4-f638-4e86-8a2a-89363af5b0d2')\"\n",
              "              title=\"Convert this dataframe to an interactive table.\"\n",
              "              style=\"display:none;\">\n",
              "        \n",
              "  <svg xmlns=\"http://www.w3.org/2000/svg\" height=\"24px\"viewBox=\"0 0 24 24\"\n",
              "       width=\"24px\">\n",
              "    <path d=\"M0 0h24v24H0V0z\" fill=\"none\"/>\n",
              "    <path d=\"M18.56 5.44l.94 2.06.94-2.06 2.06-.94-2.06-.94-.94-2.06-.94 2.06-2.06.94zm-11 1L8.5 8.5l.94-2.06 2.06-.94-2.06-.94L8.5 2.5l-.94 2.06-2.06.94zm10 10l.94 2.06.94-2.06 2.06-.94-2.06-.94-.94-2.06-.94 2.06-2.06.94z\"/><path d=\"M17.41 7.96l-1.37-1.37c-.4-.4-.92-.59-1.43-.59-.52 0-1.04.2-1.43.59L10.3 9.45l-7.72 7.72c-.78.78-.78 2.05 0 2.83L4 21.41c.39.39.9.59 1.41.59.51 0 1.02-.2 1.41-.59l7.78-7.78 2.81-2.81c.8-.78.8-2.07 0-2.86zM5.41 20L4 18.59l7.72-7.72 1.47 1.35L5.41 20z\"/>\n",
              "  </svg>\n",
              "      </button>\n",
              "      \n",
              "  <style>\n",
              "    .colab-df-container {\n",
              "      display:flex;\n",
              "      flex-wrap:wrap;\n",
              "      gap: 12px;\n",
              "    }\n",
              "\n",
              "    .colab-df-convert {\n",
              "      background-color: #E8F0FE;\n",
              "      border: none;\n",
              "      border-radius: 50%;\n",
              "      cursor: pointer;\n",
              "      display: none;\n",
              "      fill: #1967D2;\n",
              "      height: 32px;\n",
              "      padding: 0 0 0 0;\n",
              "      width: 32px;\n",
              "    }\n",
              "\n",
              "    .colab-df-convert:hover {\n",
              "      background-color: #E2EBFA;\n",
              "      box-shadow: 0px 1px 2px rgba(60, 64, 67, 0.3), 0px 1px 3px 1px rgba(60, 64, 67, 0.15);\n",
              "      fill: #174EA6;\n",
              "    }\n",
              "\n",
              "    [theme=dark] .colab-df-convert {\n",
              "      background-color: #3B4455;\n",
              "      fill: #D2E3FC;\n",
              "    }\n",
              "\n",
              "    [theme=dark] .colab-df-convert:hover {\n",
              "      background-color: #434B5C;\n",
              "      box-shadow: 0px 1px 3px 1px rgba(0, 0, 0, 0.15);\n",
              "      filter: drop-shadow(0px 1px 2px rgba(0, 0, 0, 0.3));\n",
              "      fill: #FFFFFF;\n",
              "    }\n",
              "  </style>\n",
              "\n",
              "      <script>\n",
              "        const buttonEl =\n",
              "          document.querySelector('#df-7ad555e4-f638-4e86-8a2a-89363af5b0d2 button.colab-df-convert');\n",
              "        buttonEl.style.display =\n",
              "          google.colab.kernel.accessAllowed ? 'block' : 'none';\n",
              "\n",
              "        async function convertToInteractive(key) {\n",
              "          const element = document.querySelector('#df-7ad555e4-f638-4e86-8a2a-89363af5b0d2');\n",
              "          const dataTable =\n",
              "            await google.colab.kernel.invokeFunction('convertToInteractive',\n",
              "                                                     [key], {});\n",
              "          if (!dataTable) return;\n",
              "\n",
              "          const docLinkHtml = 'Like what you see? Visit the ' +\n",
              "            '<a target=\"_blank\" href=https://colab.research.google.com/notebooks/data_table.ipynb>data table notebook</a>'\n",
              "            + ' to learn more about interactive tables.';\n",
              "          element.innerHTML = '';\n",
              "          dataTable['output_type'] = 'display_data';\n",
              "          await google.colab.output.renderOutput(dataTable, element);\n",
              "          const docLink = document.createElement('div');\n",
              "          docLink.innerHTML = docLinkHtml;\n",
              "          element.appendChild(docLink);\n",
              "        }\n",
              "      </script>\n",
              "    </div>\n",
              "  </div>\n",
              "  "
            ]
          },
          "metadata": {},
          "execution_count": 134
        }
      ]
    },
    {
      "cell_type": "code",
      "source": [
        "final_df['Population affected in million - India']=final_df['Population affected in million - India'].astype(int)"
      ],
      "metadata": {
        "id": "XZsJqB_oVj_e"
      },
      "execution_count": 135,
      "outputs": []
    },
    {
      "cell_type": "code",
      "source": [
        "final_df['Population affected in million - India']=final_df['Population affected in million - India'].round()"
      ],
      "metadata": {
        "id": "U7JlUWHeUrdT"
      },
      "execution_count": 136,
      "outputs": []
    },
    {
      "cell_type": "code",
      "source": [
        "final_df.head()"
      ],
      "metadata": {
        "id": "J9j0RM0TV0gk",
        "colab": {
          "base_uri": "https://localhost:8080/",
          "height": 433
        },
        "outputId": "6da0b54f-e8c8-4b4d-f859-fe64c7a08c96"
      },
      "execution_count": 137,
      "outputs": [
        {
          "output_type": "execute_result",
          "data": {
            "text/plain": [
              "  Sl.No\\n - India  Year  Area affected in m.ha. - India  \\\n",
              "0               1  1953                            2.29   \n",
              "1               2  1954                            7.49   \n",
              "2               3  1955                            9.44   \n",
              "3               4  1956                            9.24   \n",
              "4               5  1957                            4.86   \n",
              "\n",
              "   Population affected in million - India  \\\n",
              "0                                      24   \n",
              "1                                      12   \n",
              "2                                      25   \n",
              "3                                      14   \n",
              "4                                       6   \n",
              "\n",
              "   Damage to Crops - Area in m. ha. - India  \\\n",
              "0                                      0.93   \n",
              "1                                      2.61   \n",
              "2                                      5.31   \n",
              "3                                      1.11   \n",
              "4                                      0.45   \n",
              "\n",
              "   Damage to Crops - Value in Rs.Crore - India  \\\n",
              "0                                        42.08   \n",
              "1                                        40.52   \n",
              "2                                        77.80   \n",
              "3                                        44.44   \n",
              "4                                        14.12   \n",
              "\n",
              "   Damage to Houses - Nos. - India  \\\n",
              "0                           264924   \n",
              "1                           199984   \n",
              "2                          1666789   \n",
              "3                           725776   \n",
              "4                           318149   \n",
              "\n",
              "   Damage to Houses - Value in Rs.Crore - India  Cattle Lost Nos. - India  \\\n",
              "0                                         7.420                     47034   \n",
              "1                                         6.561                     22552   \n",
              "2                                        20.945                     72010   \n",
              "3                                         8.047                     16108   \n",
              "4                                         4.979                      7433   \n",
              "\n",
              "   Human live Lost Nos. - India  ...  Area affected in m.ha. - Bihar  \\\n",
              "0                            37  ...                            0.97   \n",
              "1                           279  ...                            2.50   \n",
              "2                           865  ...                            1.77   \n",
              "3                           462  ...                            1.32   \n",
              "4                           352  ...                            0.79   \n",
              "\n",
              "   Population affected in million - Bihar  \\\n",
              "0                                    6.77   \n",
              "1                                    7.67   \n",
              "2                                    7.11   \n",
              "3                                    3.12   \n",
              "4                                    1.73   \n",
              "\n",
              "   Damage to Crops - Area in m. ha. - Bihar  \\\n",
              "0                                      0.93   \n",
              "1                                      1.59   \n",
              "2                                      1.01   \n",
              "3                                       0.4   \n",
              "4                                       0.3   \n",
              "\n",
              "   Damage to Crops - Value in Rs.Crore - Bihar  \\\n",
              "0                                           29   \n",
              "1                                           15   \n",
              "2                                         20.3   \n",
              "3                                         5.22   \n",
              "4                                          Neg   \n",
              "\n",
              "   Damage to Houses - Nos. - Bihar  \\\n",
              "0                           184300   \n",
              "1                           179451   \n",
              "2                           111356   \n",
              "3                            79879   \n",
              "4                            18812   \n",
              "\n",
              "   Damage to Houses - Value in Rs.Crore - Bihar  Cattle Lost Nos. - Bihar  \\\n",
              "0                                             6                        33   \n",
              "1                                             5                      1944   \n",
              "2                                          1.12                        57   \n",
              "3                                          0.51                       138   \n",
              "4                                           Neg                        18   \n",
              "\n",
              "   Human live Lost Nos. - Bihar  \\\n",
              "0                             5   \n",
              "1                            63   \n",
              "2                            44   \n",
              "3                            32   \n",
              "4                             7   \n",
              "\n",
              "   Damage to Public Utilities in Rs.Crore - Bihar  \\\n",
              "0                                             1.5   \n",
              "1                                             1.5   \n",
              "2                                           0.205   \n",
              "3                                             Nil   \n",
              "4                                             Nil   \n",
              "\n",
              "   Total damages Crops, Houses & Public utilities in Rs.Crore (col.6+8+11) - Bihar  \n",
              "0                                               36.5                                \n",
              "1                                               21.5                                \n",
              "2                                             21.625                                \n",
              "3                                               5.73                                \n",
              "4                                                Neg                                \n",
              "\n",
              "[5 rows x 42 columns]"
            ],
            "text/html": [
              "\n",
              "  <div id=\"df-fd43cfbd-01ab-4572-ba8a-ec217760ce1b\">\n",
              "    <div class=\"colab-df-container\">\n",
              "      <div>\n",
              "<style scoped>\n",
              "    .dataframe tbody tr th:only-of-type {\n",
              "        vertical-align: middle;\n",
              "    }\n",
              "\n",
              "    .dataframe tbody tr th {\n",
              "        vertical-align: top;\n",
              "    }\n",
              "\n",
              "    .dataframe thead th {\n",
              "        text-align: right;\n",
              "    }\n",
              "</style>\n",
              "<table border=\"1\" class=\"dataframe\">\n",
              "  <thead>\n",
              "    <tr style=\"text-align: right;\">\n",
              "      <th></th>\n",
              "      <th>Sl.No\\n - India</th>\n",
              "      <th>Year</th>\n",
              "      <th>Area affected in m.ha. - India</th>\n",
              "      <th>Population affected in million - India</th>\n",
              "      <th>Damage to Crops - Area in m. ha. - India</th>\n",
              "      <th>Damage to Crops - Value in Rs.Crore - India</th>\n",
              "      <th>Damage to Houses - Nos. - India</th>\n",
              "      <th>Damage to Houses - Value in Rs.Crore - India</th>\n",
              "      <th>Cattle Lost Nos. - India</th>\n",
              "      <th>Human live Lost Nos. - India</th>\n",
              "      <th>...</th>\n",
              "      <th>Area affected in m.ha. - Bihar</th>\n",
              "      <th>Population affected in million - Bihar</th>\n",
              "      <th>Damage to Crops - Area in m. ha. - Bihar</th>\n",
              "      <th>Damage to Crops - Value in Rs.Crore - Bihar</th>\n",
              "      <th>Damage to Houses - Nos. - Bihar</th>\n",
              "      <th>Damage to Houses - Value in Rs.Crore - Bihar</th>\n",
              "      <th>Cattle Lost Nos. - Bihar</th>\n",
              "      <th>Human live Lost Nos. - Bihar</th>\n",
              "      <th>Damage to Public Utilities in Rs.Crore - Bihar</th>\n",
              "      <th>Total damages Crops, Houses &amp; Public utilities in Rs.Crore (col.6+8+11) - Bihar</th>\n",
              "    </tr>\n",
              "  </thead>\n",
              "  <tbody>\n",
              "    <tr>\n",
              "      <th>0</th>\n",
              "      <td>1</td>\n",
              "      <td>1953</td>\n",
              "      <td>2.29</td>\n",
              "      <td>24</td>\n",
              "      <td>0.93</td>\n",
              "      <td>42.08</td>\n",
              "      <td>264924</td>\n",
              "      <td>7.420</td>\n",
              "      <td>47034</td>\n",
              "      <td>37</td>\n",
              "      <td>...</td>\n",
              "      <td>0.97</td>\n",
              "      <td>6.77</td>\n",
              "      <td>0.93</td>\n",
              "      <td>29</td>\n",
              "      <td>184300</td>\n",
              "      <td>6</td>\n",
              "      <td>33</td>\n",
              "      <td>5</td>\n",
              "      <td>1.5</td>\n",
              "      <td>36.5</td>\n",
              "    </tr>\n",
              "    <tr>\n",
              "      <th>1</th>\n",
              "      <td>2</td>\n",
              "      <td>1954</td>\n",
              "      <td>7.49</td>\n",
              "      <td>12</td>\n",
              "      <td>2.61</td>\n",
              "      <td>40.52</td>\n",
              "      <td>199984</td>\n",
              "      <td>6.561</td>\n",
              "      <td>22552</td>\n",
              "      <td>279</td>\n",
              "      <td>...</td>\n",
              "      <td>2.50</td>\n",
              "      <td>7.67</td>\n",
              "      <td>1.59</td>\n",
              "      <td>15</td>\n",
              "      <td>179451</td>\n",
              "      <td>5</td>\n",
              "      <td>1944</td>\n",
              "      <td>63</td>\n",
              "      <td>1.5</td>\n",
              "      <td>21.5</td>\n",
              "    </tr>\n",
              "    <tr>\n",
              "      <th>2</th>\n",
              "      <td>3</td>\n",
              "      <td>1955</td>\n",
              "      <td>9.44</td>\n",
              "      <td>25</td>\n",
              "      <td>5.31</td>\n",
              "      <td>77.80</td>\n",
              "      <td>1666789</td>\n",
              "      <td>20.945</td>\n",
              "      <td>72010</td>\n",
              "      <td>865</td>\n",
              "      <td>...</td>\n",
              "      <td>1.77</td>\n",
              "      <td>7.11</td>\n",
              "      <td>1.01</td>\n",
              "      <td>20.3</td>\n",
              "      <td>111356</td>\n",
              "      <td>1.12</td>\n",
              "      <td>57</td>\n",
              "      <td>44</td>\n",
              "      <td>0.205</td>\n",
              "      <td>21.625</td>\n",
              "    </tr>\n",
              "    <tr>\n",
              "      <th>3</th>\n",
              "      <td>4</td>\n",
              "      <td>1956</td>\n",
              "      <td>9.24</td>\n",
              "      <td>14</td>\n",
              "      <td>1.11</td>\n",
              "      <td>44.44</td>\n",
              "      <td>725776</td>\n",
              "      <td>8.047</td>\n",
              "      <td>16108</td>\n",
              "      <td>462</td>\n",
              "      <td>...</td>\n",
              "      <td>1.32</td>\n",
              "      <td>3.12</td>\n",
              "      <td>0.4</td>\n",
              "      <td>5.22</td>\n",
              "      <td>79879</td>\n",
              "      <td>0.51</td>\n",
              "      <td>138</td>\n",
              "      <td>32</td>\n",
              "      <td>Nil</td>\n",
              "      <td>5.73</td>\n",
              "    </tr>\n",
              "    <tr>\n",
              "      <th>4</th>\n",
              "      <td>5</td>\n",
              "      <td>1957</td>\n",
              "      <td>4.86</td>\n",
              "      <td>6</td>\n",
              "      <td>0.45</td>\n",
              "      <td>14.12</td>\n",
              "      <td>318149</td>\n",
              "      <td>4.979</td>\n",
              "      <td>7433</td>\n",
              "      <td>352</td>\n",
              "      <td>...</td>\n",
              "      <td>0.79</td>\n",
              "      <td>1.73</td>\n",
              "      <td>0.3</td>\n",
              "      <td>Neg</td>\n",
              "      <td>18812</td>\n",
              "      <td>Neg</td>\n",
              "      <td>18</td>\n",
              "      <td>7</td>\n",
              "      <td>Nil</td>\n",
              "      <td>Neg</td>\n",
              "    </tr>\n",
              "  </tbody>\n",
              "</table>\n",
              "<p>5 rows × 42 columns</p>\n",
              "</div>\n",
              "      <button class=\"colab-df-convert\" onclick=\"convertToInteractive('df-fd43cfbd-01ab-4572-ba8a-ec217760ce1b')\"\n",
              "              title=\"Convert this dataframe to an interactive table.\"\n",
              "              style=\"display:none;\">\n",
              "        \n",
              "  <svg xmlns=\"http://www.w3.org/2000/svg\" height=\"24px\"viewBox=\"0 0 24 24\"\n",
              "       width=\"24px\">\n",
              "    <path d=\"M0 0h24v24H0V0z\" fill=\"none\"/>\n",
              "    <path d=\"M18.56 5.44l.94 2.06.94-2.06 2.06-.94-2.06-.94-.94-2.06-.94 2.06-2.06.94zm-11 1L8.5 8.5l.94-2.06 2.06-.94-2.06-.94L8.5 2.5l-.94 2.06-2.06.94zm10 10l.94 2.06.94-2.06 2.06-.94-2.06-.94-.94-2.06-.94 2.06-2.06.94z\"/><path d=\"M17.41 7.96l-1.37-1.37c-.4-.4-.92-.59-1.43-.59-.52 0-1.04.2-1.43.59L10.3 9.45l-7.72 7.72c-.78.78-.78 2.05 0 2.83L4 21.41c.39.39.9.59 1.41.59.51 0 1.02-.2 1.41-.59l7.78-7.78 2.81-2.81c.8-.78.8-2.07 0-2.86zM5.41 20L4 18.59l7.72-7.72 1.47 1.35L5.41 20z\"/>\n",
              "  </svg>\n",
              "      </button>\n",
              "      \n",
              "  <style>\n",
              "    .colab-df-container {\n",
              "      display:flex;\n",
              "      flex-wrap:wrap;\n",
              "      gap: 12px;\n",
              "    }\n",
              "\n",
              "    .colab-df-convert {\n",
              "      background-color: #E8F0FE;\n",
              "      border: none;\n",
              "      border-radius: 50%;\n",
              "      cursor: pointer;\n",
              "      display: none;\n",
              "      fill: #1967D2;\n",
              "      height: 32px;\n",
              "      padding: 0 0 0 0;\n",
              "      width: 32px;\n",
              "    }\n",
              "\n",
              "    .colab-df-convert:hover {\n",
              "      background-color: #E2EBFA;\n",
              "      box-shadow: 0px 1px 2px rgba(60, 64, 67, 0.3), 0px 1px 3px 1px rgba(60, 64, 67, 0.15);\n",
              "      fill: #174EA6;\n",
              "    }\n",
              "\n",
              "    [theme=dark] .colab-df-convert {\n",
              "      background-color: #3B4455;\n",
              "      fill: #D2E3FC;\n",
              "    }\n",
              "\n",
              "    [theme=dark] .colab-df-convert:hover {\n",
              "      background-color: #434B5C;\n",
              "      box-shadow: 0px 1px 3px 1px rgba(0, 0, 0, 0.15);\n",
              "      filter: drop-shadow(0px 1px 2px rgba(0, 0, 0, 0.3));\n",
              "      fill: #FFFFFF;\n",
              "    }\n",
              "  </style>\n",
              "\n",
              "      <script>\n",
              "        const buttonEl =\n",
              "          document.querySelector('#df-fd43cfbd-01ab-4572-ba8a-ec217760ce1b button.colab-df-convert');\n",
              "        buttonEl.style.display =\n",
              "          google.colab.kernel.accessAllowed ? 'block' : 'none';\n",
              "\n",
              "        async function convertToInteractive(key) {\n",
              "          const element = document.querySelector('#df-fd43cfbd-01ab-4572-ba8a-ec217760ce1b');\n",
              "          const dataTable =\n",
              "            await google.colab.kernel.invokeFunction('convertToInteractive',\n",
              "                                                     [key], {});\n",
              "          if (!dataTable) return;\n",
              "\n",
              "          const docLinkHtml = 'Like what you see? Visit the ' +\n",
              "            '<a target=\"_blank\" href=https://colab.research.google.com/notebooks/data_table.ipynb>data table notebook</a>'\n",
              "            + ' to learn more about interactive tables.';\n",
              "          element.innerHTML = '';\n",
              "          dataTable['output_type'] = 'display_data';\n",
              "          await google.colab.output.renderOutput(dataTable, element);\n",
              "          const docLink = document.createElement('div');\n",
              "          docLink.innerHTML = docLinkHtml;\n",
              "          element.appendChild(docLink);\n",
              "        }\n",
              "      </script>\n",
              "    </div>\n",
              "  </div>\n",
              "  "
            ]
          },
          "metadata": {},
          "execution_count": 137
        }
      ]
    },
    {
      "cell_type": "code",
      "source": [
        "final_df.info()"
      ],
      "metadata": {
        "id": "JVLQoenUO0QM",
        "colab": {
          "base_uri": "https://localhost:8080/"
        },
        "outputId": "0e06ed13-6b3d-4bbb-fe4f-a852db6af46d"
      },
      "execution_count": 138,
      "outputs": [
        {
          "output_type": "stream",
          "name": "stdout",
          "text": [
            "<class 'pandas.core.frame.DataFrame'>\n",
            "RangeIndex: 69 entries, 0 to 68\n",
            "Data columns (total 42 columns):\n",
            " #   Column                                                                                    Non-Null Count  Dtype  \n",
            "---  ------                                                                                    --------------  -----  \n",
            " 0   Sl.No\n",
            " - India                                                                            69 non-null     object \n",
            " 1   Year                                                                                      69 non-null     object \n",
            " 2   Area affected in m.ha. - India                                                            69 non-null     float64\n",
            " 3   Population affected in million - India                                                    69 non-null     int64  \n",
            " 4   Damage to Crops - Area in m. ha. - India                                                  69 non-null     float64\n",
            " 5   Damage to Crops - Value in Rs.Crore - India                                               69 non-null     float64\n",
            " 6   Damage to Houses - Nos. - India                                                           69 non-null     int64  \n",
            " 7   Damage to Houses - Value in Rs.Crore - India                                              69 non-null     float64\n",
            " 8   Cattle Lost Nos. - India                                                                  69 non-null     int64  \n",
            " 9   Human live Lost Nos. - India                                                              69 non-null     int64  \n",
            " 10  Damage to Public Utilities in Rs.Crore - India                                            69 non-null     float64\n",
            " 11  Total Damages Crops, Houses & Public utilities in Rs.Crore (col.6+8+11) - India           69 non-null     float64\n",
            " 12  Area affected in m.ha. - Uttar Pradesh                                                    67 non-null     float64\n",
            " 13  Population affected in million - Uttar Pradesh                                            69 non-null     float64\n",
            " 14  Damage to Crops - Area in m. ha. - Uttar Pradesh                                          68 non-null     float64\n",
            " 15  Damage to Crops - Value in Rs.Crore - Uttar Pradesh                                       67 non-null     float64\n",
            " 16  Damage to Houses - Nos. - Uttar Pradesh                                                   69 non-null     int64  \n",
            " 17  Damage to Houses - Value in Rs.Crore - Uttar Pradesh                                      66 non-null     float64\n",
            " 18  Cattle Lost Nos. - Uttar Pradesh                                                          68 non-null     float64\n",
            " 19  Human live Lost Nos. - Uttar Pradesh                                                      68 non-null     float64\n",
            " 20  Damage to Public Utilities in Rs.Crore - Uttar Pradesh                                    66 non-null     object \n",
            " 21  Total damages Crops, Houses & Public utilities in Rs.Crore (col.6+8+11) - Uttar Pradesh   68 non-null     float64\n",
            " 22  Area affected in m.ha. - Madhya Pradesh                                                   68 non-null     object \n",
            " 23  Population affected in million - Madhya Pradesh                                           68 non-null     object \n",
            " 24  Damage to Crops - Area in m. ha. - Madhya Pradesh                                         67 non-null     object \n",
            " 25  Damage to Crops - Value in Rs.Crore - Madhya Pradesh                                      66 non-null     object \n",
            " 26  Damage to Houses - Nos. - Madhya Pradesh                                                  68 non-null     object \n",
            " 27  Damage to Houses - Value in Rs.Crore - Madhya Pradesh                                     66 non-null     object \n",
            " 28  Cattle Lost Nos. - Madhya Pradesh                                                         68 non-null     object \n",
            " 29  Human live Lost Nos. - Madhya Pradesh                                                     68 non-null     object \n",
            " 30  Damage to Public Utilities in Rs.Crore - Madhya Pradesh                                   68 non-null     object \n",
            " 31  Total damages Crops, Houses & Public utilities in Rs.Crore (col.6+8+11) - Madhya Pradesh  69 non-null     object \n",
            " 32  Area affected in m.ha. - Bihar                                                            67 non-null     float64\n",
            " 33  Population affected in million - Bihar                                                    68 non-null     float64\n",
            " 34  Damage to Crops - Area in m. ha. - Bihar                                                  69 non-null     object \n",
            " 35  Damage to Crops - Value in Rs.Crore - Bihar                                               67 non-null     object \n",
            " 36  Damage to Houses - Nos. - Bihar                                                           69 non-null     int64  \n",
            " 37  Damage to Houses - Value in Rs.Crore - Bihar                                              68 non-null     object \n",
            " 38  Cattle Lost Nos. - Bihar                                                                  68 non-null     object \n",
            " 39  Human live Lost Nos. - Bihar                                                              69 non-null     object \n",
            " 40  Damage to Public Utilities in Rs.Crore - Bihar                                            68 non-null     object \n",
            " 41  Total damages Crops, Houses & Public utilities in Rs.Crore (col.6+8+11) - Bihar           69 non-null     object \n",
            "dtypes: float64(16), int64(6), object(20)\n",
            "memory usage: 22.8+ KB\n"
          ]
        }
      ]
    },
    {
      "cell_type": "code",
      "source": [
        "final_df.isnull().sum()"
      ],
      "metadata": {
        "id": "_VMKy1eqO94m",
        "colab": {
          "base_uri": "https://localhost:8080/"
        },
        "outputId": "95639d25-7f24-4d45-88d6-e409f3e55e97"
      },
      "execution_count": 139,
      "outputs": [
        {
          "output_type": "execute_result",
          "data": {
            "text/plain": [
              "Sl.No\\n - India                                                                             0\n",
              "Year                                                                                        0\n",
              "Area affected in m.ha. - India                                                              0\n",
              "Population affected in million - India                                                      0\n",
              "Damage to Crops - Area in m. ha. - India                                                    0\n",
              "Damage to Crops - Value in Rs.Crore - India                                                 0\n",
              "Damage to Houses - Nos. - India                                                             0\n",
              "Damage to Houses - Value in Rs.Crore - India                                                0\n",
              "Cattle Lost Nos. - India                                                                    0\n",
              "Human live Lost Nos. - India                                                                0\n",
              "Damage to Public Utilities in Rs.Crore - India                                              0\n",
              "Total Damages Crops, Houses & Public utilities in Rs.Crore (col.6+8+11) - India             0\n",
              "Area affected in m.ha. - Uttar Pradesh                                                      2\n",
              "Population affected in million - Uttar Pradesh                                              0\n",
              "Damage to Crops - Area in m. ha. - Uttar Pradesh                                            1\n",
              "Damage to Crops - Value in Rs.Crore - Uttar Pradesh                                         2\n",
              "Damage to Houses - Nos. - Uttar Pradesh                                                     0\n",
              "Damage to Houses - Value in Rs.Crore - Uttar Pradesh                                        3\n",
              "Cattle Lost Nos. - Uttar Pradesh                                                            1\n",
              "Human live Lost Nos. - Uttar Pradesh                                                        1\n",
              "Damage to Public Utilities in Rs.Crore - Uttar Pradesh                                      3\n",
              "Total damages Crops, Houses & Public utilities in Rs.Crore (col.6+8+11) - Uttar Pradesh     1\n",
              "Area affected in m.ha. - Madhya Pradesh                                                     1\n",
              "Population affected in million - Madhya Pradesh                                             1\n",
              "Damage to Crops - Area in m. ha. - Madhya Pradesh                                           2\n",
              "Damage to Crops - Value in Rs.Crore - Madhya Pradesh                                        3\n",
              "Damage to Houses - Nos. - Madhya Pradesh                                                    1\n",
              "Damage to Houses - Value in Rs.Crore - Madhya Pradesh                                       3\n",
              "Cattle Lost Nos. - Madhya Pradesh                                                           1\n",
              "Human live Lost Nos. - Madhya Pradesh                                                       1\n",
              "Damage to Public Utilities in Rs.Crore - Madhya Pradesh                                     1\n",
              "Total damages Crops, Houses & Public utilities in Rs.Crore (col.6+8+11) - Madhya Pradesh    0\n",
              "Area affected in m.ha. - Bihar                                                              2\n",
              "Population affected in million - Bihar                                                      1\n",
              "Damage to Crops - Area in m. ha. - Bihar                                                    0\n",
              "Damage to Crops - Value in Rs.Crore - Bihar                                                 2\n",
              "Damage to Houses - Nos. - Bihar                                                             0\n",
              "Damage to Houses - Value in Rs.Crore - Bihar                                                1\n",
              "Cattle Lost Nos. - Bihar                                                                    1\n",
              "Human live Lost Nos. - Bihar                                                                0\n",
              "Damage to Public Utilities in Rs.Crore - Bihar                                              1\n",
              "Total damages Crops, Houses & Public utilities in Rs.Crore (col.6+8+11) - Bihar             0\n",
              "dtype: int64"
            ]
          },
          "metadata": {},
          "execution_count": 139
        }
      ]
    },
    {
      "cell_type": "code",
      "source": [
        "final_df['Human live Lost Nos. - Bihar']=final_df['Human live Lost Nos. - Bihar'].str.replace('Nil','0')"
      ],
      "metadata": {
        "id": "AspAA0w1OQJS"
      },
      "execution_count": 140,
      "outputs": []
    },
    {
      "cell_type": "code",
      "source": [
        "final_df['Human live Lost Nos. - Madhya Pradesh']=final_df['Human live Lost Nos. - Madhya Pradesh'].str.replace('Nil','0')"
      ],
      "metadata": {
        "id": "aJNd8PLjOjRx"
      },
      "execution_count": 141,
      "outputs": []
    },
    {
      "cell_type": "code",
      "source": [
        "final_df['Human live Lost Nos. - Madhya Pradesh'].astype(float)"
      ],
      "metadata": {
        "id": "QKNBDCgsOoi2",
        "colab": {
          "base_uri": "https://localhost:8080/"
        },
        "outputId": "ba6fd335-ae6c-45e9-9cb7-4c8a7b710e82"
      },
      "execution_count": 142,
      "outputs": [
        {
          "output_type": "execute_result",
          "data": {
            "text/plain": [
              "0        2.0\n",
              "1       10.0\n",
              "2        5.0\n",
              "3        0.0\n",
              "4        0.0\n",
              "       ...  \n",
              "64       NaN\n",
              "65    2564.0\n",
              "66      51.0\n",
              "67     390.0\n",
              "68    2014.0\n",
              "Name: Human live Lost Nos. - Madhya Pradesh, Length: 69, dtype: float64"
            ]
          },
          "metadata": {},
          "execution_count": 142
        }
      ]
    },
    {
      "cell_type": "code",
      "source": [
        "final_df['Human live Lost Nos. - Bihar'].astype(float)"
      ],
      "metadata": {
        "id": "zEUnL1i5Nj9Q",
        "colab": {
          "base_uri": "https://localhost:8080/"
        },
        "outputId": "f873605f-c889-41c5-9e99-4a965b4b0b40"
      },
      "execution_count": 143,
      "outputs": [
        {
          "output_type": "execute_result",
          "data": {
            "text/plain": [
              "0         5.0\n",
              "1        63.0\n",
              "2        44.0\n",
              "3        32.0\n",
              "4         7.0\n",
              "       ...   \n",
              "64      514.0\n",
              "65    11088.0\n",
              "66      179.0\n",
              "67     1287.0\n",
              "68     2007.0\n",
              "Name: Human live Lost Nos. - Bihar, Length: 69, dtype: float64"
            ]
          },
          "metadata": {},
          "execution_count": 143
        }
      ]
    },
    {
      "cell_type": "code",
      "source": [
        "final_df['Damage to Houses - Value in Rs.Crore - Uttar Pradesh'].unique()"
      ],
      "metadata": {
        "id": "Xw4pgf2kPKtj",
        "colab": {
          "base_uri": "https://localhost:8080/"
        },
        "outputId": "8e2ddca7-315a-4a86-e531-078e00833015"
      },
      "execution_count": 144,
      "outputs": [
        {
          "output_type": "execute_result",
          "data": {
            "text/plain": [
              "array([1.110000e+00, 1.900000e-01, 2.820000e+00, 6.600000e+00,\n",
              "       4.620000e+00, 0.000000e+00, 2.700000e-02, 1.172000e+00,\n",
              "       2.741000e+00, 3.200000e-01, 1.000000e-02, 7.080000e-01,\n",
              "       5.003000e+00, 3.930000e-01, 2.765000e+00, 2.080000e+01,\n",
              "       2.025700e+01, 1.010000e+00, 1.076800e+01, 1.278500e+01,\n",
              "       2.908000e+00, 2.250000e+01, 5.000000e+00, 9.000000e+01,\n",
              "       1.722000e+00, 1.001240e+02, 1.227760e+02, 2.545500e+02,\n",
              "       1.291300e+02, 2.149000e+01, 2.480800e+02, 2.056400e+01,\n",
              "       3.894000e+01, 1.484200e+02, 6.052000e+01, 3.135000e+01,\n",
              "       5.558000e+01, 1.186300e+02, 3.712100e+01, 7.000000e+01,\n",
              "       5.934600e+01, 3.005000e+00, 1.353900e+01, 1.785000e+01,\n",
              "       1.202000e+00, 9.985900e+01, 1.330000e+00, 2.130540e+02,\n",
              "       4.277000e+00, 7.936800e+01, 1.119900e+01,          nan,\n",
              "       2.177533e+03, 3.512100e+01, 1.982000e+03])"
            ]
          },
          "metadata": {},
          "execution_count": 144
        }
      ]
    },
    {
      "cell_type": "code",
      "source": [
        "final_df[final_df['Damage to Houses - Value in Rs.Crore - Uttar Pradesh'].isnull()]"
      ],
      "metadata": {
        "id": "nctvp59FQOJj",
        "colab": {
          "base_uri": "https://localhost:8080/",
          "height": 371
        },
        "outputId": "434eb1e8-3fc7-46c9-a044-a6a6fa4e05c3"
      },
      "execution_count": 145,
      "outputs": [
        {
          "output_type": "execute_result",
          "data": {
            "text/plain": [
              "   Sl.No\\n - India  Year  Area affected in m.ha. - India  \\\n",
              "62              63  2015                           4.478   \n",
              "63              64  2016                           7.065   \n",
              "64              65  2017                           0.000   \n",
              "\n",
              "    Population affected in million - India  \\\n",
              "62                                      33   \n",
              "63                                      26   \n",
              "64                                      17   \n",
              "\n",
              "    Damage to Crops - Area in m. ha. - India  \\\n",
              "62                                     3.374   \n",
              "63                                     6.658   \n",
              "64                                     5.124   \n",
              "\n",
              "    Damage to Crops - Value in Rs.Crore - India  \\\n",
              "62                                    17043.948   \n",
              "63                                     4052.723   \n",
              "64                                     6923.800   \n",
              "\n",
              "    Damage to Houses - Nos. - India  \\\n",
              "62                          3959191   \n",
              "63                           278240   \n",
              "64                          1151755   \n",
              "\n",
              "    Damage to Houses - Value in Rs.Crore - India  Cattle Lost Nos. - India  \\\n",
              "62                                      8046.969                     45597   \n",
              "63                                       114.676                     22367   \n",
              "64                                      9176.480                      5473   \n",
              "\n",
              "    Human live Lost Nos. - India  ...  Area affected in m.ha. - Bihar  \\\n",
              "62                          1420  ...                             NaN   \n",
              "63                          1420  ...                            0.41   \n",
              "64                          2015  ...                             NaN   \n",
              "\n",
              "    Population affected in million - Bihar  \\\n",
              "62                                   0.279   \n",
              "63                                   8.823   \n",
              "64                                     NaN   \n",
              "\n",
              "    Damage to Crops - Area in m. ha. - Bihar  \\\n",
              "62                                         0   \n",
              "63                                      0.41   \n",
              "64                                      0.81   \n",
              "\n",
              "    Damage to Crops - Value in Rs.Crore - Bihar  \\\n",
              "62                                          NaN   \n",
              "63                                       443.53   \n",
              "64                                          NaN   \n",
              "\n",
              "    Damage to Houses - Nos. - Bihar  \\\n",
              "62                              518   \n",
              "63                            16717   \n",
              "64                           118410   \n",
              "\n",
              "    Damage to Houses - Value in Rs.Crore - Bihar  Cattle Lost Nos. - Bihar  \\\n",
              "62                                         0.694                         1   \n",
              "63                                        44.262                       246   \n",
              "64                                           NaN                       NaN   \n",
              "\n",
              "    Human live Lost Nos. - Bihar  \\\n",
              "62                            27   \n",
              "63                           254   \n",
              "64                           514   \n",
              "\n",
              "    Damage to Public Utilities in Rs.Crore - Bihar  \\\n",
              "62                                              62   \n",
              "63                                           40.97   \n",
              "64                                             NaN   \n",
              "\n",
              "    Total damages Crops, Houses & Public utilities in Rs.Crore (col.6+8+11) - Bihar  \n",
              "62                                             62.694                                \n",
              "63                                            528.762                                \n",
              "64                                                  0                                \n",
              "\n",
              "[3 rows x 42 columns]"
            ],
            "text/html": [
              "\n",
              "  <div id=\"df-708a02a7-f432-4088-94bd-d0b2aaefa59d\">\n",
              "    <div class=\"colab-df-container\">\n",
              "      <div>\n",
              "<style scoped>\n",
              "    .dataframe tbody tr th:only-of-type {\n",
              "        vertical-align: middle;\n",
              "    }\n",
              "\n",
              "    .dataframe tbody tr th {\n",
              "        vertical-align: top;\n",
              "    }\n",
              "\n",
              "    .dataframe thead th {\n",
              "        text-align: right;\n",
              "    }\n",
              "</style>\n",
              "<table border=\"1\" class=\"dataframe\">\n",
              "  <thead>\n",
              "    <tr style=\"text-align: right;\">\n",
              "      <th></th>\n",
              "      <th>Sl.No\\n - India</th>\n",
              "      <th>Year</th>\n",
              "      <th>Area affected in m.ha. - India</th>\n",
              "      <th>Population affected in million - India</th>\n",
              "      <th>Damage to Crops - Area in m. ha. - India</th>\n",
              "      <th>Damage to Crops - Value in Rs.Crore - India</th>\n",
              "      <th>Damage to Houses - Nos. - India</th>\n",
              "      <th>Damage to Houses - Value in Rs.Crore - India</th>\n",
              "      <th>Cattle Lost Nos. - India</th>\n",
              "      <th>Human live Lost Nos. - India</th>\n",
              "      <th>...</th>\n",
              "      <th>Area affected in m.ha. - Bihar</th>\n",
              "      <th>Population affected in million - Bihar</th>\n",
              "      <th>Damage to Crops - Area in m. ha. - Bihar</th>\n",
              "      <th>Damage to Crops - Value in Rs.Crore - Bihar</th>\n",
              "      <th>Damage to Houses - Nos. - Bihar</th>\n",
              "      <th>Damage to Houses - Value in Rs.Crore - Bihar</th>\n",
              "      <th>Cattle Lost Nos. - Bihar</th>\n",
              "      <th>Human live Lost Nos. - Bihar</th>\n",
              "      <th>Damage to Public Utilities in Rs.Crore - Bihar</th>\n",
              "      <th>Total damages Crops, Houses &amp; Public utilities in Rs.Crore (col.6+8+11) - Bihar</th>\n",
              "    </tr>\n",
              "  </thead>\n",
              "  <tbody>\n",
              "    <tr>\n",
              "      <th>62</th>\n",
              "      <td>63</td>\n",
              "      <td>2015</td>\n",
              "      <td>4.478</td>\n",
              "      <td>33</td>\n",
              "      <td>3.374</td>\n",
              "      <td>17043.948</td>\n",
              "      <td>3959191</td>\n",
              "      <td>8046.969</td>\n",
              "      <td>45597</td>\n",
              "      <td>1420</td>\n",
              "      <td>...</td>\n",
              "      <td>NaN</td>\n",
              "      <td>0.279</td>\n",
              "      <td>0</td>\n",
              "      <td>NaN</td>\n",
              "      <td>518</td>\n",
              "      <td>0.694</td>\n",
              "      <td>1</td>\n",
              "      <td>27</td>\n",
              "      <td>62</td>\n",
              "      <td>62.694</td>\n",
              "    </tr>\n",
              "    <tr>\n",
              "      <th>63</th>\n",
              "      <td>64</td>\n",
              "      <td>2016</td>\n",
              "      <td>7.065</td>\n",
              "      <td>26</td>\n",
              "      <td>6.658</td>\n",
              "      <td>4052.723</td>\n",
              "      <td>278240</td>\n",
              "      <td>114.676</td>\n",
              "      <td>22367</td>\n",
              "      <td>1420</td>\n",
              "      <td>...</td>\n",
              "      <td>0.41</td>\n",
              "      <td>8.823</td>\n",
              "      <td>0.41</td>\n",
              "      <td>443.53</td>\n",
              "      <td>16717</td>\n",
              "      <td>44.262</td>\n",
              "      <td>246</td>\n",
              "      <td>254</td>\n",
              "      <td>40.97</td>\n",
              "      <td>528.762</td>\n",
              "    </tr>\n",
              "    <tr>\n",
              "      <th>64</th>\n",
              "      <td>65</td>\n",
              "      <td>2017</td>\n",
              "      <td>0.000</td>\n",
              "      <td>17</td>\n",
              "      <td>5.124</td>\n",
              "      <td>6923.800</td>\n",
              "      <td>1151755</td>\n",
              "      <td>9176.480</td>\n",
              "      <td>5473</td>\n",
              "      <td>2015</td>\n",
              "      <td>...</td>\n",
              "      <td>NaN</td>\n",
              "      <td>NaN</td>\n",
              "      <td>0.81</td>\n",
              "      <td>NaN</td>\n",
              "      <td>118410</td>\n",
              "      <td>NaN</td>\n",
              "      <td>NaN</td>\n",
              "      <td>514</td>\n",
              "      <td>NaN</td>\n",
              "      <td>0</td>\n",
              "    </tr>\n",
              "  </tbody>\n",
              "</table>\n",
              "<p>3 rows × 42 columns</p>\n",
              "</div>\n",
              "      <button class=\"colab-df-convert\" onclick=\"convertToInteractive('df-708a02a7-f432-4088-94bd-d0b2aaefa59d')\"\n",
              "              title=\"Convert this dataframe to an interactive table.\"\n",
              "              style=\"display:none;\">\n",
              "        \n",
              "  <svg xmlns=\"http://www.w3.org/2000/svg\" height=\"24px\"viewBox=\"0 0 24 24\"\n",
              "       width=\"24px\">\n",
              "    <path d=\"M0 0h24v24H0V0z\" fill=\"none\"/>\n",
              "    <path d=\"M18.56 5.44l.94 2.06.94-2.06 2.06-.94-2.06-.94-.94-2.06-.94 2.06-2.06.94zm-11 1L8.5 8.5l.94-2.06 2.06-.94-2.06-.94L8.5 2.5l-.94 2.06-2.06.94zm10 10l.94 2.06.94-2.06 2.06-.94-2.06-.94-.94-2.06-.94 2.06-2.06.94z\"/><path d=\"M17.41 7.96l-1.37-1.37c-.4-.4-.92-.59-1.43-.59-.52 0-1.04.2-1.43.59L10.3 9.45l-7.72 7.72c-.78.78-.78 2.05 0 2.83L4 21.41c.39.39.9.59 1.41.59.51 0 1.02-.2 1.41-.59l7.78-7.78 2.81-2.81c.8-.78.8-2.07 0-2.86zM5.41 20L4 18.59l7.72-7.72 1.47 1.35L5.41 20z\"/>\n",
              "  </svg>\n",
              "      </button>\n",
              "      \n",
              "  <style>\n",
              "    .colab-df-container {\n",
              "      display:flex;\n",
              "      flex-wrap:wrap;\n",
              "      gap: 12px;\n",
              "    }\n",
              "\n",
              "    .colab-df-convert {\n",
              "      background-color: #E8F0FE;\n",
              "      border: none;\n",
              "      border-radius: 50%;\n",
              "      cursor: pointer;\n",
              "      display: none;\n",
              "      fill: #1967D2;\n",
              "      height: 32px;\n",
              "      padding: 0 0 0 0;\n",
              "      width: 32px;\n",
              "    }\n",
              "\n",
              "    .colab-df-convert:hover {\n",
              "      background-color: #E2EBFA;\n",
              "      box-shadow: 0px 1px 2px rgba(60, 64, 67, 0.3), 0px 1px 3px 1px rgba(60, 64, 67, 0.15);\n",
              "      fill: #174EA6;\n",
              "    }\n",
              "\n",
              "    [theme=dark] .colab-df-convert {\n",
              "      background-color: #3B4455;\n",
              "      fill: #D2E3FC;\n",
              "    }\n",
              "\n",
              "    [theme=dark] .colab-df-convert:hover {\n",
              "      background-color: #434B5C;\n",
              "      box-shadow: 0px 1px 3px 1px rgba(0, 0, 0, 0.15);\n",
              "      filter: drop-shadow(0px 1px 2px rgba(0, 0, 0, 0.3));\n",
              "      fill: #FFFFFF;\n",
              "    }\n",
              "  </style>\n",
              "\n",
              "      <script>\n",
              "        const buttonEl =\n",
              "          document.querySelector('#df-708a02a7-f432-4088-94bd-d0b2aaefa59d button.colab-df-convert');\n",
              "        buttonEl.style.display =\n",
              "          google.colab.kernel.accessAllowed ? 'block' : 'none';\n",
              "\n",
              "        async function convertToInteractive(key) {\n",
              "          const element = document.querySelector('#df-708a02a7-f432-4088-94bd-d0b2aaefa59d');\n",
              "          const dataTable =\n",
              "            await google.colab.kernel.invokeFunction('convertToInteractive',\n",
              "                                                     [key], {});\n",
              "          if (!dataTable) return;\n",
              "\n",
              "          const docLinkHtml = 'Like what you see? Visit the ' +\n",
              "            '<a target=\"_blank\" href=https://colab.research.google.com/notebooks/data_table.ipynb>data table notebook</a>'\n",
              "            + ' to learn more about interactive tables.';\n",
              "          element.innerHTML = '';\n",
              "          dataTable['output_type'] = 'display_data';\n",
              "          await google.colab.output.renderOutput(dataTable, element);\n",
              "          const docLink = document.createElement('div');\n",
              "          docLink.innerHTML = docLinkHtml;\n",
              "          element.appendChild(docLink);\n",
              "        }\n",
              "      </script>\n",
              "    </div>\n",
              "  </div>\n",
              "  "
            ]
          },
          "metadata": {},
          "execution_count": 145
        }
      ]
    },
    {
      "cell_type": "code",
      "source": [
        "final_df['Damage to Houses - Value in Rs.Crore - Uttar Pradesh'] = final_df['Damage to Houses - Value in Rs.Crore - Uttar Pradesh'].fillna(final_df['Damage to Houses - Value in Rs.Crore - Uttar Pradesh'].mode())"
      ],
      "metadata": {
        "id": "4x4SIV3bQkwL"
      },
      "execution_count": 146,
      "outputs": []
    },
    {
      "cell_type": "code",
      "source": [
        "final_df['Area affected in m.ha. - Bihar'].unique()\n"
      ],
      "metadata": {
        "id": "16WJwrlvRDdc",
        "colab": {
          "base_uri": "https://localhost:8080/"
        },
        "outputId": "024b2890-ecd1-4d98-cb67-75245b0a4a3a"
      },
      "execution_count": 147,
      "outputs": [
        {
          "output_type": "execute_result",
          "data": {
            "text/plain": [
              "array([9.7000e-01, 2.5000e+00, 1.7700e+00, 1.3200e+00, 7.9000e-01,\n",
              "       7.1000e-01, 2.1000e-01, 1.2700e+00, 1.1100e+00, 2.7000e-01,\n",
              "       1.1200e+00, 4.3000e-01, 1.5300e+00, 1.2500e+00, 7.3000e-01,\n",
              "       9.3000e-01, 4.2600e+00, 2.2000e-01, 3.1400e+00, 2.3100e+00,\n",
              "       2.9900e+00, 1.1500e+00, 2.3700e+00, 8.1000e-01, 1.9200e+00,\n",
              "       1.2600e+00, 1.4700e+00, 3.0500e+00, 1.7550e+00, 4.1640e+00,\n",
              "       1.0500e+00, 4.7100e-01, 8.7000e-01, 9.8000e-01, 7.6000e-02,\n",
              "       4.1500e-01, 6.0100e-01, 9.2600e-01, 1.1890e+00, 1.4710e+00,\n",
              "       2.5120e+00, 8.4500e-01, 7.7900e-01, 1.1950e+00, 1.9690e+00,\n",
              "       1.5080e+00, 2.7000e+00, 4.6000e-01, 1.8200e-01, 1.8800e+00,\n",
              "       8.8200e-01, 1.1050e+00, 1.9900e-01, 0.0000e+00, 6.0000e-01,\n",
              "       3.9000e+00,        nan, 4.1000e-01, 8.1694e+01, 1.2970e+00,\n",
              "       1.9710e+03])"
            ]
          },
          "metadata": {},
          "execution_count": 147
        }
      ]
    },
    {
      "cell_type": "code",
      "source": [
        "final_df['Area affected in m.ha. - Bihar']=final_df['Area affected in m.ha. - Bihar'].fillna(final_df['Area affected in m.ha. - Bihar'].median())"
      ],
      "metadata": {
        "id": "_gyJDlb2RSzQ"
      },
      "execution_count": 148,
      "outputs": []
    },
    {
      "cell_type": "code",
      "source": [
        "final_df.describe()"
      ],
      "metadata": {
        "id": "QUTFcYC5Sq8S",
        "colab": {
          "base_uri": "https://localhost:8080/",
          "height": 543
        },
        "outputId": "1901538f-0bfc-4bd7-e82c-f5390e8e4a5e"
      },
      "execution_count": 149,
      "outputs": [
        {
          "output_type": "execute_result",
          "data": {
            "text/plain": [
              "       Area affected in m.ha. - India  Population affected in million - India  \\\n",
              "count                       69.000000                               69.000000   \n",
              "mean                        42.363797                               89.304348   \n",
              "std                        242.684190                              336.147434   \n",
              "min                          0.000000                                3.000000   \n",
              "25%                          4.860000                               19.000000   \n",
              "50%                          7.081000                               29.000000   \n",
              "75%                          9.240000                               45.000000   \n",
              "max                       1978.000000                             2058.000000   \n",
              "\n",
              "       Damage to Crops - Area in m. ha. - India  \\\n",
              "count                                 69.000000   \n",
              "mean                                  36.718536   \n",
              "std                                  242.358428   \n",
              "min                                    0.270000   \n",
              "25%                                    2.450000   \n",
              "50%                                    3.374000   \n",
              "75%                                    5.124000   \n",
              "max                                 2005.000000   \n",
              "\n",
              "       Damage to Crops - Value in Rs.Crore - India  \\\n",
              "count                                    69.000000   \n",
              "mean                                   3465.707159   \n",
              "std                                   13308.127878   \n",
              "min                                       5.870000   \n",
              "25%                                     162.780000   \n",
              "50%                                     888.622000   \n",
              "75%                                    2015.000000   \n",
              "max                                  109197.443000   \n",
              "\n",
              "       Damage to Houses - Nos. - India  \\\n",
              "count                     6.900000e+01   \n",
              "mean                      2.412103e+06   \n",
              "std                       9.599281e+06   \n",
              "min                       2.015000e+03   \n",
              "25%                       6.098840e+05   \n",
              "50%                       9.146640e+05   \n",
              "75%                       1.763603e+06   \n",
              "max                       8.061683e+07   \n",
              "\n",
              "       Damage to Houses - Value in Rs.Crore - India  Cattle Lost Nos. - India  \\\n",
              "count                                     69.000000              6.900000e+01   \n",
              "mean                                    1750.384739              1.850618e+05   \n",
              "std                                     6729.961448              7.250582e+05   \n",
              "min                                        0.195000              1.979000e+03   \n",
              "25%                                       41.112000              2.153300e+04   \n",
              "50%                                      181.308000              6.045000e+04   \n",
              "75%                                      756.481000              1.286380e+05   \n",
              "max                                    53566.824000              6.028149e+06   \n",
              "\n",
              "       Human live Lost Nos. - India  \\\n",
              "count                     69.000000   \n",
              "mean                    3332.188406   \n",
              "std                    12862.691701   \n",
              "min                       37.000000   \n",
              "25%                      865.000000   \n",
              "50%                     1455.000000   \n",
              "75%                     1977.000000   \n",
              "max                   107487.000000   \n",
              "\n",
              "       Damage to Public Utilities in Rs.Crore - India  \\\n",
              "count                                       69.000000   \n",
              "mean                                      6490.958710   \n",
              "std                                      25148.096525   \n",
              "min                                          1.050000   \n",
              "25%                                         68.112000   \n",
              "50%                                        740.762000   \n",
              "75%                                       3106.300000   \n",
              "max                                     201909.504000   \n",
              "\n",
              "       Total Damages Crops, Houses & Public utilities in Rs.Crore (col.6+8+11) - India  \\\n",
              "count                                          69.000000                                 \n",
              "mean                                        11545.744797                                 \n",
              "std                                         44878.460164                                 \n",
              "min                                             7.135000                                 \n",
              "25%                                           287.827000                                 \n",
              "50%                                          2015.000000                                 \n",
              "75%                                          7109.416000                                 \n",
              "max                                        365860.832000                                 \n",
              "\n",
              "       ...  Damage to Crops - Area in m. ha. - Uttar Pradesh  \\\n",
              "count  ...                                         68.000000   \n",
              "mean   ...                                         31.027794   \n",
              "std    ...                                        239.870218   \n",
              "min    ...                                          0.000000   \n",
              "25%    ...                                          0.279250   \n",
              "50%    ...                                          0.651000   \n",
              "75%    ...                                          1.505000   \n",
              "max    ...                                       1979.000000   \n",
              "\n",
              "       Damage to Crops - Value in Rs.Crore - Uttar Pradesh  \\\n",
              "count                                          67.000000     \n",
              "mean                                          299.098597     \n",
              "std                                          1062.440970     \n",
              "min                                             0.000000     \n",
              "25%                                             4.831000     \n",
              "50%                                            43.000000     \n",
              "75%                                           212.231500     \n",
              "max                                          8476.266000     \n",
              "\n",
              "       Damage to Houses - Nos. - Uttar Pradesh  \\\n",
              "count                             6.900000e+01   \n",
              "mean                              4.486577e+05   \n",
              "std                               1.747095e+06   \n",
              "min                               0.000000e+00   \n",
              "25%                               2.295800e+04   \n",
              "50%                               8.523400e+04   \n",
              "75%                               3.280130e+05   \n",
              "max                               1.440532e+07   \n",
              "\n",
              "       Damage to Houses - Value in Rs.Crore - Uttar Pradesh  \\\n",
              "count                                          66.000000      \n",
              "mean                                          100.405106      \n",
              "std                                           358.779947      \n",
              "min                                             0.000000      \n",
              "25%                                             0.471750      \n",
              "50%                                             5.801500      \n",
              "75%                                            58.404500      \n",
              "max                                          2177.533000      \n",
              "\n",
              "       Cattle Lost Nos. - Uttar Pradesh  Human live Lost Nos. - Uttar Pradesh  \\\n",
              "count                         68.000000                             68.000000   \n",
              "mean                        2817.029412                            600.000000   \n",
              "std                        10915.037866                           2244.262688   \n",
              "min                            0.000000                              0.000000   \n",
              "25%                          158.000000                             83.750000   \n",
              "50%                         1036.500000                            212.000000   \n",
              "75%                         2182.750000                            425.500000   \n",
              "max                        90369.000000                          18561.000000   \n",
              "\n",
              "       Total damages Crops, Houses & Public utilities in Rs.Crore (col.6+8+11) - Uttar Pradesh  \\\n",
              "count                                          68.000000                                         \n",
              "mean                                          653.838824                                         \n",
              "std                                          2410.410045                                         \n",
              "min                                             0.000000                                         \n",
              "25%                                             3.837750                                         \n",
              "50%                                            65.343000                                         \n",
              "75%                                           562.586250                                         \n",
              "max                                         19420.584000                                         \n",
              "\n",
              "       Area affected in m.ha. - Bihar  Population affected in million - Bihar  \\\n",
              "count                       69.000000                               68.000000   \n",
              "mean                        31.045870                               41.889015   \n",
              "std                        237.176981                              246.335147   \n",
              "min                          0.000000                                0.244000   \n",
              "25%                          0.730000                                2.591750   \n",
              "50%                          1.110000                                4.985000   \n",
              "75%                          1.770000                                8.358000   \n",
              "max                       1971.000000                             2004.000000   \n",
              "\n",
              "       Damage to Houses - Nos. - Bihar  \n",
              "count                     6.900000e+01  \n",
              "mean                      3.118850e+05  \n",
              "std                       1.215492e+06  \n",
              "min                       5.180000e+02  \n",
              "25%                       1.671700e+04  \n",
              "50%                       6.824200e+04  \n",
              "75%                       1.843000e+05  \n",
              "max                       9.983005e+06  \n",
              "\n",
              "[8 rows x 22 columns]"
            ],
            "text/html": [
              "\n",
              "  <div id=\"df-1aaa0166-ec3a-4195-be72-6ae4ec8b338d\">\n",
              "    <div class=\"colab-df-container\">\n",
              "      <div>\n",
              "<style scoped>\n",
              "    .dataframe tbody tr th:only-of-type {\n",
              "        vertical-align: middle;\n",
              "    }\n",
              "\n",
              "    .dataframe tbody tr th {\n",
              "        vertical-align: top;\n",
              "    }\n",
              "\n",
              "    .dataframe thead th {\n",
              "        text-align: right;\n",
              "    }\n",
              "</style>\n",
              "<table border=\"1\" class=\"dataframe\">\n",
              "  <thead>\n",
              "    <tr style=\"text-align: right;\">\n",
              "      <th></th>\n",
              "      <th>Area affected in m.ha. - India</th>\n",
              "      <th>Population affected in million - India</th>\n",
              "      <th>Damage to Crops - Area in m. ha. - India</th>\n",
              "      <th>Damage to Crops - Value in Rs.Crore - India</th>\n",
              "      <th>Damage to Houses - Nos. - India</th>\n",
              "      <th>Damage to Houses - Value in Rs.Crore - India</th>\n",
              "      <th>Cattle Lost Nos. - India</th>\n",
              "      <th>Human live Lost Nos. - India</th>\n",
              "      <th>Damage to Public Utilities in Rs.Crore - India</th>\n",
              "      <th>Total Damages Crops, Houses &amp; Public utilities in Rs.Crore (col.6+8+11) - India</th>\n",
              "      <th>...</th>\n",
              "      <th>Damage to Crops - Area in m. ha. - Uttar Pradesh</th>\n",
              "      <th>Damage to Crops - Value in Rs.Crore - Uttar Pradesh</th>\n",
              "      <th>Damage to Houses - Nos. - Uttar Pradesh</th>\n",
              "      <th>Damage to Houses - Value in Rs.Crore - Uttar Pradesh</th>\n",
              "      <th>Cattle Lost Nos. - Uttar Pradesh</th>\n",
              "      <th>Human live Lost Nos. - Uttar Pradesh</th>\n",
              "      <th>Total damages Crops, Houses &amp; Public utilities in Rs.Crore (col.6+8+11) - Uttar Pradesh</th>\n",
              "      <th>Area affected in m.ha. - Bihar</th>\n",
              "      <th>Population affected in million - Bihar</th>\n",
              "      <th>Damage to Houses - Nos. - Bihar</th>\n",
              "    </tr>\n",
              "  </thead>\n",
              "  <tbody>\n",
              "    <tr>\n",
              "      <th>count</th>\n",
              "      <td>69.000000</td>\n",
              "      <td>69.000000</td>\n",
              "      <td>69.000000</td>\n",
              "      <td>69.000000</td>\n",
              "      <td>6.900000e+01</td>\n",
              "      <td>69.000000</td>\n",
              "      <td>6.900000e+01</td>\n",
              "      <td>69.000000</td>\n",
              "      <td>69.000000</td>\n",
              "      <td>69.000000</td>\n",
              "      <td>...</td>\n",
              "      <td>68.000000</td>\n",
              "      <td>67.000000</td>\n",
              "      <td>6.900000e+01</td>\n",
              "      <td>66.000000</td>\n",
              "      <td>68.000000</td>\n",
              "      <td>68.000000</td>\n",
              "      <td>68.000000</td>\n",
              "      <td>69.000000</td>\n",
              "      <td>68.000000</td>\n",
              "      <td>6.900000e+01</td>\n",
              "    </tr>\n",
              "    <tr>\n",
              "      <th>mean</th>\n",
              "      <td>42.363797</td>\n",
              "      <td>89.304348</td>\n",
              "      <td>36.718536</td>\n",
              "      <td>3465.707159</td>\n",
              "      <td>2.412103e+06</td>\n",
              "      <td>1750.384739</td>\n",
              "      <td>1.850618e+05</td>\n",
              "      <td>3332.188406</td>\n",
              "      <td>6490.958710</td>\n",
              "      <td>11545.744797</td>\n",
              "      <td>...</td>\n",
              "      <td>31.027794</td>\n",
              "      <td>299.098597</td>\n",
              "      <td>4.486577e+05</td>\n",
              "      <td>100.405106</td>\n",
              "      <td>2817.029412</td>\n",
              "      <td>600.000000</td>\n",
              "      <td>653.838824</td>\n",
              "      <td>31.045870</td>\n",
              "      <td>41.889015</td>\n",
              "      <td>3.118850e+05</td>\n",
              "    </tr>\n",
              "    <tr>\n",
              "      <th>std</th>\n",
              "      <td>242.684190</td>\n",
              "      <td>336.147434</td>\n",
              "      <td>242.358428</td>\n",
              "      <td>13308.127878</td>\n",
              "      <td>9.599281e+06</td>\n",
              "      <td>6729.961448</td>\n",
              "      <td>7.250582e+05</td>\n",
              "      <td>12862.691701</td>\n",
              "      <td>25148.096525</td>\n",
              "      <td>44878.460164</td>\n",
              "      <td>...</td>\n",
              "      <td>239.870218</td>\n",
              "      <td>1062.440970</td>\n",
              "      <td>1.747095e+06</td>\n",
              "      <td>358.779947</td>\n",
              "      <td>10915.037866</td>\n",
              "      <td>2244.262688</td>\n",
              "      <td>2410.410045</td>\n",
              "      <td>237.176981</td>\n",
              "      <td>246.335147</td>\n",
              "      <td>1.215492e+06</td>\n",
              "    </tr>\n",
              "    <tr>\n",
              "      <th>min</th>\n",
              "      <td>0.000000</td>\n",
              "      <td>3.000000</td>\n",
              "      <td>0.270000</td>\n",
              "      <td>5.870000</td>\n",
              "      <td>2.015000e+03</td>\n",
              "      <td>0.195000</td>\n",
              "      <td>1.979000e+03</td>\n",
              "      <td>37.000000</td>\n",
              "      <td>1.050000</td>\n",
              "      <td>7.135000</td>\n",
              "      <td>...</td>\n",
              "      <td>0.000000</td>\n",
              "      <td>0.000000</td>\n",
              "      <td>0.000000e+00</td>\n",
              "      <td>0.000000</td>\n",
              "      <td>0.000000</td>\n",
              "      <td>0.000000</td>\n",
              "      <td>0.000000</td>\n",
              "      <td>0.000000</td>\n",
              "      <td>0.244000</td>\n",
              "      <td>5.180000e+02</td>\n",
              "    </tr>\n",
              "    <tr>\n",
              "      <th>25%</th>\n",
              "      <td>4.860000</td>\n",
              "      <td>19.000000</td>\n",
              "      <td>2.450000</td>\n",
              "      <td>162.780000</td>\n",
              "      <td>6.098840e+05</td>\n",
              "      <td>41.112000</td>\n",
              "      <td>2.153300e+04</td>\n",
              "      <td>865.000000</td>\n",
              "      <td>68.112000</td>\n",
              "      <td>287.827000</td>\n",
              "      <td>...</td>\n",
              "      <td>0.279250</td>\n",
              "      <td>4.831000</td>\n",
              "      <td>2.295800e+04</td>\n",
              "      <td>0.471750</td>\n",
              "      <td>158.000000</td>\n",
              "      <td>83.750000</td>\n",
              "      <td>3.837750</td>\n",
              "      <td>0.730000</td>\n",
              "      <td>2.591750</td>\n",
              "      <td>1.671700e+04</td>\n",
              "    </tr>\n",
              "    <tr>\n",
              "      <th>50%</th>\n",
              "      <td>7.081000</td>\n",
              "      <td>29.000000</td>\n",
              "      <td>3.374000</td>\n",
              "      <td>888.622000</td>\n",
              "      <td>9.146640e+05</td>\n",
              "      <td>181.308000</td>\n",
              "      <td>6.045000e+04</td>\n",
              "      <td>1455.000000</td>\n",
              "      <td>740.762000</td>\n",
              "      <td>2015.000000</td>\n",
              "      <td>...</td>\n",
              "      <td>0.651000</td>\n",
              "      <td>43.000000</td>\n",
              "      <td>8.523400e+04</td>\n",
              "      <td>5.801500</td>\n",
              "      <td>1036.500000</td>\n",
              "      <td>212.000000</td>\n",
              "      <td>65.343000</td>\n",
              "      <td>1.110000</td>\n",
              "      <td>4.985000</td>\n",
              "      <td>6.824200e+04</td>\n",
              "    </tr>\n",
              "    <tr>\n",
              "      <th>75%</th>\n",
              "      <td>9.240000</td>\n",
              "      <td>45.000000</td>\n",
              "      <td>5.124000</td>\n",
              "      <td>2015.000000</td>\n",
              "      <td>1.763603e+06</td>\n",
              "      <td>756.481000</td>\n",
              "      <td>1.286380e+05</td>\n",
              "      <td>1977.000000</td>\n",
              "      <td>3106.300000</td>\n",
              "      <td>7109.416000</td>\n",
              "      <td>...</td>\n",
              "      <td>1.505000</td>\n",
              "      <td>212.231500</td>\n",
              "      <td>3.280130e+05</td>\n",
              "      <td>58.404500</td>\n",
              "      <td>2182.750000</td>\n",
              "      <td>425.500000</td>\n",
              "      <td>562.586250</td>\n",
              "      <td>1.770000</td>\n",
              "      <td>8.358000</td>\n",
              "      <td>1.843000e+05</td>\n",
              "    </tr>\n",
              "    <tr>\n",
              "      <th>max</th>\n",
              "      <td>1978.000000</td>\n",
              "      <td>2058.000000</td>\n",
              "      <td>2005.000000</td>\n",
              "      <td>109197.443000</td>\n",
              "      <td>8.061683e+07</td>\n",
              "      <td>53566.824000</td>\n",
              "      <td>6.028149e+06</td>\n",
              "      <td>107487.000000</td>\n",
              "      <td>201909.504000</td>\n",
              "      <td>365860.832000</td>\n",
              "      <td>...</td>\n",
              "      <td>1979.000000</td>\n",
              "      <td>8476.266000</td>\n",
              "      <td>1.440532e+07</td>\n",
              "      <td>2177.533000</td>\n",
              "      <td>90369.000000</td>\n",
              "      <td>18561.000000</td>\n",
              "      <td>19420.584000</td>\n",
              "      <td>1971.000000</td>\n",
              "      <td>2004.000000</td>\n",
              "      <td>9.983005e+06</td>\n",
              "    </tr>\n",
              "  </tbody>\n",
              "</table>\n",
              "<p>8 rows × 22 columns</p>\n",
              "</div>\n",
              "      <button class=\"colab-df-convert\" onclick=\"convertToInteractive('df-1aaa0166-ec3a-4195-be72-6ae4ec8b338d')\"\n",
              "              title=\"Convert this dataframe to an interactive table.\"\n",
              "              style=\"display:none;\">\n",
              "        \n",
              "  <svg xmlns=\"http://www.w3.org/2000/svg\" height=\"24px\"viewBox=\"0 0 24 24\"\n",
              "       width=\"24px\">\n",
              "    <path d=\"M0 0h24v24H0V0z\" fill=\"none\"/>\n",
              "    <path d=\"M18.56 5.44l.94 2.06.94-2.06 2.06-.94-2.06-.94-.94-2.06-.94 2.06-2.06.94zm-11 1L8.5 8.5l.94-2.06 2.06-.94-2.06-.94L8.5 2.5l-.94 2.06-2.06.94zm10 10l.94 2.06.94-2.06 2.06-.94-2.06-.94-.94-2.06-.94 2.06-2.06.94z\"/><path d=\"M17.41 7.96l-1.37-1.37c-.4-.4-.92-.59-1.43-.59-.52 0-1.04.2-1.43.59L10.3 9.45l-7.72 7.72c-.78.78-.78 2.05 0 2.83L4 21.41c.39.39.9.59 1.41.59.51 0 1.02-.2 1.41-.59l7.78-7.78 2.81-2.81c.8-.78.8-2.07 0-2.86zM5.41 20L4 18.59l7.72-7.72 1.47 1.35L5.41 20z\"/>\n",
              "  </svg>\n",
              "      </button>\n",
              "      \n",
              "  <style>\n",
              "    .colab-df-container {\n",
              "      display:flex;\n",
              "      flex-wrap:wrap;\n",
              "      gap: 12px;\n",
              "    }\n",
              "\n",
              "    .colab-df-convert {\n",
              "      background-color: #E8F0FE;\n",
              "      border: none;\n",
              "      border-radius: 50%;\n",
              "      cursor: pointer;\n",
              "      display: none;\n",
              "      fill: #1967D2;\n",
              "      height: 32px;\n",
              "      padding: 0 0 0 0;\n",
              "      width: 32px;\n",
              "    }\n",
              "\n",
              "    .colab-df-convert:hover {\n",
              "      background-color: #E2EBFA;\n",
              "      box-shadow: 0px 1px 2px rgba(60, 64, 67, 0.3), 0px 1px 3px 1px rgba(60, 64, 67, 0.15);\n",
              "      fill: #174EA6;\n",
              "    }\n",
              "\n",
              "    [theme=dark] .colab-df-convert {\n",
              "      background-color: #3B4455;\n",
              "      fill: #D2E3FC;\n",
              "    }\n",
              "\n",
              "    [theme=dark] .colab-df-convert:hover {\n",
              "      background-color: #434B5C;\n",
              "      box-shadow: 0px 1px 3px 1px rgba(0, 0, 0, 0.15);\n",
              "      filter: drop-shadow(0px 1px 2px rgba(0, 0, 0, 0.3));\n",
              "      fill: #FFFFFF;\n",
              "    }\n",
              "  </style>\n",
              "\n",
              "      <script>\n",
              "        const buttonEl =\n",
              "          document.querySelector('#df-1aaa0166-ec3a-4195-be72-6ae4ec8b338d button.colab-df-convert');\n",
              "        buttonEl.style.display =\n",
              "          google.colab.kernel.accessAllowed ? 'block' : 'none';\n",
              "\n",
              "        async function convertToInteractive(key) {\n",
              "          const element = document.querySelector('#df-1aaa0166-ec3a-4195-be72-6ae4ec8b338d');\n",
              "          const dataTable =\n",
              "            await google.colab.kernel.invokeFunction('convertToInteractive',\n",
              "                                                     [key], {});\n",
              "          if (!dataTable) return;\n",
              "\n",
              "          const docLinkHtml = 'Like what you see? Visit the ' +\n",
              "            '<a target=\"_blank\" href=https://colab.research.google.com/notebooks/data_table.ipynb>data table notebook</a>'\n",
              "            + ' to learn more about interactive tables.';\n",
              "          element.innerHTML = '';\n",
              "          dataTable['output_type'] = 'display_data';\n",
              "          await google.colab.output.renderOutput(dataTable, element);\n",
              "          const docLink = document.createElement('div');\n",
              "          docLink.innerHTML = docLinkHtml;\n",
              "          element.appendChild(docLink);\n",
              "        }\n",
              "      </script>\n",
              "    </div>\n",
              "  </div>\n",
              "  "
            ]
          },
          "metadata": {},
          "execution_count": 149
        }
      ]
    },
    {
      "cell_type": "code",
      "source": [
        "final_df['Year'].unique()\n",
        "final_df.drop(final_df.index[final_df['Year'] == 'Total'], inplace = True)\n",
        "final_df.drop(final_df.index[final_df['Year'] == 'Average'], inplace = True)\n",
        "final_df.drop(final_df.index[final_df['Year'] == 'Maximum'], inplace = True)\n",
        "final_df.drop(final_df.index[final_df['Year'] == '(Year)'], inplace = True)"
      ],
      "metadata": {
        "id": "L2eJXWDADfv9"
      },
      "execution_count": 150,
      "outputs": []
    },
    {
      "cell_type": "code",
      "source": [
        "final_df['Human live Lost Nos. - Madhya Pradesh']=final_df['Human live Lost Nos. - Madhya Pradesh'].astype(float)"
      ],
      "metadata": {
        "id": "FcGx6PXANaUp"
      },
      "execution_count": 151,
      "outputs": []
    },
    {
      "cell_type": "code",
      "source": [
        "final_df['Area affected in m.ha. - Uttar Pradesh'].unique()"
      ],
      "metadata": {
        "id": "p6ZK8lNS0EUx",
        "colab": {
          "base_uri": "https://localhost:8080/"
        },
        "outputId": "aa789184-7039-4aa7-d75b-0505264e0c85"
      },
      "execution_count": 152,
      "outputs": [
        {
          "output_type": "execute_result",
          "data": {
            "text/plain": [
              "array([0.91 , 1.35 , 4.13 , 2.5  , 1.7  , 2.18 , 0.07 , 3.25 , 2.29 ,\n",
              "       1.06 , 1.26 , 0.08 , 0.52 , 3.43 , 0.8  , 2.4  , 2.91 , 5.26 ,\n",
              "       0.31 , 2.63 , 3.63 , 1.3  , 7.34 , 0.7  , 5.86 , 2.99 , 5.5  ,\n",
              "       3.86 , 1.69 , 4.03 , 1.04 , 0.6  , 3.18 , 1.003, 2.208, 0.811,\n",
              "       0.696, 1.444, 0.985, 1.279, 1.124, 0.349, 2.523, 0.054, 0.784,\n",
              "       0.463, 0.111, 2.355, 0.   , 0.51 , 0.525, 0.45 ,   nan, 0.569])"
            ]
          },
          "metadata": {},
          "execution_count": 152
        }
      ]
    },
    {
      "cell_type": "code",
      "source": [
        "final_df['Area affected in m.ha. - Madhya Pradesh'].unique()"
      ],
      "metadata": {
        "id": "gyeY2aoEz8-R",
        "colab": {
          "base_uri": "https://localhost:8080/"
        },
        "outputId": "88919253-3be4-4dec-e2ad-ad801655a82e"
      },
      "execution_count": 153,
      "outputs": [
        {
          "output_type": "execute_result",
          "data": {
            "text/plain": [
              "array(['0.26', 'Nil', '0.03', '0.04', '0.13', 'Neg', '0.01', '0.09',\n",
              "       '0.05', '0.1', '0.11', '0', '0.16', '0.07', '0.18', '0.041',\n",
              "       '0.377', '0.014', '0.022', '0.115', '0.062', '0.002', '0.126',\n",
              "       '0.037', '3.67', '0.925', '1.304', nan], dtype=object)"
            ]
          },
          "metadata": {},
          "execution_count": 153
        }
      ]
    },
    {
      "cell_type": "code",
      "source": [
        "final_df['Area affected in m.ha. - Madhya Pradesh']=final_df['Area affected in m.ha. - Madhya Pradesh'].replace('Nil',np.median(pd.to_numeric(final_df['Area affected in m.ha. - Madhya Pradesh'], errors='coerce')))\n",
        "final_df['Area affected in m.ha. - Madhya Pradesh']=final_df['Area affected in m.ha. - Madhya Pradesh'].replace('Neg',np.median(pd.to_numeric(final_df['Area affected in m.ha. - Madhya Pradesh'], errors='coerce')))\n",
        "final_df['Area affected in m.ha. - Madhya Pradesh']=final_df['Area affected in m.ha. - Madhya Pradesh'].replace('nan',np.median(pd.to_numeric(final_df['Area affected in m.ha. - Madhya Pradesh'], errors='coerce')))"
      ],
      "metadata": {
        "id": "UHO0QtRP2naS"
      },
      "execution_count": 154,
      "outputs": []
    },
    {
      "cell_type": "code",
      "source": [
        "final_df['Area affected in m.ha. - Madhya Pradesh']=final_df['Area affected in m.ha. - Madhya Pradesh'].fillna(final_df['Area affected in m.ha. - Madhya Pradesh'].median())"
      ],
      "metadata": {
        "id": "WUN2gitz092h"
      },
      "execution_count": 155,
      "outputs": []
    },
    {
      "cell_type": "code",
      "source": [
        "final_df['Area affected in m.ha. - Madhya Pradesh']=final_df['Area affected in m.ha. - Madhya Pradesh'].astype(float)"
      ],
      "metadata": {
        "id": "85H33c7v3qeq"
      },
      "execution_count": 156,
      "outputs": []
    },
    {
      "cell_type": "code",
      "source": [
        "plt.subplots(figsize=(15,8))\n",
        "sns.lineplot(x='Year',y='Area affected in m.ha. - India',data=final_df)\n",
        "plt.title(\"Overall Areas effected In India\")\n",
        "plt.xticks(rotation=90)\n",
        "plt.show()\n",
        "\n",
        "plt.subplots(figsize=(15,8))\n",
        "sns.lineplot(x='Year',y='Area affected in m.ha. - Bihar',data=final_df)\n",
        "plt.title(\"Areas effected In Bihar\")\n",
        "plt.xticks(rotation=90)\n",
        "plt.show()\n",
        "\n",
        "plt.subplots(figsize=(15,8))\n",
        "sns.lineplot(x='Year',y='Area affected in m.ha. - Uttar Pradesh',data=final_df)\n",
        "plt.title(\"Areas effected In Uttar Pradesh\")\n",
        "plt.xticks(rotation=90)\n",
        "plt.show()\n",
        "\n",
        "plt.subplots(figsize=(15,8))\n",
        "sns.lineplot(x='Year',y='Area affected in m.ha. - Madhya Pradesh',data=final_df)\n",
        "plt.title(\"Areas effected In Madhya Pradesh\")\n",
        "plt.xticks(rotation=90)\n",
        "plt.show()"
      ],
      "metadata": {
        "id": "OWShvJfDIm6w",
        "colab": {
          "base_uri": "https://localhost:8080/",
          "height": 1000
        },
        "outputId": "dfe086e4-559a-48b8-f8c4-b84308fb0542"
      },
      "execution_count": 157,
      "outputs": [
        {
          "output_type": "display_data",
          "data": {
            "text/plain": [
              "<Figure size 1080x576 with 1 Axes>"
            ],
            "image/png": "[encoded data removed]"
          },
          "metadata": {
            "needs_background": "light"
          }
        },
        {
          "output_type": "display_data",
          "data": {
            "text/plain": [
              "<Figure size 1080x576 with 1 Axes>"
            ],
            "image/png": "[encoded data removed]"
          },
          "metadata": {
            "needs_background": "light"
          }
        },
        {
          "output_type": "display_data",
          "data": {
            "text/plain": [
              "<Figure size 1080x576 with 1 Axes>"
            ],
            "image/png": "[encoded data removed]"
          },
          "metadata": {
            "needs_background": "light"
          }
        },
        {
          "output_type": "display_data",
          "data": {
            "text/plain": [
              "<Figure size 1080x576 with 1 Axes>"
            ],
            "image/png": "[encoded data removed]"
          },
          "metadata": {
            "needs_background": "light"
          }
        }
      ]
    },
    {
      "cell_type": "markdown",
      "source": [
        "# Over the years maximum areas effected by floods is in the state of bihar but in the last 5 years area effected in madhya pradesh is the most\n"
      ],
      "metadata": {
        "id": "h0SxPq86Cc86"
      }
    },
    {
      "cell_type": "code",
      "source": [
        "final_df['Human live Lost Nos. - Bihar']=final_df['Human live Lost Nos. - Bihar'].astype(float)"
      ],
      "metadata": {
        "id": "fFr0i5LRLQpP"
      },
      "execution_count": 159,
      "outputs": []
    },
    {
      "cell_type": "code",
      "source": [
        "final_df['Human live Lost Nos. - Madhya Pradesh']=final_df['Human live Lost Nos. - Madhya Pradesh'].astype(float)"
      ],
      "metadata": {
        "id": "yIuqkXdmK4lj"
      },
      "execution_count": 160,
      "outputs": []
    },
    {
      "cell_type": "code",
      "source": [
        "# plt.subplots(figsize=(15,12))\n",
        "# sns.countplot(x=\"Human live Lost Nos. - India\", data=final_df)\n",
        "# plt.title(\"Loss of live in India\")\n",
        "# plt.xticks(rotation=90)\n",
        "# plt.show()\n",
        "\n",
        "# plt.subplots(figsize=(15,12))\n",
        "# sns.countplot(x=\"Human live Lost Nos. - Bihar\", data=final_df)\n",
        "# plt.title(\"Loss of live in India\")\n",
        "# plt.xticks(rotation=90)\n",
        "# plt.show()\n",
        "\n",
        "# plt.subplots(figsize=(15,12))\n",
        "# sns.countplot(x=\"Human live Lost Nos. - Madhya Pradesh\", data=final_df)\n",
        "# plt.title(\"Loss of live in India\")\n",
        "# plt.xticks(rotation=90)\n",
        "# plt.show()\n",
        "\n",
        "# plt.subplots(figsize=(15,12))\n",
        "# sns.countplot(x=\"Human live Lost Nos. - Uttar Pradesh\", data=final_df)\n",
        "# plt.title(\"Loss of live in India\")\n",
        "# plt.xticks(rotation=90)\n",
        "# plt.show()\n"
      ],
      "metadata": {
        "id": "5215Np80pxuK"
      },
      "execution_count": 161,
      "outputs": []
    },
    {
      "cell_type": "code",
      "source": [
        "final_df['Human live Lost Nos. - Bihar'].unique()"
      ],
      "metadata": {
        "id": "APZmG1uO4Zcb",
        "colab": {
          "base_uri": "https://localhost:8080/"
        },
        "outputId": "fe4f700c-c3da-4575-d8f7-07ce6ee2e5a7"
      },
      "execution_count": 162,
      "outputs": [
        {
          "output_type": "execute_result",
          "data": {
            "text/plain": [
              "array([   5.,   63.,   44.,   32.,    7.,    6.,    0.,  551.,   20.,\n",
              "          2.,   38.,   23.,   13.,   31.,    8.,   80.,  148.,  186.,\n",
              "         16.,  177.,   14.,   67.,   18.,   25.,  143.,   69.,   94.,\n",
              "       1116.,   52.,   26.,   36.,   56.,    4., 1153.,   83.,  291.,\n",
              "        218.,  163.,  381.,  243.,  308.,  231.,  489.,  251.,  885.,\n",
              "         58., 1287.,  252.,   97.,  100.,  158.,   27.,  254.,  514.])"
            ]
          },
          "metadata": {},
          "execution_count": 162
        }
      ]
    },
    {
      "cell_type": "code",
      "source": [
        "final_df['Human live Lost Nos. - Uttar Pradesh'].unique()"
      ],
      "metadata": {
        "id": "W8A0NH7p4dfd",
        "colab": {
          "base_uri": "https://localhost:8080/"
        },
        "outputId": "e8b8fabb-89c0-462b-e35e-ad0aa5c5ed8f"
      },
      "execution_count": 165,
      "outputs": [
        {
          "output_type": "execute_result",
          "data": {
            "text/plain": [
              "array([2.300e+01, 2.700e+01, 2.310e+02, 1.550e+02, 1.930e+02, 1.430e+02,\n",
              "       1.000e+00, 2.290e+02, 3.340e+02, 2.800e+01, 2.920e+02, 6.900e+01,\n",
              "       4.000e+00, 4.000e+01, 2.260e+02, 6.600e+01, 1.130e+02, 3.440e+02,\n",
              "       6.050e+02, 1.920e+02, 3.700e+01, 1.480e+02, 2.570e+02, 1.570e+02,\n",
              "       7.390e+02, 7.700e+01, 1.309e+03, 4.270e+02, 5.620e+02, 5.190e+02,\n",
              "       2.090e+02, 8.040e+02, 2.230e+02, 1.650e+02, 7.650e+02, 1.680e+02,\n",
              "       4.920e+02, 2.150e+02, 1.530e+02, 3.890e+02, 3.170e+02, 4.250e+02,\n",
              "       3.130e+02, 1.020e+02, 1.390e+03, 8.600e+01, 4.530e+02, 2.700e+02,\n",
              "       3.300e+01, 9.530e+02, 0.000e+00, 1.300e+01, 1.700e+02, 1.056e+03,\n",
              "       2.540e+02, 1.200e+01, 7.290e+02, 1.050e+02, 3.800e+02, 1.060e+02,\n",
              "             nan, 7.400e+01, 1.210e+02])"
            ]
          },
          "metadata": {},
          "execution_count": 165
        }
      ]
    },
    {
      "cell_type": "code",
      "source": [
        "final_df['Human live Lost Nos. - Madhya Pradesh'].unique()\n"
      ],
      "metadata": {
        "id": "WH-rP4Yz4nCi",
        "colab": {
          "base_uri": "https://localhost:8080/"
        },
        "outputId": "79aec53f-d9fb-495d-c429-6d9d2d92c035"
      },
      "execution_count": 186,
      "outputs": [
        {
          "output_type": "execute_result",
          "data": {
            "text/plain": [
              "array([  2.,  10.,   5.,   0.,   1.,   7.,  86.,  45.,  15., 246.,  25.,\n",
              "        28.,   9.,  56.,  27.,  42., 124.,  70.,  33.,  32., 288.,  58.,\n",
              "        48.,  14.,  81.,  29.,  18.,  95.,  16.,  38.,  82.,  47.,  43.,\n",
              "       390.,  19., 327.,  nan])"
            ]
          },
          "metadata": {},
          "execution_count": 186
        }
      ]
    },
    {
      "cell_type": "code",
      "source": [
        "final_df['Human live Lost Nos. - Uttar Pradesh']=final_df['Human live Lost Nos. - Uttar Pradesh'].fillna(final_df['Human live Lost Nos. - Uttar Pradesh'].mode())"
      ],
      "metadata": {
        "id": "Q0UpYLFa5Idt"
      },
      "execution_count": 187,
      "outputs": []
    },
    {
      "cell_type": "code",
      "source": [
        "final_df['Human live Lost Nos. - Madhya Pradesh']=final_df['Human live Lost Nos. - Madhya Pradesh'].fillna(final_df['Human live Lost Nos. - Madhya Pradesh'].mode())"
      ],
      "metadata": {
        "id": "uXR_tPME460p"
      },
      "execution_count": 183,
      "outputs": []
    },
    {
      "cell_type": "code",
      "source": [
        "final_df.count()"
      ],
      "metadata": {
        "id": "RO83Y0GL5kke",
        "colab": {
          "base_uri": "https://localhost:8080/"
        },
        "outputId": "47ac4e6a-021d-4549-9579-2a5d7b25c35f"
      },
      "execution_count": 184,
      "outputs": [
        {
          "output_type": "execute_result",
          "data": {
            "text/plain": [
              "Sl.No\\n - India                                                                             65\n",
              "Year                                                                                        65\n",
              "Area affected in m.ha. - India                                                              65\n",
              "Population affected in million - India                                                      65\n",
              "Damage to Crops - Area in m. ha. - India                                                    65\n",
              "Damage to Crops - Value in Rs.Crore - India                                                 65\n",
              "Damage to Houses - Nos. - India                                                             65\n",
              "Damage to Houses - Value in Rs.Crore - India                                                65\n",
              "Cattle Lost Nos. - India                                                                    65\n",
              "Human live Lost Nos. - India                                                                65\n",
              "Damage to Public Utilities in Rs.Crore - India                                              65\n",
              "Total Damages Crops, Houses & Public utilities in Rs.Crore (col.6+8+11) - India             65\n",
              "Area affected in m.ha. - Uttar Pradesh                                                      63\n",
              "Population affected in million - Uttar Pradesh                                              65\n",
              "Damage to Crops - Area in m. ha. - Uttar Pradesh                                            64\n",
              "Damage to Crops - Value in Rs.Crore - Uttar Pradesh                                         63\n",
              "Damage to Houses - Nos. - Uttar Pradesh                                                     65\n",
              "Damage to Houses - Value in Rs.Crore - Uttar Pradesh                                        62\n",
              "Cattle Lost Nos. - Uttar Pradesh                                                            64\n",
              "Human live Lost Nos. - Uttar Pradesh                                                        64\n",
              "Damage to Public Utilities in Rs.Crore - Uttar Pradesh                                      62\n",
              "Total damages Crops, Houses & Public utilities in Rs.Crore (col.6+8+11) - Uttar Pradesh     64\n",
              "Area affected in m.ha. - Madhya Pradesh                                                     65\n",
              "Population affected in million - Madhya Pradesh                                             64\n",
              "Damage to Crops - Area in m. ha. - Madhya Pradesh                                           63\n",
              "Damage to Crops - Value in Rs.Crore - Madhya Pradesh                                        62\n",
              "Damage to Houses - Nos. - Madhya Pradesh                                                    64\n",
              "Damage to Houses - Value in Rs.Crore - Madhya Pradesh                                       62\n",
              "Cattle Lost Nos. - Madhya Pradesh                                                           64\n",
              "Human live Lost Nos. - Madhya Pradesh                                                       64\n",
              "Damage to Public Utilities in Rs.Crore - Madhya Pradesh                                     64\n",
              "Total damages Crops, Houses & Public utilities in Rs.Crore (col.6+8+11) - Madhya Pradesh    55\n",
              "Area affected in m.ha. - Bihar                                                              65\n",
              "Population affected in million - Bihar                                                      64\n",
              "Damage to Crops - Area in m. ha. - Bihar                                                    65\n",
              "Damage to Crops - Value in Rs.Crore - Bihar                                                 63\n",
              "Damage to Houses - Nos. - Bihar                                                             65\n",
              "Damage to Houses - Value in Rs.Crore - Bihar                                                64\n",
              "Cattle Lost Nos. - Bihar                                                                    64\n",
              "Human live Lost Nos. - Bihar                                                                65\n",
              "Damage to Public Utilities in Rs.Crore - Bihar                                              64\n",
              "Total damages Crops, Houses & Public utilities in Rs.Crore (col.6+8+11) - Bihar             65\n",
              "dtype: int64"
            ]
          },
          "metadata": {},
          "execution_count": 184
        }
      ]
    },
    {
      "cell_type": "code",
      "source": [
        "\n",
        "# plt.subplots(figsize=(15,8))\n",
        "# sns.kdeplot(final_df['Human live Lost Nos. - Bihar'],label='Human live Lost Nos. - Bihar',shade=True, color=\"r\")\n",
        "# sns.kdeplot(final_df['Human live Lost Nos. - Uttar Pradesh'],label='Human live Lost Nos. - Uttar Pradesh',shade=True, color=\"b\")\n",
        "# plt.title(\"Loss of live in Bihar VS UP\")\n",
        "# plt.xticks(rotation=90)\n",
        "# plt.legend()\n",
        "# plt.show()\n",
        "plt.subplots(figsize=(15,8))\n",
        "plt.hist(final_df['Human live Lost Nos. - Bihar'], alpha=1,label='Human live Lost Nos. - Bihar')\n",
        "plt.hist(final_df['Human live Lost Nos. - Uttar Pradesh'], alpha=1,label='Human live Lost Nos. - Uttar Pradesh')\n",
        "plt.xticks(rotation=90)\n",
        "plt.legend()\n",
        "plt.title('Total damage Bihar VS UP')\n",
        "plt.show()\n",
        "\n",
        "# plt.subplots(figsize=(15,8))\n",
        "# sns.kdeplot(final_df['Human live Lost Nos. - Bihar'],label='Human live Lost Nos. - Bihar',shade=True, color=\"r\")\n",
        "# sns.kdeplot(final_df['Human live Lost Nos. - Madhya Pradesh'],label='Human live Lost Nos. - Madhya Pradesh', shade=True, color=\"b\")\n",
        "# plt.title(\"Loss of live in Bihar VS MP\")\n",
        "# plt.xticks(rotation=90)\n",
        "# plt.legend()\n",
        "# plt.show()\n",
        "\n",
        "plt.subplots(figsize=(15,8))\n",
        "plt.hist(final_df['Human live Lost Nos. - Bihar'], alpha=1,label='Human live Lost Nos. - Bihar')\n",
        "plt.hist(final_df['Human live Lost Nos. - Madhya Pradesh'], alpha=1,label='Human live Lost Nos. - Madhya Pradesh')\n",
        "plt.xticks(rotation=90)\n",
        "plt.legend()\n",
        "plt.title('Total damage Bihar VS MP')\n",
        "plt.show()\n",
        "\n",
        "# plt.subplots(figsize=(15,8))\n",
        "# sns.kdeplot(final_df['Human live Lost Nos. - Uttar Pradesh'],label='Human live Lost Nos. - Uttar Pradesh',shade=True, color=\"r\")\n",
        "# sns.kdeplot(final_df['Human live Lost Nos. - Madhya Pradesh'],label='Human live Lost Nos. - Madhya Pradesh',shade=True, color=\"b\")\n",
        "# plt.title(\"Loss of live in UP VS MP\")\n",
        "# plt.xticks(rotation=90)\n",
        "# plt.legend()\n",
        "# plt.show()\n",
        "\n",
        "plt.subplots(figsize=(15,8))\n",
        "plt.hist(final_df['Human live Lost Nos. - Uttar Pradesh'], alpha=1,label='Human live Lost Nos. - Uttar')\n",
        "plt.hist(final_df['Human live Lost Nos. - Madhya Pradesh'], alpha=1,label='Human live Lost Nos. - Madhya Pradesh')\n",
        "plt.xticks(rotation=90)\n",
        "plt.legend()\n",
        "plt.title('Total damage U VS MP')\n",
        "plt.show()"
      ],
      "metadata": {
        "id": "oeF-UAWirV5j",
        "colab": {
          "base_uri": "https://localhost:8080/",
          "height": 1000
        },
        "outputId": "1806d297-ed6f-49e3-bf9b-0f61af3f12f9"
      },
      "execution_count": 188,
      "outputs": [
        {
          "output_type": "display_data",
          "data": {
            "text/plain": [
              "<Figure size 1080x576 with 1 Axes>"
            ],
            "image/png": "[encoded data removed]"
          },
          "metadata": {
            "needs_background": "light"
          }
        },
        {
          "output_type": "display_data",
          "data": {
            "text/plain": [
              "<Figure size 1080x576 with 1 Axes>"
            ],
            "image/png": "[encoded data removed]"
          },
          "metadata": {
            "needs_background": "light"
          }
        },
        {
          "output_type": "display_data",
          "data": {
            "text/plain": [
              "<Figure size 1080x576 with 1 Axes>"
            ],
            "image/png": "[encoded data removed]"
          },
          "metadata": {
            "needs_background": "light"
          }
        }
      ]
    },
    {
      "cell_type": "markdown",
      "source": [
        "# The data represents the maximum loss of life has occured in Madhya Pradesh.And least in Uttar Pradesh"
      ],
      "metadata": {
        "id": "sd5k617pMq6D"
      }
    },
    {
      "cell_type": "code",
      "source": [
        "final_df['Human live Lost Nos. - Uttar Pradesh']=final_df['Human live Lost Nos. - Uttar Pradesh'].fillna(final_df['Human live Lost Nos. - Uttar Pradesh'].mode())"
      ],
      "metadata": {
        "id": "9dDKhtdi6bEw"
      },
      "execution_count": 170,
      "outputs": []
    },
    {
      "cell_type": "code",
      "source": [
        "final_df['Total damages Crops, Houses & Public utilities in Rs.Crore (col.6+8+11) - Bihar'].unique()"
      ],
      "metadata": {
        "id": "01Db_Lwx6e4j",
        "colab": {
          "base_uri": "https://localhost:8080/"
        },
        "outputId": "56875dda-44d9-4364-84fc-3564f8b86ab0"
      },
      "execution_count": 171,
      "outputs": [
        {
          "output_type": "execute_result",
          "data": {
            "text/plain": [
              "array(['36.5', '21.5', '21.625', '5.73', 'Neg', '3.208', '0.006', '13.25',\n",
              "       '10.131', '0.764', '13.273', '1.804', '39', '19.67', '10.16', '36',\n",
              "       '15.077', '217.437', '1.702', '20.061', '381.836', '265.763',\n",
              "       '205.994', '12.286', '178.855', '20.189', '57.733', '79.075',\n",
              "       '113.422', '26.285', '235.531', '36.54', '308.047', '1209.61',\n",
              "       '53.49', '9.5', '21.59', '31.147', '0.75', '73.008', '48.559',\n",
              "       '292.083', '92.782', '108.325', '514.844', '349.989', '252.644',\n",
              "       '624.34', '1446.632', '1118.14', '2310.647', '18.518', '103.882',\n",
              "       '2242.239', '216.42', '32.413', '11.76', '103.448', '4.572',\n",
              "       '146.35', '192.58', '62.694', '528.762', '0'], dtype=object)"
            ]
          },
          "metadata": {},
          "execution_count": 171
        }
      ]
    },
    {
      "cell_type": "code",
      "source": [
        "final_df['Total damages Crops, Houses & Public utilities in Rs.Crore (col.6+8+11) - Madhya Pradesh'].unique()"
      ],
      "metadata": {
        "id": "XpGXJOlz9gNw",
        "colab": {
          "base_uri": "https://localhost:8080/"
        },
        "outputId": "b3229dc0-7b8b-40ca-e0dc-76c937e8c538"
      },
      "execution_count": 172,
      "outputs": [
        {
          "output_type": "execute_result",
          "data": {
            "text/plain": [
              "array(['0.12', '1', '7.01', '2.115', '0.092', '0.009', '0.217', 'Neg',\n",
              "       '0.692', '0.137', 'Nil', '0.184', '0.55', '0.15', '1.57', '0.97',\n",
              "       '0.017', '69.408', '0.894', '0.119', '0.592', '5.784', '0.034',\n",
              "       '30.64', '20.905', '12.572', '7.393', '16.912', '0.03', '1.674',\n",
              "       '0.903', '0', '31.55', '24.856', '19.358', '0.05', '0.02', '3.107',\n",
              "       '81.684', '411.87', '0.069', '8.967', '35.23', '464.06', '69.01',\n",
              "       '207.86'], dtype=object)"
            ]
          },
          "metadata": {},
          "execution_count": 172
        }
      ]
    },
    {
      "cell_type": "code",
      "source": [
        "final_df['Total damages Crops, Houses & Public utilities in Rs.Crore (col.6+8+11) - Bihar']=final_df['Total damages Crops, Houses & Public utilities in Rs.Crore (col.6+8+11) - Bihar'].replace('Neg',np.mean(pd.to_numeric(final_df['Total damages Crops, Houses & Public utilities in Rs.Crore (col.6+8+11) - Bihar'], errors='coerce')))\n",
        "final_df['Total damages Crops, Houses & Public utilities in Rs.Crore (col.6+8+11) - Bihar']=final_df['Total damages Crops, Houses & Public utilities in Rs.Crore (col.6+8+11) - Bihar'].astype(float)"
      ],
      "metadata": {
        "id": "4_CSAZhoOs50"
      },
      "execution_count": 173,
      "outputs": []
    },
    {
      "cell_type": "code",
      "source": [
        "final_df['Total damages Crops, Houses & Public utilities in Rs.Crore (col.6+8+11) - Uttar Pradesh']=final_df['Total damages Crops, Houses & Public utilities in Rs.Crore (col.6+8+11) - Uttar Pradesh'].astype(float)"
      ],
      "metadata": {
        "id": "J_mrdFE_OKLI"
      },
      "execution_count": 174,
      "outputs": []
    },
    {
      "cell_type": "code",
      "source": [
        "final_df['Total damages Crops, Houses & Public utilities in Rs.Crore (col.6+8+11) - Madhya Pradesh']=final_df['Total damages Crops, Houses & Public utilities in Rs.Crore (col.6+8+11) - Madhya Pradesh'].replace('Neg',np.median(pd.to_numeric(final_df['Total damages Crops, Houses & Public utilities in Rs.Crore (col.6+8+11) - Madhya Pradesh'], errors='coerce')))\n",
        "final_df['Total damages Crops, Houses & Public utilities in Rs.Crore (col.6+8+11) - Madhya Pradesh']=final_df['Total damages Crops, Houses & Public utilities in Rs.Crore (col.6+8+11) - Madhya Pradesh'].replace('Nil',np.median(pd.to_numeric(final_df['Total damages Crops, Houses & Public utilities in Rs.Crore (col.6+8+11) - Madhya Pradesh'], errors='coerce')))"
      ],
      "metadata": {
        "id": "x0CEm2Z8Q191"
      },
      "execution_count": 175,
      "outputs": []
    },
    {
      "cell_type": "code",
      "source": [
        "final_df['Total damages Crops, Houses & Public utilities in Rs.Crore (col.6+8+11) - Madhya Pradesh']=final_df['Total damages Crops, Houses & Public utilities in Rs.Crore (col.6+8+11) - Madhya Pradesh'].astype(float)"
      ],
      "metadata": {
        "id": "VstSueMPQTZ3"
      },
      "execution_count": 176,
      "outputs": []
    },
    {
      "cell_type": "code",
      "source": [
        "# plt.subplots(figsize=(15,8))\n",
        "# sns.kdeplot(final_df['Total damages Crops, Houses & Public utilities in Rs.Crore (col.6+8+11) - Bihar'],label='Total damages Crops, Houses & Public utilities in Rs.Crore (col.6+8+11) - Bihar', shade=True, color=\"r\")\n",
        "# sns.kdeplot(final_df['Total damages Crops, Houses & Public utilities in Rs.Crore (col.6+8+11) - Uttar Pradesh'],label='Total damages Crops, Houses & Public utilities in Rs.Crore (col.6+8+11) - Uttar Pradesh', shade=True, color=\"b\")\n",
        "# plt.title(\"Totoal damage in terms of crops,house & public utilities in Bihar VS UP\")\n",
        "# plt.xticks(rotation=90)\n",
        "# plt.legend()\n",
        "# plt.show()\n",
        "\n",
        "# plt.subplots(figsize=(15,8))\n",
        "# sns.kdeplot(final_df['Total damages Crops, Houses & Public utilities in Rs.Crore (col.6+8+11) - Bihar'],label='Total damages Crops, Houses & Public utilities in Rs.Crore (col.6+8+11) - Bihar',shade=True, color=\"r\")\n",
        "# sns.kdeplot(final_df['Total damages Crops, Houses & Public utilities in Rs.Crore (col.6+8+11) - Madhya Pradesh'],label='Total damages Crops, Houses & Public utilities in Rs.Crore (col.6+8+11) - Madhya Pradesh', shade=True, color=\"b\")\n",
        "# plt.title(\"Totoal damage in terms of crops,house & public utilities in Bihar VS MP\")\n",
        "# plt.xticks(rotation=90)\n",
        "# plt.legend()\n",
        "# plt.show()\n",
        "\n",
        "# plt.subplots(figsize=(15,8))\n",
        "# sns.kdeplot(final_df['Total damages Crops, Houses & Public utilities in Rs.Crore (col.6+8+11) - Uttar Pradesh'],label='Total damages Crops, Houses & Public utilities in Rs.Crore (col.6+8+11) - Uttar Pradesh', shade=True, color=\"r\")\n",
        "# sns.kdeplot(final_df['Total damages Crops, Houses & Public utilities in Rs.Crore (col.6+8+11) - Madhya Pradesh'],label='Total damages Crops, Houses & Public utilities in Rs.Crore (col.6+8+11) - Madhya Pradesh', shade=True, color=\"b\")\n",
        "# plt.title(\"Totoal damage in terms of crops,house & public utilities in UP VS MP\")\n",
        "# plt.xticks(rotation=90)\n",
        "# plt.legend()\n",
        "# plt.show()\n"
      ],
      "metadata": {
        "id": "fxowsmIVM07n"
      },
      "execution_count": null,
      "outputs": []
    },
    {
      "cell_type": "code",
      "source": [
        "plt.hist(final_df['Total damages Crops, Houses & Public utilities in Rs.Crore (col.6+8+11) - Bihar'], alpha=0.5,label='Total damage Bihar')\n",
        "plt.hist(final_df['Total damages Crops, Houses & Public utilities in Rs.Crore (col.6+8+11) - Uttar Pradesh'], alpha=0.5,label='Total damage Uttar pradesh')\n",
        "plt.legend()\n",
        "plt.title('Total damage Bihar VS UP')\n"
      ],
      "metadata": {
        "id": "3pkFbc97CVrk",
        "colab": {
          "base_uri": "https://localhost:8080/",
          "height": 298
        },
        "outputId": "0a5eab7c-7f56-4d27-ab69-a9d180de2365"
      },
      "execution_count": 189,
      "outputs": [
        {
          "output_type": "execute_result",
          "data": {
            "text/plain": [
              "Text(0.5, 1.0, 'Total damage Bihar VS UP')"
            ]
          },
          "metadata": {},
          "execution_count": 189
        },
        {
          "output_type": "display_data",
          "data": {
            "text/plain": [
              "<Figure size 432x288 with 1 Axes>"
            ],
            "image/png": "[encoded data removed]"
          },
          "metadata": {
            "needs_background": "light"
          }
        }
      ]
    },
    {
      "cell_type": "code",
      "source": [
        "plt.hist(final_df['Total damages Crops, Houses & Public utilities in Rs.Crore (col.6+8+11) - Bihar'], alpha=0.5,label='Total damage Bihar')\n",
        "plt.hist(final_df['Total damages Crops, Houses & Public utilities in Rs.Crore (col.6+8+11) - Madhya Pradesh'], alpha=0.5,label='Total damage Madhya pradesh')\n",
        "plt.legend()\n",
        "plt.title('Total damage Bihar VS UP')"
      ],
      "metadata": {
        "id": "f6y6mLw9DRWn",
        "colab": {
          "base_uri": "https://localhost:8080/",
          "height": 298
        },
        "outputId": "93eec858-878c-4f8f-f9ea-3a27f2270379"
      },
      "execution_count": 190,
      "outputs": [
        {
          "output_type": "execute_result",
          "data": {
            "text/plain": [
              "Text(0.5, 1.0, 'Total damage Bihar VS UP')"
            ]
          },
          "metadata": {},
          "execution_count": 190
        },
        {
          "output_type": "display_data",
          "data": {
            "text/plain": [
              "<Figure size 432x288 with 1 Axes>"
            ],
            "image/png": "[encoded data removed]"
          },
          "metadata": {
            "needs_background": "light"
          }
        }
      ]
    },
    {
      "cell_type": "code",
      "source": [
        "plt.hist(final_df['Total damages Crops, Houses & Public utilities in Rs.Crore (col.6+8+11) - Uttar Pradesh'], alpha=0.5,label='Total damage Uttar Pradesh')\n",
        "plt.hist(final_df['Total damages Crops, Houses & Public utilities in Rs.Crore (col.6+8+11) - Madhya Pradesh'], alpha=0.5,label='Total damage Madhya pradesh')\n",
        "plt.legend()\n",
        "plt.title('Total damage UP VS MP')"
      ],
      "metadata": {
        "id": "3p-ZZ49TDUOT",
        "colab": {
          "base_uri": "https://localhost:8080/",
          "height": 298
        },
        "outputId": "9d2dc53d-b82e-4822-f60e-f833a4cdd14e"
      },
      "execution_count": 191,
      "outputs": [
        {
          "output_type": "execute_result",
          "data": {
            "text/plain": [
              "Text(0.5, 1.0, 'Total damage UP VS MP')"
            ]
          },
          "metadata": {},
          "execution_count": 191
        },
        {
          "output_type": "display_data",
          "data": {
            "text/plain": [
              "<Figure size 432x288 with 1 Axes>"
            ],
            "image/png": "[encoded data removed]"
          },
          "metadata": {
            "needs_background": "light"
          }
        }
      ]
    },
    {
      "cell_type": "markdown",
      "source": [
        "# And total damage of crops,house and public utilities is maximum in MP and least in UP"
      ],
      "metadata": {
        "id": "TTwYksr2FqVq"
      }
    },
    {
      "cell_type": "markdown",
      "source": [
        "# Hence from the above data we can conclude that any form of investment in the state of Madhya Pradesh should be carefully done."
      ],
      "metadata": {
        "id": "m3SJSFa_Egx6"
      }
    },
    {
      "cell_type": "code",
      "source": [
        "states=pd.read_csv('states.csv')"
      ],
      "metadata": {
        "id": "brFDjQX_Gphb"
      },
      "execution_count": 192,
      "outputs": []
    },
    {
      "cell_type": "code",
      "source": [
        "states.head()"
      ],
      "metadata": {
        "id": "bvHVdFkUKnjK",
        "colab": {
          "base_uri": "https://localhost:8080/",
          "height": 204
        },
        "outputId": "2f585a9f-99b3-4b48-b88d-f23f1be6cc53"
      },
      "execution_count": 193,
      "outputs": [
        {
          "output_type": "execute_result",
          "data": {
            "text/plain": [
              "   Unnamed: 0               State.Name   latitude  longitude\n",
              "0           1  ANDAMAN AND NICOBAR      11.667026  92.735983\n",
              "1           2      ANDHRA PRADESH       14.750429  78.570026\n",
              "2           3    ARUNACHAL PRADESH      27.100399  93.616601\n",
              "3           4                ASSAM      26.749981  94.216667\n",
              "4           5                BIHAR      25.785414  87.479973"
            ],
            "text/html": [
              "\n",
              "  <div id=\"df-34c8efc8-4193-4430-8cbb-544154086c01\">\n",
              "    <div class=\"colab-df-container\">\n",
              "      <div>\n",
              "<style scoped>\n",
              "    .dataframe tbody tr th:only-of-type {\n",
              "        vertical-align: middle;\n",
              "    }\n",
              "\n",
              "    .dataframe tbody tr th {\n",
              "        vertical-align: top;\n",
              "    }\n",
              "\n",
              "    .dataframe thead th {\n",
              "        text-align: right;\n",
              "    }\n",
              "</style>\n",
              "<table border=\"1\" class=\"dataframe\">\n",
              "  <thead>\n",
              "    <tr style=\"text-align: right;\">\n",
              "      <th></th>\n",
              "      <th>Unnamed: 0</th>\n",
              "      <th>State.Name</th>\n",
              "      <th>latitude</th>\n",
              "      <th>longitude</th>\n",
              "    </tr>\n",
              "  </thead>\n",
              "  <tbody>\n",
              "    <tr>\n",
              "      <th>0</th>\n",
              "      <td>1</td>\n",
              "      <td>ANDAMAN AND NICOBAR</td>\n",
              "      <td>11.667026</td>\n",
              "      <td>92.735983</td>\n",
              "    </tr>\n",
              "    <tr>\n",
              "      <th>1</th>\n",
              "      <td>2</td>\n",
              "      <td>ANDHRA PRADESH</td>\n",
              "      <td>14.750429</td>\n",
              "      <td>78.570026</td>\n",
              "    </tr>\n",
              "    <tr>\n",
              "      <th>2</th>\n",
              "      <td>3</td>\n",
              "      <td>ARUNACHAL PRADESH</td>\n",
              "      <td>27.100399</td>\n",
              "      <td>93.616601</td>\n",
              "    </tr>\n",
              "    <tr>\n",
              "      <th>3</th>\n",
              "      <td>4</td>\n",
              "      <td>ASSAM</td>\n",
              "      <td>26.749981</td>\n",
              "      <td>94.216667</td>\n",
              "    </tr>\n",
              "    <tr>\n",
              "      <th>4</th>\n",
              "      <td>5</td>\n",
              "      <td>BIHAR</td>\n",
              "      <td>25.785414</td>\n",
              "      <td>87.479973</td>\n",
              "    </tr>\n",
              "  </tbody>\n",
              "</table>\n",
              "</div>\n",
              "      <button class=\"colab-df-convert\" onclick=\"convertToInteractive('df-34c8efc8-4193-4430-8cbb-544154086c01')\"\n",
              "              title=\"Convert this dataframe to an interactive table.\"\n",
              "              style=\"display:none;\">\n",
              "        \n",
              "  <svg xmlns=\"http://www.w3.org/2000/svg\" height=\"24px\"viewBox=\"0 0 24 24\"\n",
              "       width=\"24px\">\n",
              "    <path d=\"M0 0h24v24H0V0z\" fill=\"none\"/>\n",
              "    <path d=\"M18.56 5.44l.94 2.06.94-2.06 2.06-.94-2.06-.94-.94-2.06-.94 2.06-2.06.94zm-11 1L8.5 8.5l.94-2.06 2.06-.94-2.06-.94L8.5 2.5l-.94 2.06-2.06.94zm10 10l.94 2.06.94-2.06 2.06-.94-2.06-.94-.94-2.06-.94 2.06-2.06.94z\"/><path d=\"M17.41 7.96l-1.37-1.37c-.4-.4-.92-.59-1.43-.59-.52 0-1.04.2-1.43.59L10.3 9.45l-7.72 7.72c-.78.78-.78 2.05 0 2.83L4 21.41c.39.39.9.59 1.41.59.51 0 1.02-.2 1.41-.59l7.78-7.78 2.81-2.81c.8-.78.8-2.07 0-2.86zM5.41 20L4 18.59l7.72-7.72 1.47 1.35L5.41 20z\"/>\n",
              "  </svg>\n",
              "      </button>\n",
              "      \n",
              "  <style>\n",
              "    .colab-df-container {\n",
              "      display:flex;\n",
              "      flex-wrap:wrap;\n",
              "      gap: 12px;\n",
              "    }\n",
              "\n",
              "    .colab-df-convert {\n",
              "      background-color: #E8F0FE;\n",
              "      border: none;\n",
              "      border-radius: 50%;\n",
              "      cursor: pointer;\n",
              "      display: none;\n",
              "      fill: #1967D2;\n",
              "      height: 32px;\n",
              "      padding: 0 0 0 0;\n",
              "      width: 32px;\n",
              "    }\n",
              "\n",
              "    .colab-df-convert:hover {\n",
              "      background-color: #E2EBFA;\n",
              "      box-shadow: 0px 1px 2px rgba(60, 64, 67, 0.3), 0px 1px 3px 1px rgba(60, 64, 67, 0.15);\n",
              "      fill: #174EA6;\n",
              "    }\n",
              "\n",
              "    [theme=dark] .colab-df-convert {\n",
              "      background-color: #3B4455;\n",
              "      fill: #D2E3FC;\n",
              "    }\n",
              "\n",
              "    [theme=dark] .colab-df-convert:hover {\n",
              "      background-color: #434B5C;\n",
              "      box-shadow: 0px 1px 3px 1px rgba(0, 0, 0, 0.15);\n",
              "      filter: drop-shadow(0px 1px 2px rgba(0, 0, 0, 0.3));\n",
              "      fill: #FFFFFF;\n",
              "    }\n",
              "  </style>\n",
              "\n",
              "      <script>\n",
              "        const buttonEl =\n",
              "          document.querySelector('#df-34c8efc8-4193-4430-8cbb-544154086c01 button.colab-df-convert');\n",
              "        buttonEl.style.display =\n",
              "          google.colab.kernel.accessAllowed ? 'block' : 'none';\n",
              "\n",
              "        async function convertToInteractive(key) {\n",
              "          const element = document.querySelector('#df-34c8efc8-4193-4430-8cbb-544154086c01');\n",
              "          const dataTable =\n",
              "            await google.colab.kernel.invokeFunction('convertToInteractive',\n",
              "                                                     [key], {});\n",
              "          if (!dataTable) return;\n",
              "\n",
              "          const docLinkHtml = 'Like what you see? Visit the ' +\n",
              "            '<a target=\"_blank\" href=https://colab.research.google.com/notebooks/data_table.ipynb>data table notebook</a>'\n",
              "            + ' to learn more about interactive tables.';\n",
              "          element.innerHTML = '';\n",
              "          dataTable['output_type'] = 'display_data';\n",
              "          await google.colab.output.renderOutput(dataTable, element);\n",
              "          const docLink = document.createElement('div');\n",
              "          docLink.innerHTML = docLinkHtml;\n",
              "          element.appendChild(docLink);\n",
              "        }\n",
              "      </script>\n",
              "    </div>\n",
              "  </div>\n",
              "  "
            ]
          },
          "metadata": {},
          "execution_count": 193
        }
      ]
    },
    {
      "cell_type": "code",
      "source": [
        "states=states\n"
      ],
      "metadata": {
        "id": "DKYeuyPQGuos"
      },
      "execution_count": 194,
      "outputs": []
    },
    {
      "cell_type": "code",
      "source": [
        "import altair as alt\n",
        "import gpdvega\n",
        "import vega\n",
        "import time"
      ],
      "metadata": {
        "id": "hXWNa0JMICjA"
      },
      "execution_count": 195,
      "outputs": []
    },
    {
      "cell_type": "code",
      "source": [
        "state = ['ANDAMAN AND NICOBAR', 'ANDHRA PRADESH',\n",
        "       'ARUNACHAL PRADESH', 'ASSAM', 'BIHAR',\n",
        "       'CHANDIGARH', 'CHHATTISGARH',\n",
        "       'DADRA AND NAGAR HAVELI', 'DELHI', 'GOA',\n",
        "       'HARYANA', 'HIMACHAL PRADESH', 'JAMMU AND KASHMIR',\n",
        "       'JHARKHAND', 'KARNATAKA', 'KERALA', 'LAKSHADWEEP',\n",
        "       'MADHYA PRADESH', 'MAHARASHTRA', 'MANIPUR',\n",
        "       'MEGHALAYA', 'MIZORAM', 'NAGALAND', 'ORISSA',\n",
        "       'PUDUCHERRY', 'PUNJAB', 'RAJASTHAN', 'SIKKIM',\n",
        "       'TAMIL NADU', 'TRIPURA', 'UTTAR PRADESH',\n",
        "       'UTTARANCHAL', 'WEST BENGAL','ANDAMAN AND NICOBAR', 'ANDHRA PRADESH',\n",
        "       'ARUNACHAL PRADESH', 'ASSAM',\n",
        "       'CHANDIGARH', 'CHHATTISGARH',\n",
        "       'DADRA AND NAGAR HAVELI', 'DELHI', 'GOA',\n",
        "       'HARYANA', 'HIMACHAL PRADESH', 'JAMMU AND KASHMIR',\n",
        "       'JHARKHAND', 'KARNATAKA', 'KERALA', 'LAKSHADWEEP',\n",
        "       'MAHARASHTRA', 'MANIPUR',\n",
        "       'MEGHALAYA', 'MIZORAM', 'NAGALAND', 'ORISSA',\n",
        "       'PUDUCHERRY', 'PUNJAB', 'RAJASTHAN', 'SIKKIM',\n",
        "       'TAMIL NADU', 'TRIPURA',\n",
        "       'UTTARANCHAL', 'WEST BENGAL','MEGHALAYA', 'MIZORAM', 'NAGALAND', 'ORISSA',\n",
        "       'PUDUCHERRY', 'PUNJAB']"
      ],
      "metadata": {
        "id": "iD5cvRHTKGHL"
      },
      "execution_count": 196,
      "outputs": []
    },
    {
      "cell_type": "code",
      "source": [
        "sum_column = final_df[\"Total damages Crops, Houses & Public utilities in Rs.Crore (col.6+8+11) - Uttar Pradesh\"] + final_df[\"Total damages Crops, Houses & Public utilities in Rs.Crore (col.6+8+11) - Madhya Pradesh\"] +final_df[\"Total damages Crops, Houses & Public utilities in Rs.Crore (col.6+8+11) - Bihar\"]\n",
        "final_df[\"damage_cost\"] = sum_column"
      ],
      "metadata": {
        "id": "zKUwsG0WMDaP"
      },
      "execution_count": 197,
      "outputs": []
    },
    {
      "cell_type": "code",
      "source": [
        "from vega_datasets import data\n",
        "states = alt.topo_feature(data.us_10m.url, feature='states')\n",
        "\n",
        "background=alt.Chart(states).mark_geoshape(\n",
        "    fill='lightgray',\n",
        "    stroke='white'\n",
        ").properties(\n",
        "    width=500,\n",
        "    height=300,\n",
        ").project('albersUsa')\n",
        "\n",
        "points=alt.Chart(states).transform_aggregate(\n",
        "    latitude='mean(latitude)',\n",
        "    longitude='mean(longitude)',\n",
        "    count='count()',\n",
        "    groupby=['State.Name']\n",
        ").mark_circle().encode(\n",
        "    longitude='state_longitude:Q',\n",
        "    latitude='state_latitude:Q',\n",
        "    size=alt.Size('count:Q', title='Total damage'),\n",
        "    color=alt.value('steelblue'),\n",
        "    tooltip=['states:N','count:Q']\n",
        ")\n",
        "background+points"
      ],
      "metadata": {
        "id": "AxrPWJg1XpD4",
        "colab": {
          "base_uri": "https://localhost:8080/",
          "height": 341
        },
        "outputId": "1c99b063-2c2c-4362-daf2-bc7d4c25f94b"
      },
      "execution_count": 198,
      "outputs": [
        {
          "output_type": "execute_result",
          "data": {
            "text/html": [
              "\n",
              "<div id=\"altair-viz-8ec1c028ca2b42cda0fcf3746f262c56\"></div>\n",
              "<script type=\"text/javascript\">\n",
              "  var VEGA_DEBUG = (typeof VEGA_DEBUG == \"undefined\") ? {} : VEGA_DEBUG;\n",
              "  (function(spec, embedOpt){\n",
              "    let outputDiv = document.currentScript.previousElementSibling;\n",
              "    if (outputDiv.id !== \"altair-viz-8ec1c028ca2b42cda0fcf3746f262c56\") {\n",
              "      outputDiv = document.getElementById(\"altair-viz-8ec1c028ca2b42cda0fcf3746f262c56\");\n",
              "    }\n",
              "    const paths = {\n",
              "      \"vega\": \"https://cdn.jsdelivr.net/npm//vega@5?noext\",\n",
              "      \"vega-lib\": \"https://cdn.jsdelivr.net/npm//vega-lib?noext\",\n",
              "      \"vega-lite\": \"https://cdn.jsdelivr.net/npm//vega-lite@4.17.0?noext\",\n",
              "      \"vega-embed\": \"https://cdn.jsdelivr.net/npm//vega-embed@6?noext\",\n",
              "    };\n",
              "\n",
              "    function maybeLoadScript(lib, version) {\n",
              "      var key = `${lib.replace(\"-\", \"\")}_version`;\n",
              "      return (VEGA_DEBUG[key] == version) ?\n",
              "        Promise.resolve(paths[lib]) :\n",
              "        new Promise(function(resolve, reject) {\n",
              "          var s = document.createElement('script');\n",
              "          document.getElementsByTagName(\"head\")[0].appendChild(s);\n",
              "          s.async = true;\n",
              "          s.onload = () => {\n",
              "            VEGA_DEBUG[key] = version;\n",
              "            return resolve(paths[lib]);\n",
              "          };\n",
              "          s.onerror = () => reject(`Error loading script: ${paths[lib]}`);\n",
              "          s.src = paths[lib];\n",
              "        });\n",
              "    }\n",
              "\n",
              "    function showError(err) {\n",
              "      outputDiv.innerHTML = `<div class=\"error\" style=\"color:red;\">${err}</div>`;\n",
              "      throw err;\n",
              "    }\n",
              "\n",
              "    function displayChart(vegaEmbed) {\n",
              "      vegaEmbed(outputDiv, spec, embedOpt)\n",
              "        .catch(err => showError(`Javascript Error: ${err.message}<br>This usually means there's a typo in your chart specification. See the javascript console for the full traceback.`));\n",
              "    }\n",
              "\n",
              "    if(typeof define === \"function\" && define.amd) {\n",
              "      requirejs.config({paths});\n",
              "      require([\"vega-embed\"], displayChart, err => showError(`Error loading script: ${err.message}`));\n",
              "    } else {\n",
              "      maybeLoadScript(\"vega\", \"5\")\n",
              "        .then(() => maybeLoadScript(\"vega-lite\", \"4.17.0\"))\n",
              "        .then(() => maybeLoadScript(\"vega-embed\", \"6\"))\n",
              "        .catch(showError)\n",
              "        .then(() => displayChart(vegaEmbed));\n",
              "    }\n",
              "  })({\"config\": {\"view\": {\"continuousWidth\": 400, \"continuousHeight\": 300}}, \"layer\": [{\"mark\": {\"type\": \"geoshape\", \"fill\": \"lightgray\", \"stroke\": \"white\"}, \"height\": 300, \"projection\": {\"type\": \"albersUsa\"}, \"width\": 500}, {\"mark\": \"circle\", \"encoding\": {\"color\": {\"value\": \"steelblue\"}, \"latitude\": {\"field\": \"state_latitude\", \"type\": \"quantitative\"}, \"longitude\": {\"field\": \"state_longitude\", \"type\": \"quantitative\"}, \"size\": {\"field\": \"count\", \"title\": \"Total damage\", \"type\": \"quantitative\"}, \"tooltip\": [{\"field\": \"states\", \"type\": \"nominal\"}, {\"field\": \"count\", \"type\": \"quantitative\"}]}, \"transform\": [{\"aggregate\": [{\"op\": \"mean\", \"field\": \"latitude\", \"as\": \"latitude\"}, {\"op\": \"mean\", \"field\": \"longitude\", \"as\": \"longitude\"}, {\"op\": \"count\", \"as\": \"count\"}], \"groupby\": [\"State.Name\"]}]}], \"data\": {\"url\": \"https://cdn.jsdelivr.net/npm/vega-datasets@v1.29.0/data/us-10m.json\", \"format\": {\"feature\": \"states\", \"type\": \"topojson\"}}, \"$schema\": \"https://vega.github.io/schema/vega-lite/v4.17.0.json\"}, {\"mode\": \"vega-lite\"});\n",
              "</script>"
            ],
            "text/plain": [
              "alt.LayerChart(...)"
            ]
          },
          "metadata": {},
          "execution_count": 198
        }
      ]
    },
    {
      "cell_type": "code",
      "source": [
        "import geopandas as gpd"
      ],
      "metadata": {
        "id": "MRzMHLQEzD29"
      },
      "execution_count": 199,
      "outputs": []
    },
    {
      "cell_type": "code",
      "source": [
        "df_geo=gpd.GeoDataFrame(states,geometry=gpd.points_from_xy(states.longitude,states.latitude))"
      ],
      "metadata": {
        "id": "-NM-1TJ9y30U",
        "colab": {
          "base_uri": "https://localhost:8080/",
          "height": 283
        },
        "outputId": "4f4b2298-65c2-4a29-ac79-ad76781d5fbf"
      },
      "execution_count": 200,
      "outputs": [
        {
          "output_type": "error",
          "ename": "AttributeError",
          "evalue": "ignored",
          "traceback": [
            "\u001b[0;31m---------------------------------------------------------------------------\u001b[0m",
            "\u001b[0;31mAttributeError\u001b[0m                            Traceback (most recent call last)",
            "\u001b[0;32m<ipython-input-200-6667c5629259>\u001b[0m in \u001b[0;36m<module>\u001b[0;34m()\u001b[0m\n\u001b[0;32m----> 1\u001b[0;31m \u001b[0mdf_geo\u001b[0m\u001b[0;34m=\u001b[0m\u001b[0mgpd\u001b[0m\u001b[0;34m.\u001b[0m\u001b[0mGeoDataFrame\u001b[0m\u001b[0;34m(\u001b[0m\u001b[0mstates\u001b[0m\u001b[0;34m,\u001b[0m\u001b[0mgeometry\u001b[0m\u001b[0;34m=\u001b[0m\u001b[0mgpd\u001b[0m\u001b[0;34m.\u001b[0m\u001b[0mpoints_from_xy\u001b[0m\u001b[0;34m(\u001b[0m\u001b[0mstates\u001b[0m\u001b[0;34m.\u001b[0m\u001b[0mlongitude\u001b[0m\u001b[0;34m,\u001b[0m\u001b[0mstates\u001b[0m\u001b[0;34m.\u001b[0m\u001b[0mlatitude\u001b[0m\u001b[0;34m)\u001b[0m\u001b[0;34m)\u001b[0m\u001b[0;34m\u001b[0m\u001b[0;34m\u001b[0m\u001b[0m\n\u001b[0m",
            "\u001b[0;32m/usr/local/lib/python3.7/dist-packages/altair/utils/schemapi.py\u001b[0m in \u001b[0;36m__getattr__\u001b[0;34m(self, attr)\u001b[0m\n\u001b[1;32m    256\u001b[0m             \u001b[0;32mexcept\u001b[0m \u001b[0mAttributeError\u001b[0m\u001b[0;34m:\u001b[0m\u001b[0;34m\u001b[0m\u001b[0;34m\u001b[0m\u001b[0m\n\u001b[1;32m    257\u001b[0m                 \u001b[0m_getattr\u001b[0m \u001b[0;34m=\u001b[0m \u001b[0msuper\u001b[0m\u001b[0;34m(\u001b[0m\u001b[0mSchemaBase\u001b[0m\u001b[0;34m,\u001b[0m \u001b[0mself\u001b[0m\u001b[0;34m)\u001b[0m\u001b[0;34m.\u001b[0m\u001b[0m__getattribute__\u001b[0m\u001b[0;34m\u001b[0m\u001b[0;34m\u001b[0m\u001b[0m\n\u001b[0;32m--> 258\u001b[0;31m             \u001b[0;32mreturn\u001b[0m \u001b[0m_getattr\u001b[0m\u001b[0;34m(\u001b[0m\u001b[0mattr\u001b[0m\u001b[0;34m)\u001b[0m\u001b[0;34m\u001b[0m\u001b[0;34m\u001b[0m\u001b[0m\n\u001b[0m\u001b[1;32m    259\u001b[0m \u001b[0;34m\u001b[0m\u001b[0m\n\u001b[1;32m    260\u001b[0m     \u001b[0;32mdef\u001b[0m \u001b[0m__setattr__\u001b[0m\u001b[0;34m(\u001b[0m\u001b[0mself\u001b[0m\u001b[0;34m,\u001b[0m \u001b[0mitem\u001b[0m\u001b[0;34m,\u001b[0m \u001b[0mval\u001b[0m\u001b[0;34m)\u001b[0m\u001b[0;34m:\u001b[0m\u001b[0;34m\u001b[0m\u001b[0;34m\u001b[0m\u001b[0m\n",
            "\u001b[0;31mAttributeError\u001b[0m: 'UrlData' object has no attribute 'longitude'"
          ]
        }
      ]
    },
    {
      "cell_type": "code",
      "source": [
        "states.head()"
      ],
      "metadata": {
        "id": "MQeUyeg6zi-7"
      },
      "execution_count": null,
      "outputs": []
    },
    {
      "cell_type": "code",
      "source": [
        "fp = \"Indian_States.shp\"\n",
        "map_df = gpd.read_file('states.csv')\n",
        "map_df.head()"
      ],
      "metadata": {
        "id": "PpBJ0T_2zrLd",
        "colab": {
          "base_uri": "https://localhost:8080/",
          "height": 204
        },
        "outputId": "ffeb7bfd-c8d5-4fe7-d029-9c5d7657220b"
      },
      "execution_count": 201,
      "outputs": [
        {
          "output_type": "execute_result",
          "data": {
            "text/plain": [
              "  field_1               State.Name     latitude    longitude geometry\n",
              "0       1  ANDAMAN AND NICOBAR      11.66702557  92.73598262     None\n",
              "1       2      ANDHRA PRADESH        14.7504291  78.57002559     None\n",
              "2       3    ARUNACHAL PRADESH      27.10039878  93.61660071     None\n",
              "3       4                ASSAM       26.7499809  94.21666744     None\n",
              "4       5                BIHAR      25.78541445   87.4799727     None"
            ],
            "text/html": [
              "\n",
              "  <div id=\"df-74ef7859-62e1-4110-9197-4d1071418bb3\">\n",
              "    <div class=\"colab-df-container\">\n",
              "      <div>\n",
              "<style scoped>\n",
              "    .dataframe tbody tr th:only-of-type {\n",
              "        vertical-align: middle;\n",
              "    }\n",
              "\n",
              "    .dataframe tbody tr th {\n",
              "        vertical-align: top;\n",
              "    }\n",
              "\n",
              "    .dataframe thead th {\n",
              "        text-align: right;\n",
              "    }\n",
              "</style>\n",
              "<table border=\"1\" class=\"dataframe\">\n",
              "  <thead>\n",
              "    <tr style=\"text-align: right;\">\n",
              "      <th></th>\n",
              "      <th>field_1</th>\n",
              "      <th>State.Name</th>\n",
              "      <th>latitude</th>\n",
              "      <th>longitude</th>\n",
              "      <th>geometry</th>\n",
              "    </tr>\n",
              "  </thead>\n",
              "  <tbody>\n",
              "    <tr>\n",
              "      <th>0</th>\n",
              "      <td>1</td>\n",
              "      <td>ANDAMAN AND NICOBAR</td>\n",
              "      <td>11.66702557</td>\n",
              "      <td>92.73598262</td>\n",
              "      <td>None</td>\n",
              "    </tr>\n",
              "    <tr>\n",
              "      <th>1</th>\n",
              "      <td>2</td>\n",
              "      <td>ANDHRA PRADESH</td>\n",
              "      <td>14.7504291</td>\n",
              "      <td>78.57002559</td>\n",
              "      <td>None</td>\n",
              "    </tr>\n",
              "    <tr>\n",
              "      <th>2</th>\n",
              "      <td>3</td>\n",
              "      <td>ARUNACHAL PRADESH</td>\n",
              "      <td>27.10039878</td>\n",
              "      <td>93.61660071</td>\n",
              "      <td>None</td>\n",
              "    </tr>\n",
              "    <tr>\n",
              "      <th>3</th>\n",
              "      <td>4</td>\n",
              "      <td>ASSAM</td>\n",
              "      <td>26.7499809</td>\n",
              "      <td>94.21666744</td>\n",
              "      <td>None</td>\n",
              "    </tr>\n",
              "    <tr>\n",
              "      <th>4</th>\n",
              "      <td>5</td>\n",
              "      <td>BIHAR</td>\n",
              "      <td>25.78541445</td>\n",
              "      <td>87.4799727</td>\n",
              "      <td>None</td>\n",
              "    </tr>\n",
              "  </tbody>\n",
              "</table>\n",
              "</div>\n",
              "      <button class=\"colab-df-convert\" onclick=\"convertToInteractive('df-74ef7859-62e1-4110-9197-4d1071418bb3')\"\n",
              "              title=\"Convert this dataframe to an interactive table.\"\n",
              "              style=\"display:none;\">\n",
              "        \n",
              "  <svg xmlns=\"http://www.w3.org/2000/svg\" height=\"24px\"viewBox=\"0 0 24 24\"\n",
              "       width=\"24px\">\n",
              "    <path d=\"M0 0h24v24H0V0z\" fill=\"none\"/>\n",
              "    <path d=\"M18.56 5.44l.94 2.06.94-2.06 2.06-.94-2.06-.94-.94-2.06-.94 2.06-2.06.94zm-11 1L8.5 8.5l.94-2.06 2.06-.94-2.06-.94L8.5 2.5l-.94 2.06-2.06.94zm10 10l.94 2.06.94-2.06 2.06-.94-2.06-.94-.94-2.06-.94 2.06-2.06.94z\"/><path d=\"M17.41 7.96l-1.37-1.37c-.4-.4-.92-.59-1.43-.59-.52 0-1.04.2-1.43.59L10.3 9.45l-7.72 7.72c-.78.78-.78 2.05 0 2.83L4 21.41c.39.39.9.59 1.41.59.51 0 1.02-.2 1.41-.59l7.78-7.78 2.81-2.81c.8-.78.8-2.07 0-2.86zM5.41 20L4 18.59l7.72-7.72 1.47 1.35L5.41 20z\"/>\n",
              "  </svg>\n",
              "      </button>\n",
              "      \n",
              "  <style>\n",
              "    .colab-df-container {\n",
              "      display:flex;\n",
              "      flex-wrap:wrap;\n",
              "      gap: 12px;\n",
              "    }\n",
              "\n",
              "    .colab-df-convert {\n",
              "      background-color: #E8F0FE;\n",
              "      border: none;\n",
              "      border-radius: 50%;\n",
              "      cursor: pointer;\n",
              "      display: none;\n",
              "      fill: #1967D2;\n",
              "      height: 32px;\n",
              "      padding: 0 0 0 0;\n",
              "      width: 32px;\n",
              "    }\n",
              "\n",
              "    .colab-df-convert:hover {\n",
              "      background-color: #E2EBFA;\n",
              "      box-shadow: 0px 1px 2px rgba(60, 64, 67, 0.3), 0px 1px 3px 1px rgba(60, 64, 67, 0.15);\n",
              "      fill: #174EA6;\n",
              "    }\n",
              "\n",
              "    [theme=dark] .colab-df-convert {\n",
              "      background-color: #3B4455;\n",
              "      fill: #D2E3FC;\n",
              "    }\n",
              "\n",
              "    [theme=dark] .colab-df-convert:hover {\n",
              "      background-color: #434B5C;\n",
              "      box-shadow: 0px 1px 3px 1px rgba(0, 0, 0, 0.15);\n",
              "      filter: drop-shadow(0px 1px 2px rgba(0, 0, 0, 0.3));\n",
              "      fill: #FFFFFF;\n",
              "    }\n",
              "  </style>\n",
              "\n",
              "      <script>\n",
              "        const buttonEl =\n",
              "          document.querySelector('#df-74ef7859-62e1-4110-9197-4d1071418bb3 button.colab-df-convert');\n",
              "        buttonEl.style.display =\n",
              "          google.colab.kernel.accessAllowed ? 'block' : 'none';\n",
              "\n",
              "        async function convertToInteractive(key) {\n",
              "          const element = document.querySelector('#df-74ef7859-62e1-4110-9197-4d1071418bb3');\n",
              "          const dataTable =\n",
              "            await google.colab.kernel.invokeFunction('convertToInteractive',\n",
              "                                                     [key], {});\n",
              "          if (!dataTable) return;\n",
              "\n",
              "          const docLinkHtml = 'Like what you see? Visit the ' +\n",
              "            '<a target=\"_blank\" href=https://colab.research.google.com/notebooks/data_table.ipynb>data table notebook</a>'\n",
              "            + ' to learn more about interactive tables.';\n",
              "          element.innerHTML = '';\n",
              "          dataTable['output_type'] = 'display_data';\n",
              "          await google.colab.output.renderOutput(dataTable, element);\n",
              "          const docLink = document.createElement('div');\n",
              "          docLink.innerHTML = docLinkHtml;\n",
              "          element.appendChild(docLink);\n",
              "        }\n",
              "      </script>\n",
              "    </div>\n",
              "  </div>\n",
              "  "
            ]
          },
          "metadata": {},
          "execution_count": 201
        }
      ]
    },
    {
      "cell_type": "code",
      "source": [
        "map_df.plot()"
      ],
      "metadata": {
        "colab": {
          "base_uri": "https://localhost:8080/",
          "height": 286
        },
        "id": "zq2VFeueFFRB",
        "outputId": "68677a2e-61fb-495d-b071-1d77587444bf"
      },
      "execution_count": 202,
      "outputs": [
        {
          "output_type": "execute_result",
          "data": {
            "text/plain": [
              "<matplotlib.axes._subplots.AxesSubplot at 0x7f4de34b1690>"
            ]
          },
          "metadata": {},
          "execution_count": 202
        },
        {
          "output_type": "display_data",
          "data": {
            "text/plain": [
              "<Figure size 432x288 with 1 Axes>"
            ],
            "image/png": "[encoded data removed]"
          },
          "metadata": {
            "needs_background": "light"
          }
        }
      ]
    },
    {
      "cell_type": "code",
      "source": [
        ""
      ],
      "metadata": {
        "id": "M09SK4zoFkdV"
      },
      "execution_count": null,
      "outputs": []
    }
  ]
}