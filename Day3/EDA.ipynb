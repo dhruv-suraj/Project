{
  "nbformat": 4,
  "nbformat_minor": 0,
  "metadata": {
    "colab": {
      "name": "EDA.ipynb",
      "provenance": []
    },
    "kernelspec": {
      "name": "python3",
      "display_name": "Python 3"
    },
    "language_info": {
      "name": "python"
    }
  },
  "cells": [
    {
      "cell_type": "code",
      "execution_count": 108,
      "metadata": {
        "id": "gvIMGdx9OTou"
      },
      "outputs": [],
      "source": [
        "import pandas as pd\n",
        "import numpy as np\n",
        "import matplotlib.pyplot as plt\n",
        "import seaborn as sns"
      ]
    },
    {
      "cell_type": "code",
      "source": [
        "final_df=pd.read_csv('flood.csv')"
      ],
      "metadata": {
        "id": "FykfQahsOmOd"
      },
      "execution_count": 109,
      "outputs": []
    },
    {
      "cell_type": "code",
      "source": [
        "final_df.head()"
      ],
      "metadata": {
        "colab": {
          "base_uri": "https://localhost:8080/",
          "height": 433
        },
        "id": "iYGjfF2uOsXt",
        "outputId": "411137e9-5210-4e9d-fa39-c66af9c90b6c"
      },
      "execution_count": 110,
      "outputs": [
        {
          "output_type": "execute_result",
          "data": {
            "text/plain": [
              "  Sl.No\\n - India  Year  Area affected in m.ha. - India  \\\n",
              "0               1  1953                            2.29   \n",
              "1               2  1954                            7.49   \n",
              "2               3  1955                            9.44   \n",
              "3               4  1956                            9.24   \n",
              "4               5  1957                            4.86   \n",
              "\n",
              "   Population affected in million - India  \\\n",
              "0                                   24.28   \n",
              "1                                   12.92   \n",
              "2                                   25.27   \n",
              "3                                   14.57   \n",
              "4                                    6.76   \n",
              "\n",
              "   Damage to Crops - Area in m. ha. - India  \\\n",
              "0                                      0.93   \n",
              "1                                      2.61   \n",
              "2                                      5.31   \n",
              "3                                      1.11   \n",
              "4                                      0.45   \n",
              "\n",
              "   Damage to Crops - Value in Rs.Crore - India  \\\n",
              "0                                        42.08   \n",
              "1                                        40.52   \n",
              "2                                        77.80   \n",
              "3                                        44.44   \n",
              "4                                        14.12   \n",
              "\n",
              "   Damage to Houses - Nos. - India  \\\n",
              "0                           264924   \n",
              "1                           199984   \n",
              "2                          1666789   \n",
              "3                           725776   \n",
              "4                           318149   \n",
              "\n",
              "   Damage to Houses - Value in Rs.Crore - India  Cattle Lost Nos. - India  \\\n",
              "0                                         7.420                     47034   \n",
              "1                                         6.561                     22552   \n",
              "2                                        20.945                     72010   \n",
              "3                                         8.047                     16108   \n",
              "4                                         4.979                      7433   \n",
              "\n",
              "   Human live Lost Nos. - India  ...  Area affected in m.ha. - Bihar  \\\n",
              "0                            37  ...                            0.97   \n",
              "1                           279  ...                            2.50   \n",
              "2                           865  ...                            1.77   \n",
              "3                           462  ...                            1.32   \n",
              "4                           352  ...                            0.79   \n",
              "\n",
              "   Population affected in million - Bihar  \\\n",
              "0                                    6.77   \n",
              "1                                    7.67   \n",
              "2                                    7.11   \n",
              "3                                    3.12   \n",
              "4                                    1.73   \n",
              "\n",
              "   Damage to Crops - Area in m. ha. - Bihar  \\\n",
              "0                                      0.93   \n",
              "1                                      1.59   \n",
              "2                                      1.01   \n",
              "3                                       0.4   \n",
              "4                                       0.3   \n",
              "\n",
              "   Damage to Crops - Value in Rs.Crore - Bihar  \\\n",
              "0                                           29   \n",
              "1                                           15   \n",
              "2                                         20.3   \n",
              "3                                         5.22   \n",
              "4                                          Neg   \n",
              "\n",
              "   Damage to Houses - Nos. - Bihar  \\\n",
              "0                           184300   \n",
              "1                           179451   \n",
              "2                           111356   \n",
              "3                            79879   \n",
              "4                            18812   \n",
              "\n",
              "   Damage to Houses - Value in Rs.Crore - Bihar  Cattle Lost Nos. - Bihar  \\\n",
              "0                                             6                        33   \n",
              "1                                             5                      1944   \n",
              "2                                          1.12                        57   \n",
              "3                                          0.51                       138   \n",
              "4                                           Neg                        18   \n",
              "\n",
              "   Human live Lost Nos. - Bihar  \\\n",
              "0                             5   \n",
              "1                            63   \n",
              "2                            44   \n",
              "3                            32   \n",
              "4                             7   \n",
              "\n",
              "   Damage to Public Utilities in Rs.Crore - Bihar  \\\n",
              "0                                             1.5   \n",
              "1                                             1.5   \n",
              "2                                           0.205   \n",
              "3                                             Nil   \n",
              "4                                             Nil   \n",
              "\n",
              "   Total damages Crops, Houses & Public utilities in Rs.Crore (col.6+8+11) - Bihar  \n",
              "0                                               36.5                                \n",
              "1                                               21.5                                \n",
              "2                                             21.625                                \n",
              "3                                               5.73                                \n",
              "4                                                Neg                                \n",
              "\n",
              "[5 rows x 42 columns]"
            ],
            "text/html": [
              "\n",
              "  <div id=\"df-57820f43-d844-4478-b7d1-4c316f9e5374\">\n",
              "    <div class=\"colab-df-container\">\n",
              "      <div>\n",
              "<style scoped>\n",
              "    .dataframe tbody tr th:only-of-type {\n",
              "        vertical-align: middle;\n",
              "    }\n",
              "\n",
              "    .dataframe tbody tr th {\n",
              "        vertical-align: top;\n",
              "    }\n",
              "\n",
              "    .dataframe thead th {\n",
              "        text-align: right;\n",
              "    }\n",
              "</style>\n",
              "<table border=\"1\" class=\"dataframe\">\n",
              "  <thead>\n",
              "    <tr style=\"text-align: right;\">\n",
              "      <th></th>\n",
              "      <th>Sl.No\\n - India</th>\n",
              "      <th>Year</th>\n",
              "      <th>Area affected in m.ha. - India</th>\n",
              "      <th>Population affected in million - India</th>\n",
              "      <th>Damage to Crops - Area in m. ha. - India</th>\n",
              "      <th>Damage to Crops - Value in Rs.Crore - India</th>\n",
              "      <th>Damage to Houses - Nos. - India</th>\n",
              "      <th>Damage to Houses - Value in Rs.Crore - India</th>\n",
              "      <th>Cattle Lost Nos. - India</th>\n",
              "      <th>Human live Lost Nos. - India</th>\n",
              "      <th>...</th>\n",
              "      <th>Area affected in m.ha. - Bihar</th>\n",
              "      <th>Population affected in million - Bihar</th>\n",
              "      <th>Damage to Crops - Area in m. ha. - Bihar</th>\n",
              "      <th>Damage to Crops - Value in Rs.Crore - Bihar</th>\n",
              "      <th>Damage to Houses - Nos. - Bihar</th>\n",
              "      <th>Damage to Houses - Value in Rs.Crore - Bihar</th>\n",
              "      <th>Cattle Lost Nos. - Bihar</th>\n",
              "      <th>Human live Lost Nos. - Bihar</th>\n",
              "      <th>Damage to Public Utilities in Rs.Crore - Bihar</th>\n",
              "      <th>Total damages Crops, Houses &amp; Public utilities in Rs.Crore (col.6+8+11) - Bihar</th>\n",
              "    </tr>\n",
              "  </thead>\n",
              "  <tbody>\n",
              "    <tr>\n",
              "      <th>0</th>\n",
              "      <td>1</td>\n",
              "      <td>1953</td>\n",
              "      <td>2.29</td>\n",
              "      <td>24.28</td>\n",
              "      <td>0.93</td>\n",
              "      <td>42.08</td>\n",
              "      <td>264924</td>\n",
              "      <td>7.420</td>\n",
              "      <td>47034</td>\n",
              "      <td>37</td>\n",
              "      <td>...</td>\n",
              "      <td>0.97</td>\n",
              "      <td>6.77</td>\n",
              "      <td>0.93</td>\n",
              "      <td>29</td>\n",
              "      <td>184300</td>\n",
              "      <td>6</td>\n",
              "      <td>33</td>\n",
              "      <td>5</td>\n",
              "      <td>1.5</td>\n",
              "      <td>36.5</td>\n",
              "    </tr>\n",
              "    <tr>\n",
              "      <th>1</th>\n",
              "      <td>2</td>\n",
              "      <td>1954</td>\n",
              "      <td>7.49</td>\n",
              "      <td>12.92</td>\n",
              "      <td>2.61</td>\n",
              "      <td>40.52</td>\n",
              "      <td>199984</td>\n",
              "      <td>6.561</td>\n",
              "      <td>22552</td>\n",
              "      <td>279</td>\n",
              "      <td>...</td>\n",
              "      <td>2.50</td>\n",
              "      <td>7.67</td>\n",
              "      <td>1.59</td>\n",
              "      <td>15</td>\n",
              "      <td>179451</td>\n",
              "      <td>5</td>\n",
              "      <td>1944</td>\n",
              "      <td>63</td>\n",
              "      <td>1.5</td>\n",
              "      <td>21.5</td>\n",
              "    </tr>\n",
              "    <tr>\n",
              "      <th>2</th>\n",
              "      <td>3</td>\n",
              "      <td>1955</td>\n",
              "      <td>9.44</td>\n",
              "      <td>25.27</td>\n",
              "      <td>5.31</td>\n",
              "      <td>77.80</td>\n",
              "      <td>1666789</td>\n",
              "      <td>20.945</td>\n",
              "      <td>72010</td>\n",
              "      <td>865</td>\n",
              "      <td>...</td>\n",
              "      <td>1.77</td>\n",
              "      <td>7.11</td>\n",
              "      <td>1.01</td>\n",
              "      <td>20.3</td>\n",
              "      <td>111356</td>\n",
              "      <td>1.12</td>\n",
              "      <td>57</td>\n",
              "      <td>44</td>\n",
              "      <td>0.205</td>\n",
              "      <td>21.625</td>\n",
              "    </tr>\n",
              "    <tr>\n",
              "      <th>3</th>\n",
              "      <td>4</td>\n",
              "      <td>1956</td>\n",
              "      <td>9.24</td>\n",
              "      <td>14.57</td>\n",
              "      <td>1.11</td>\n",
              "      <td>44.44</td>\n",
              "      <td>725776</td>\n",
              "      <td>8.047</td>\n",
              "      <td>16108</td>\n",
              "      <td>462</td>\n",
              "      <td>...</td>\n",
              "      <td>1.32</td>\n",
              "      <td>3.12</td>\n",
              "      <td>0.4</td>\n",
              "      <td>5.22</td>\n",
              "      <td>79879</td>\n",
              "      <td>0.51</td>\n",
              "      <td>138</td>\n",
              "      <td>32</td>\n",
              "      <td>Nil</td>\n",
              "      <td>5.73</td>\n",
              "    </tr>\n",
              "    <tr>\n",
              "      <th>4</th>\n",
              "      <td>5</td>\n",
              "      <td>1957</td>\n",
              "      <td>4.86</td>\n",
              "      <td>6.76</td>\n",
              "      <td>0.45</td>\n",
              "      <td>14.12</td>\n",
              "      <td>318149</td>\n",
              "      <td>4.979</td>\n",
              "      <td>7433</td>\n",
              "      <td>352</td>\n",
              "      <td>...</td>\n",
              "      <td>0.79</td>\n",
              "      <td>1.73</td>\n",
              "      <td>0.3</td>\n",
              "      <td>Neg</td>\n",
              "      <td>18812</td>\n",
              "      <td>Neg</td>\n",
              "      <td>18</td>\n",
              "      <td>7</td>\n",
              "      <td>Nil</td>\n",
              "      <td>Neg</td>\n",
              "    </tr>\n",
              "  </tbody>\n",
              "</table>\n",
              "<p>5 rows × 42 columns</p>\n",
              "</div>\n",
              "      <button class=\"colab-df-convert\" onclick=\"convertToInteractive('df-57820f43-d844-4478-b7d1-4c316f9e5374')\"\n",
              "              title=\"Convert this dataframe to an interactive table.\"\n",
              "              style=\"display:none;\">\n",
              "        \n",
              "  <svg xmlns=\"http://www.w3.org/2000/svg\" height=\"24px\"viewBox=\"0 0 24 24\"\n",
              "       width=\"24px\">\n",
              "    <path d=\"M0 0h24v24H0V0z\" fill=\"none\"/>\n",
              "    <path d=\"M18.56 5.44l.94 2.06.94-2.06 2.06-.94-2.06-.94-.94-2.06-.94 2.06-2.06.94zm-11 1L8.5 8.5l.94-2.06 2.06-.94-2.06-.94L8.5 2.5l-.94 2.06-2.06.94zm10 10l.94 2.06.94-2.06 2.06-.94-2.06-.94-.94-2.06-.94 2.06-2.06.94z\"/><path d=\"M17.41 7.96l-1.37-1.37c-.4-.4-.92-.59-1.43-.59-.52 0-1.04.2-1.43.59L10.3 9.45l-7.72 7.72c-.78.78-.78 2.05 0 2.83L4 21.41c.39.39.9.59 1.41.59.51 0 1.02-.2 1.41-.59l7.78-7.78 2.81-2.81c.8-.78.8-2.07 0-2.86zM5.41 20L4 18.59l7.72-7.72 1.47 1.35L5.41 20z\"/>\n",
              "  </svg>\n",
              "      </button>\n",
              "      \n",
              "  <style>\n",
              "    .colab-df-container {\n",
              "      display:flex;\n",
              "      flex-wrap:wrap;\n",
              "      gap: 12px;\n",
              "    }\n",
              "\n",
              "    .colab-df-convert {\n",
              "      background-color: #E8F0FE;\n",
              "      border: none;\n",
              "      border-radius: 50%;\n",
              "      cursor: pointer;\n",
              "      display: none;\n",
              "      fill: #1967D2;\n",
              "      height: 32px;\n",
              "      padding: 0 0 0 0;\n",
              "      width: 32px;\n",
              "    }\n",
              "\n",
              "    .colab-df-convert:hover {\n",
              "      background-color: #E2EBFA;\n",
              "      box-shadow: 0px 1px 2px rgba(60, 64, 67, 0.3), 0px 1px 3px 1px rgba(60, 64, 67, 0.15);\n",
              "      fill: #174EA6;\n",
              "    }\n",
              "\n",
              "    [theme=dark] .colab-df-convert {\n",
              "      background-color: #3B4455;\n",
              "      fill: #D2E3FC;\n",
              "    }\n",
              "\n",
              "    [theme=dark] .colab-df-convert:hover {\n",
              "      background-color: #434B5C;\n",
              "      box-shadow: 0px 1px 3px 1px rgba(0, 0, 0, 0.15);\n",
              "      filter: drop-shadow(0px 1px 2px rgba(0, 0, 0, 0.3));\n",
              "      fill: #FFFFFF;\n",
              "    }\n",
              "  </style>\n",
              "\n",
              "      <script>\n",
              "        const buttonEl =\n",
              "          document.querySelector('#df-57820f43-d844-4478-b7d1-4c316f9e5374 button.colab-df-convert');\n",
              "        buttonEl.style.display =\n",
              "          google.colab.kernel.accessAllowed ? 'block' : 'none';\n",
              "\n",
              "        async function convertToInteractive(key) {\n",
              "          const element = document.querySelector('#df-57820f43-d844-4478-b7d1-4c316f9e5374');\n",
              "          const dataTable =\n",
              "            await google.colab.kernel.invokeFunction('convertToInteractive',\n",
              "                                                     [key], {});\n",
              "          if (!dataTable) return;\n",
              "\n",
              "          const docLinkHtml = 'Like what you see? Visit the ' +\n",
              "            '<a target=\"_blank\" href=https://colab.research.google.com/notebooks/data_table.ipynb>data table notebook</a>'\n",
              "            + ' to learn more about interactive tables.';\n",
              "          element.innerHTML = '';\n",
              "          dataTable['output_type'] = 'display_data';\n",
              "          await google.colab.output.renderOutput(dataTable, element);\n",
              "          const docLink = document.createElement('div');\n",
              "          docLink.innerHTML = docLinkHtml;\n",
              "          element.appendChild(docLink);\n",
              "        }\n",
              "      </script>\n",
              "    </div>\n",
              "  </div>\n",
              "  "
            ]
          },
          "metadata": {},
          "execution_count": 110
        }
      ]
    },
    {
      "cell_type": "code",
      "source": [
        "final_df['Population affected in million - India']=final_df['Population affected in million - India'].astype(int)"
      ],
      "metadata": {
        "id": "XZsJqB_oVj_e"
      },
      "execution_count": 111,
      "outputs": []
    },
    {
      "cell_type": "code",
      "source": [
        "final_df['Population affected in million - India']=final_df['Population affected in million - India'].round()"
      ],
      "metadata": {
        "id": "U7JlUWHeUrdT"
      },
      "execution_count": 112,
      "outputs": []
    },
    {
      "cell_type": "code",
      "source": [
        "final_df.head()"
      ],
      "metadata": {
        "id": "J9j0RM0TV0gk",
        "outputId": "13a24793-4684-4ce7-a0cf-66e30c0fe6bd",
        "colab": {
          "base_uri": "https://localhost:8080/",
          "height": 433
        }
      },
      "execution_count": 113,
      "outputs": [
        {
          "output_type": "execute_result",
          "data": {
            "text/plain": [
              "  Sl.No\\n - India  Year  Area affected in m.ha. - India  \\\n",
              "0               1  1953                            2.29   \n",
              "1               2  1954                            7.49   \n",
              "2               3  1955                            9.44   \n",
              "3               4  1956                            9.24   \n",
              "4               5  1957                            4.86   \n",
              "\n",
              "   Population affected in million - India  \\\n",
              "0                                      24   \n",
              "1                                      12   \n",
              "2                                      25   \n",
              "3                                      14   \n",
              "4                                       6   \n",
              "\n",
              "   Damage to Crops - Area in m. ha. - India  \\\n",
              "0                                      0.93   \n",
              "1                                      2.61   \n",
              "2                                      5.31   \n",
              "3                                      1.11   \n",
              "4                                      0.45   \n",
              "\n",
              "   Damage to Crops - Value in Rs.Crore - India  \\\n",
              "0                                        42.08   \n",
              "1                                        40.52   \n",
              "2                                        77.80   \n",
              "3                                        44.44   \n",
              "4                                        14.12   \n",
              "\n",
              "   Damage to Houses - Nos. - India  \\\n",
              "0                           264924   \n",
              "1                           199984   \n",
              "2                          1666789   \n",
              "3                           725776   \n",
              "4                           318149   \n",
              "\n",
              "   Damage to Houses - Value in Rs.Crore - India  Cattle Lost Nos. - India  \\\n",
              "0                                         7.420                     47034   \n",
              "1                                         6.561                     22552   \n",
              "2                                        20.945                     72010   \n",
              "3                                         8.047                     16108   \n",
              "4                                         4.979                      7433   \n",
              "\n",
              "   Human live Lost Nos. - India  ...  Area affected in m.ha. - Bihar  \\\n",
              "0                            37  ...                            0.97   \n",
              "1                           279  ...                            2.50   \n",
              "2                           865  ...                            1.77   \n",
              "3                           462  ...                            1.32   \n",
              "4                           352  ...                            0.79   \n",
              "\n",
              "   Population affected in million - Bihar  \\\n",
              "0                                    6.77   \n",
              "1                                    7.67   \n",
              "2                                    7.11   \n",
              "3                                    3.12   \n",
              "4                                    1.73   \n",
              "\n",
              "   Damage to Crops - Area in m. ha. - Bihar  \\\n",
              "0                                      0.93   \n",
              "1                                      1.59   \n",
              "2                                      1.01   \n",
              "3                                       0.4   \n",
              "4                                       0.3   \n",
              "\n",
              "   Damage to Crops - Value in Rs.Crore - Bihar  \\\n",
              "0                                           29   \n",
              "1                                           15   \n",
              "2                                         20.3   \n",
              "3                                         5.22   \n",
              "4                                          Neg   \n",
              "\n",
              "   Damage to Houses - Nos. - Bihar  \\\n",
              "0                           184300   \n",
              "1                           179451   \n",
              "2                           111356   \n",
              "3                            79879   \n",
              "4                            18812   \n",
              "\n",
              "   Damage to Houses - Value in Rs.Crore - Bihar  Cattle Lost Nos. - Bihar  \\\n",
              "0                                             6                        33   \n",
              "1                                             5                      1944   \n",
              "2                                          1.12                        57   \n",
              "3                                          0.51                       138   \n",
              "4                                           Neg                        18   \n",
              "\n",
              "   Human live Lost Nos. - Bihar  \\\n",
              "0                             5   \n",
              "1                            63   \n",
              "2                            44   \n",
              "3                            32   \n",
              "4                             7   \n",
              "\n",
              "   Damage to Public Utilities in Rs.Crore - Bihar  \\\n",
              "0                                             1.5   \n",
              "1                                             1.5   \n",
              "2                                           0.205   \n",
              "3                                             Nil   \n",
              "4                                             Nil   \n",
              "\n",
              "   Total damages Crops, Houses & Public utilities in Rs.Crore (col.6+8+11) - Bihar  \n",
              "0                                               36.5                                \n",
              "1                                               21.5                                \n",
              "2                                             21.625                                \n",
              "3                                               5.73                                \n",
              "4                                                Neg                                \n",
              "\n",
              "[5 rows x 42 columns]"
            ],
            "text/html": [
              "\n",
              "  <div id=\"df-472c2bd0-bcf8-4f2f-894c-599ccf89d52f\">\n",
              "    <div class=\"colab-df-container\">\n",
              "      <div>\n",
              "<style scoped>\n",
              "    .dataframe tbody tr th:only-of-type {\n",
              "        vertical-align: middle;\n",
              "    }\n",
              "\n",
              "    .dataframe tbody tr th {\n",
              "        vertical-align: top;\n",
              "    }\n",
              "\n",
              "    .dataframe thead th {\n",
              "        text-align: right;\n",
              "    }\n",
              "</style>\n",
              "<table border=\"1\" class=\"dataframe\">\n",
              "  <thead>\n",
              "    <tr style=\"text-align: right;\">\n",
              "      <th></th>\n",
              "      <th>Sl.No\\n - India</th>\n",
              "      <th>Year</th>\n",
              "      <th>Area affected in m.ha. - India</th>\n",
              "      <th>Population affected in million - India</th>\n",
              "      <th>Damage to Crops - Area in m. ha. - India</th>\n",
              "      <th>Damage to Crops - Value in Rs.Crore - India</th>\n",
              "      <th>Damage to Houses - Nos. - India</th>\n",
              "      <th>Damage to Houses - Value in Rs.Crore - India</th>\n",
              "      <th>Cattle Lost Nos. - India</th>\n",
              "      <th>Human live Lost Nos. - India</th>\n",
              "      <th>...</th>\n",
              "      <th>Area affected in m.ha. - Bihar</th>\n",
              "      <th>Population affected in million - Bihar</th>\n",
              "      <th>Damage to Crops - Area in m. ha. - Bihar</th>\n",
              "      <th>Damage to Crops - Value in Rs.Crore - Bihar</th>\n",
              "      <th>Damage to Houses - Nos. - Bihar</th>\n",
              "      <th>Damage to Houses - Value in Rs.Crore - Bihar</th>\n",
              "      <th>Cattle Lost Nos. - Bihar</th>\n",
              "      <th>Human live Lost Nos. - Bihar</th>\n",
              "      <th>Damage to Public Utilities in Rs.Crore - Bihar</th>\n",
              "      <th>Total damages Crops, Houses &amp; Public utilities in Rs.Crore (col.6+8+11) - Bihar</th>\n",
              "    </tr>\n",
              "  </thead>\n",
              "  <tbody>\n",
              "    <tr>\n",
              "      <th>0</th>\n",
              "      <td>1</td>\n",
              "      <td>1953</td>\n",
              "      <td>2.29</td>\n",
              "      <td>24</td>\n",
              "      <td>0.93</td>\n",
              "      <td>42.08</td>\n",
              "      <td>264924</td>\n",
              "      <td>7.420</td>\n",
              "      <td>47034</td>\n",
              "      <td>37</td>\n",
              "      <td>...</td>\n",
              "      <td>0.97</td>\n",
              "      <td>6.77</td>\n",
              "      <td>0.93</td>\n",
              "      <td>29</td>\n",
              "      <td>184300</td>\n",
              "      <td>6</td>\n",
              "      <td>33</td>\n",
              "      <td>5</td>\n",
              "      <td>1.5</td>\n",
              "      <td>36.5</td>\n",
              "    </tr>\n",
              "    <tr>\n",
              "      <th>1</th>\n",
              "      <td>2</td>\n",
              "      <td>1954</td>\n",
              "      <td>7.49</td>\n",
              "      <td>12</td>\n",
              "      <td>2.61</td>\n",
              "      <td>40.52</td>\n",
              "      <td>199984</td>\n",
              "      <td>6.561</td>\n",
              "      <td>22552</td>\n",
              "      <td>279</td>\n",
              "      <td>...</td>\n",
              "      <td>2.50</td>\n",
              "      <td>7.67</td>\n",
              "      <td>1.59</td>\n",
              "      <td>15</td>\n",
              "      <td>179451</td>\n",
              "      <td>5</td>\n",
              "      <td>1944</td>\n",
              "      <td>63</td>\n",
              "      <td>1.5</td>\n",
              "      <td>21.5</td>\n",
              "    </tr>\n",
              "    <tr>\n",
              "      <th>2</th>\n",
              "      <td>3</td>\n",
              "      <td>1955</td>\n",
              "      <td>9.44</td>\n",
              "      <td>25</td>\n",
              "      <td>5.31</td>\n",
              "      <td>77.80</td>\n",
              "      <td>1666789</td>\n",
              "      <td>20.945</td>\n",
              "      <td>72010</td>\n",
              "      <td>865</td>\n",
              "      <td>...</td>\n",
              "      <td>1.77</td>\n",
              "      <td>7.11</td>\n",
              "      <td>1.01</td>\n",
              "      <td>20.3</td>\n",
              "      <td>111356</td>\n",
              "      <td>1.12</td>\n",
              "      <td>57</td>\n",
              "      <td>44</td>\n",
              "      <td>0.205</td>\n",
              "      <td>21.625</td>\n",
              "    </tr>\n",
              "    <tr>\n",
              "      <th>3</th>\n",
              "      <td>4</td>\n",
              "      <td>1956</td>\n",
              "      <td>9.24</td>\n",
              "      <td>14</td>\n",
              "      <td>1.11</td>\n",
              "      <td>44.44</td>\n",
              "      <td>725776</td>\n",
              "      <td>8.047</td>\n",
              "      <td>16108</td>\n",
              "      <td>462</td>\n",
              "      <td>...</td>\n",
              "      <td>1.32</td>\n",
              "      <td>3.12</td>\n",
              "      <td>0.4</td>\n",
              "      <td>5.22</td>\n",
              "      <td>79879</td>\n",
              "      <td>0.51</td>\n",
              "      <td>138</td>\n",
              "      <td>32</td>\n",
              "      <td>Nil</td>\n",
              "      <td>5.73</td>\n",
              "    </tr>\n",
              "    <tr>\n",
              "      <th>4</th>\n",
              "      <td>5</td>\n",
              "      <td>1957</td>\n",
              "      <td>4.86</td>\n",
              "      <td>6</td>\n",
              "      <td>0.45</td>\n",
              "      <td>14.12</td>\n",
              "      <td>318149</td>\n",
              "      <td>4.979</td>\n",
              "      <td>7433</td>\n",
              "      <td>352</td>\n",
              "      <td>...</td>\n",
              "      <td>0.79</td>\n",
              "      <td>1.73</td>\n",
              "      <td>0.3</td>\n",
              "      <td>Neg</td>\n",
              "      <td>18812</td>\n",
              "      <td>Neg</td>\n",
              "      <td>18</td>\n",
              "      <td>7</td>\n",
              "      <td>Nil</td>\n",
              "      <td>Neg</td>\n",
              "    </tr>\n",
              "  </tbody>\n",
              "</table>\n",
              "<p>5 rows × 42 columns</p>\n",
              "</div>\n",
              "      <button class=\"colab-df-convert\" onclick=\"convertToInteractive('df-472c2bd0-bcf8-4f2f-894c-599ccf89d52f')\"\n",
              "              title=\"Convert this dataframe to an interactive table.\"\n",
              "              style=\"display:none;\">\n",
              "        \n",
              "  <svg xmlns=\"http://www.w3.org/2000/svg\" height=\"24px\"viewBox=\"0 0 24 24\"\n",
              "       width=\"24px\">\n",
              "    <path d=\"M0 0h24v24H0V0z\" fill=\"none\"/>\n",
              "    <path d=\"M18.56 5.44l.94 2.06.94-2.06 2.06-.94-2.06-.94-.94-2.06-.94 2.06-2.06.94zm-11 1L8.5 8.5l.94-2.06 2.06-.94-2.06-.94L8.5 2.5l-.94 2.06-2.06.94zm10 10l.94 2.06.94-2.06 2.06-.94-2.06-.94-.94-2.06-.94 2.06-2.06.94z\"/><path d=\"M17.41 7.96l-1.37-1.37c-.4-.4-.92-.59-1.43-.59-.52 0-1.04.2-1.43.59L10.3 9.45l-7.72 7.72c-.78.78-.78 2.05 0 2.83L4 21.41c.39.39.9.59 1.41.59.51 0 1.02-.2 1.41-.59l7.78-7.78 2.81-2.81c.8-.78.8-2.07 0-2.86zM5.41 20L4 18.59l7.72-7.72 1.47 1.35L5.41 20z\"/>\n",
              "  </svg>\n",
              "      </button>\n",
              "      \n",
              "  <style>\n",
              "    .colab-df-container {\n",
              "      display:flex;\n",
              "      flex-wrap:wrap;\n",
              "      gap: 12px;\n",
              "    }\n",
              "\n",
              "    .colab-df-convert {\n",
              "      background-color: #E8F0FE;\n",
              "      border: none;\n",
              "      border-radius: 50%;\n",
              "      cursor: pointer;\n",
              "      display: none;\n",
              "      fill: #1967D2;\n",
              "      height: 32px;\n",
              "      padding: 0 0 0 0;\n",
              "      width: 32px;\n",
              "    }\n",
              "\n",
              "    .colab-df-convert:hover {\n",
              "      background-color: #E2EBFA;\n",
              "      box-shadow: 0px 1px 2px rgba(60, 64, 67, 0.3), 0px 1px 3px 1px rgba(60, 64, 67, 0.15);\n",
              "      fill: #174EA6;\n",
              "    }\n",
              "\n",
              "    [theme=dark] .colab-df-convert {\n",
              "      background-color: #3B4455;\n",
              "      fill: #D2E3FC;\n",
              "    }\n",
              "\n",
              "    [theme=dark] .colab-df-convert:hover {\n",
              "      background-color: #434B5C;\n",
              "      box-shadow: 0px 1px 3px 1px rgba(0, 0, 0, 0.15);\n",
              "      filter: drop-shadow(0px 1px 2px rgba(0, 0, 0, 0.3));\n",
              "      fill: #FFFFFF;\n",
              "    }\n",
              "  </style>\n",
              "\n",
              "      <script>\n",
              "        const buttonEl =\n",
              "          document.querySelector('#df-472c2bd0-bcf8-4f2f-894c-599ccf89d52f button.colab-df-convert');\n",
              "        buttonEl.style.display =\n",
              "          google.colab.kernel.accessAllowed ? 'block' : 'none';\n",
              "\n",
              "        async function convertToInteractive(key) {\n",
              "          const element = document.querySelector('#df-472c2bd0-bcf8-4f2f-894c-599ccf89d52f');\n",
              "          const dataTable =\n",
              "            await google.colab.kernel.invokeFunction('convertToInteractive',\n",
              "                                                     [key], {});\n",
              "          if (!dataTable) return;\n",
              "\n",
              "          const docLinkHtml = 'Like what you see? Visit the ' +\n",
              "            '<a target=\"_blank\" href=https://colab.research.google.com/notebooks/data_table.ipynb>data table notebook</a>'\n",
              "            + ' to learn more about interactive tables.';\n",
              "          element.innerHTML = '';\n",
              "          dataTable['output_type'] = 'display_data';\n",
              "          await google.colab.output.renderOutput(dataTable, element);\n",
              "          const docLink = document.createElement('div');\n",
              "          docLink.innerHTML = docLinkHtml;\n",
              "          element.appendChild(docLink);\n",
              "        }\n",
              "      </script>\n",
              "    </div>\n",
              "  </div>\n",
              "  "
            ]
          },
          "metadata": {},
          "execution_count": 113
        }
      ]
    },
    {
      "cell_type": "code",
      "source": [
        "final_df.info()"
      ],
      "metadata": {
        "colab": {
          "base_uri": "https://localhost:8080/"
        },
        "id": "JVLQoenUO0QM",
        "outputId": "16f7ab73-7c73-426c-88f4-e3bf7bd5bcaa"
      },
      "execution_count": 114,
      "outputs": [
        {
          "output_type": "stream",
          "name": "stdout",
          "text": [
            "<class 'pandas.core.frame.DataFrame'>\n",
            "RangeIndex: 69 entries, 0 to 68\n",
            "Data columns (total 42 columns):\n",
            " #   Column                                                                                    Non-Null Count  Dtype  \n",
            "---  ------                                                                                    --------------  -----  \n",
            " 0   Sl.No\n",
            " - India                                                                            69 non-null     object \n",
            " 1   Year                                                                                      69 non-null     object \n",
            " 2   Area affected in m.ha. - India                                                            69 non-null     float64\n",
            " 3   Population affected in million - India                                                    69 non-null     int64  \n",
            " 4   Damage to Crops - Area in m. ha. - India                                                  69 non-null     float64\n",
            " 5   Damage to Crops - Value in Rs.Crore - India                                               69 non-null     float64\n",
            " 6   Damage to Houses - Nos. - India                                                           69 non-null     int64  \n",
            " 7   Damage to Houses - Value in Rs.Crore - India                                              69 non-null     float64\n",
            " 8   Cattle Lost Nos. - India                                                                  69 non-null     int64  \n",
            " 9   Human live Lost Nos. - India                                                              69 non-null     int64  \n",
            " 10  Damage to Public Utilities in Rs.Crore - India                                            69 non-null     float64\n",
            " 11  Total Damages Crops, Houses & Public utilities in Rs.Crore (col.6+8+11) - India           69 non-null     float64\n",
            " 12  Area affected in m.ha. - Uttar Pradesh                                                    67 non-null     float64\n",
            " 13  Population affected in million - Uttar Pradesh                                            69 non-null     float64\n",
            " 14  Damage to Crops - Area in m. ha. - Uttar Pradesh                                          68 non-null     float64\n",
            " 15  Damage to Crops - Value in Rs.Crore - Uttar Pradesh                                       67 non-null     float64\n",
            " 16  Damage to Houses - Nos. - Uttar Pradesh                                                   69 non-null     int64  \n",
            " 17  Damage to Houses - Value in Rs.Crore - Uttar Pradesh                                      66 non-null     float64\n",
            " 18  Cattle Lost Nos. - Uttar Pradesh                                                          68 non-null     float64\n",
            " 19  Human live Lost Nos. - Uttar Pradesh                                                      68 non-null     float64\n",
            " 20  Damage to Public Utilities in Rs.Crore - Uttar Pradesh                                    66 non-null     object \n",
            " 21  Total damages Crops, Houses & Public utilities in Rs.Crore (col.6+8+11) - Uttar Pradesh   68 non-null     float64\n",
            " 22  Area affected in m.ha. - Madhya Pradesh                                                   68 non-null     object \n",
            " 23  Population affected in million - Madhya Pradesh                                           68 non-null     object \n",
            " 24  Damage to Crops - Area in m. ha. - Madhya Pradesh                                         67 non-null     object \n",
            " 25  Damage to Crops - Value in Rs.Crore - Madhya Pradesh                                      66 non-null     object \n",
            " 26  Damage to Houses - Nos. - Madhya Pradesh                                                  68 non-null     object \n",
            " 27  Damage to Houses - Value in Rs.Crore - Madhya Pradesh                                     66 non-null     object \n",
            " 28  Cattle Lost Nos. - Madhya Pradesh                                                         68 non-null     object \n",
            " 29  Human live Lost Nos. - Madhya Pradesh                                                     68 non-null     object \n",
            " 30  Damage to Public Utilities in Rs.Crore - Madhya Pradesh                                   68 non-null     object \n",
            " 31  Total damages Crops, Houses & Public utilities in Rs.Crore (col.6+8+11) - Madhya Pradesh  69 non-null     object \n",
            " 32  Area affected in m.ha. - Bihar                                                            67 non-null     float64\n",
            " 33  Population affected in million - Bihar                                                    68 non-null     float64\n",
            " 34  Damage to Crops - Area in m. ha. - Bihar                                                  69 non-null     object \n",
            " 35  Damage to Crops - Value in Rs.Crore - Bihar                                               67 non-null     object \n",
            " 36  Damage to Houses - Nos. - Bihar                                                           69 non-null     int64  \n",
            " 37  Damage to Houses - Value in Rs.Crore - Bihar                                              68 non-null     object \n",
            " 38  Cattle Lost Nos. - Bihar                                                                  68 non-null     object \n",
            " 39  Human live Lost Nos. - Bihar                                                              69 non-null     object \n",
            " 40  Damage to Public Utilities in Rs.Crore - Bihar                                            68 non-null     object \n",
            " 41  Total damages Crops, Houses & Public utilities in Rs.Crore (col.6+8+11) - Bihar           69 non-null     object \n",
            "dtypes: float64(16), int64(6), object(20)\n",
            "memory usage: 22.8+ KB\n"
          ]
        }
      ]
    },
    {
      "cell_type": "code",
      "source": [
        "final_df.isnull().sum()"
      ],
      "metadata": {
        "colab": {
          "base_uri": "https://localhost:8080/"
        },
        "id": "_VMKy1eqO94m",
        "outputId": "2a7a7f7a-274c-43bd-df81-69f9d99e705a"
      },
      "execution_count": 115,
      "outputs": [
        {
          "output_type": "execute_result",
          "data": {
            "text/plain": [
              "Sl.No\\n - India                                                                             0\n",
              "Year                                                                                        0\n",
              "Area affected in m.ha. - India                                                              0\n",
              "Population affected in million - India                                                      0\n",
              "Damage to Crops - Area in m. ha. - India                                                    0\n",
              "Damage to Crops - Value in Rs.Crore - India                                                 0\n",
              "Damage to Houses - Nos. - India                                                             0\n",
              "Damage to Houses - Value in Rs.Crore - India                                                0\n",
              "Cattle Lost Nos. - India                                                                    0\n",
              "Human live Lost Nos. - India                                                                0\n",
              "Damage to Public Utilities in Rs.Crore - India                                              0\n",
              "Total Damages Crops, Houses & Public utilities in Rs.Crore (col.6+8+11) - India             0\n",
              "Area affected in m.ha. - Uttar Pradesh                                                      2\n",
              "Population affected in million - Uttar Pradesh                                              0\n",
              "Damage to Crops - Area in m. ha. - Uttar Pradesh                                            1\n",
              "Damage to Crops - Value in Rs.Crore - Uttar Pradesh                                         2\n",
              "Damage to Houses - Nos. - Uttar Pradesh                                                     0\n",
              "Damage to Houses - Value in Rs.Crore - Uttar Pradesh                                        3\n",
              "Cattle Lost Nos. - Uttar Pradesh                                                            1\n",
              "Human live Lost Nos. - Uttar Pradesh                                                        1\n",
              "Damage to Public Utilities in Rs.Crore - Uttar Pradesh                                      3\n",
              "Total damages Crops, Houses & Public utilities in Rs.Crore (col.6+8+11) - Uttar Pradesh     1\n",
              "Area affected in m.ha. - Madhya Pradesh                                                     1\n",
              "Population affected in million - Madhya Pradesh                                             1\n",
              "Damage to Crops - Area in m. ha. - Madhya Pradesh                                           2\n",
              "Damage to Crops - Value in Rs.Crore - Madhya Pradesh                                        3\n",
              "Damage to Houses - Nos. - Madhya Pradesh                                                    1\n",
              "Damage to Houses - Value in Rs.Crore - Madhya Pradesh                                       3\n",
              "Cattle Lost Nos. - Madhya Pradesh                                                           1\n",
              "Human live Lost Nos. - Madhya Pradesh                                                       1\n",
              "Damage to Public Utilities in Rs.Crore - Madhya Pradesh                                     1\n",
              "Total damages Crops, Houses & Public utilities in Rs.Crore (col.6+8+11) - Madhya Pradesh    0\n",
              "Area affected in m.ha. - Bihar                                                              2\n",
              "Population affected in million - Bihar                                                      1\n",
              "Damage to Crops - Area in m. ha. - Bihar                                                    0\n",
              "Damage to Crops - Value in Rs.Crore - Bihar                                                 2\n",
              "Damage to Houses - Nos. - Bihar                                                             0\n",
              "Damage to Houses - Value in Rs.Crore - Bihar                                                1\n",
              "Cattle Lost Nos. - Bihar                                                                    1\n",
              "Human live Lost Nos. - Bihar                                                                0\n",
              "Damage to Public Utilities in Rs.Crore - Bihar                                              1\n",
              "Total damages Crops, Houses & Public utilities in Rs.Crore (col.6+8+11) - Bihar             0\n",
              "dtype: int64"
            ]
          },
          "metadata": {},
          "execution_count": 115
        }
      ]
    },
    {
      "cell_type": "code",
      "source": [
        "final_df['Human live Lost Nos. - Bihar']=final_df['Human live Lost Nos. - Bihar'].str.replace('Nil','0')"
      ],
      "metadata": {
        "id": "AspAA0w1OQJS"
      },
      "execution_count": 116,
      "outputs": []
    },
    {
      "cell_type": "code",
      "source": [
        "final_df['Human live Lost Nos. - Madhya Pradesh']=final_df['Human live Lost Nos. - Madhya Pradesh'].str.replace('Nil','0')"
      ],
      "metadata": {
        "id": "aJNd8PLjOjRx"
      },
      "execution_count": 117,
      "outputs": []
    },
    {
      "cell_type": "code",
      "source": [
        "final_df['Human live Lost Nos. - Madhya Pradesh'].astype(float)"
      ],
      "metadata": {
        "colab": {
          "base_uri": "https://localhost:8080/"
        },
        "id": "QKNBDCgsOoi2",
        "outputId": "5f9237a6-7a7e-4089-c6e0-ad799df1e815"
      },
      "execution_count": 118,
      "outputs": [
        {
          "output_type": "execute_result",
          "data": {
            "text/plain": [
              "0        2.0\n",
              "1       10.0\n",
              "2        5.0\n",
              "3        0.0\n",
              "4        0.0\n",
              "       ...  \n",
              "64       NaN\n",
              "65    2564.0\n",
              "66      51.0\n",
              "67     390.0\n",
              "68    2014.0\n",
              "Name: Human live Lost Nos. - Madhya Pradesh, Length: 69, dtype: float64"
            ]
          },
          "metadata": {},
          "execution_count": 118
        }
      ]
    },
    {
      "cell_type": "code",
      "source": [
        "final_df['Human live Lost Nos. - Bihar'].astype(float)"
      ],
      "metadata": {
        "colab": {
          "base_uri": "https://localhost:8080/"
        },
        "id": "zEUnL1i5Nj9Q",
        "outputId": "df596f63-28ba-4250-e914-291f57f35e8f"
      },
      "execution_count": 119,
      "outputs": [
        {
          "output_type": "execute_result",
          "data": {
            "text/plain": [
              "0         5.0\n",
              "1        63.0\n",
              "2        44.0\n",
              "3        32.0\n",
              "4         7.0\n",
              "       ...   \n",
              "64      514.0\n",
              "65    11088.0\n",
              "66      179.0\n",
              "67     1287.0\n",
              "68     2007.0\n",
              "Name: Human live Lost Nos. - Bihar, Length: 69, dtype: float64"
            ]
          },
          "metadata": {},
          "execution_count": 119
        }
      ]
    },
    {
      "cell_type": "code",
      "source": [
        "final_df['Damage to Houses - Value in Rs.Crore - Uttar Pradesh'].unique()"
      ],
      "metadata": {
        "colab": {
          "base_uri": "https://localhost:8080/"
        },
        "id": "Xw4pgf2kPKtj",
        "outputId": "52861f22-22a0-4d38-fa57-568b466c7742"
      },
      "execution_count": 120,
      "outputs": [
        {
          "output_type": "execute_result",
          "data": {
            "text/plain": [
              "array([1.110000e+00, 1.900000e-01, 2.820000e+00, 6.600000e+00,\n",
              "       4.620000e+00, 0.000000e+00, 2.700000e-02, 1.172000e+00,\n",
              "       2.741000e+00, 3.200000e-01, 1.000000e-02, 7.080000e-01,\n",
              "       5.003000e+00, 3.930000e-01, 2.765000e+00, 2.080000e+01,\n",
              "       2.025700e+01, 1.010000e+00, 1.076800e+01, 1.278500e+01,\n",
              "       2.908000e+00, 2.250000e+01, 5.000000e+00, 9.000000e+01,\n",
              "       1.722000e+00, 1.001240e+02, 1.227760e+02, 2.545500e+02,\n",
              "       1.291300e+02, 2.149000e+01, 2.480800e+02, 2.056400e+01,\n",
              "       3.894000e+01, 1.484200e+02, 6.052000e+01, 3.135000e+01,\n",
              "       5.558000e+01, 1.186300e+02, 3.712100e+01, 7.000000e+01,\n",
              "       5.934600e+01, 3.005000e+00, 1.353900e+01, 1.785000e+01,\n",
              "       1.202000e+00, 9.985900e+01, 1.330000e+00, 2.130540e+02,\n",
              "       4.277000e+00, 7.936800e+01, 1.119900e+01,          nan,\n",
              "       2.177533e+03, 3.512100e+01, 1.982000e+03])"
            ]
          },
          "metadata": {},
          "execution_count": 120
        }
      ]
    },
    {
      "cell_type": "code",
      "source": [
        "final_df[final_df['Damage to Houses - Value in Rs.Crore - Uttar Pradesh'].isnull()]"
      ],
      "metadata": {
        "colab": {
          "base_uri": "https://localhost:8080/",
          "height": 371
        },
        "id": "nctvp59FQOJj",
        "outputId": "e65bdfe1-9d39-4c15-9304-4be426b1a3e8"
      },
      "execution_count": 121,
      "outputs": [
        {
          "output_type": "execute_result",
          "data": {
            "text/plain": [
              "   Sl.No\\n - India  Year  Area affected in m.ha. - India  \\\n",
              "62              63  2015                           4.478   \n",
              "63              64  2016                           7.065   \n",
              "64              65  2017                           0.000   \n",
              "\n",
              "    Population affected in million - India  \\\n",
              "62                                      33   \n",
              "63                                      26   \n",
              "64                                      17   \n",
              "\n",
              "    Damage to Crops - Area in m. ha. - India  \\\n",
              "62                                     3.374   \n",
              "63                                     6.658   \n",
              "64                                     5.124   \n",
              "\n",
              "    Damage to Crops - Value in Rs.Crore - India  \\\n",
              "62                                    17043.948   \n",
              "63                                     4052.723   \n",
              "64                                     6923.800   \n",
              "\n",
              "    Damage to Houses - Nos. - India  \\\n",
              "62                          3959191   \n",
              "63                           278240   \n",
              "64                          1151755   \n",
              "\n",
              "    Damage to Houses - Value in Rs.Crore - India  Cattle Lost Nos. - India  \\\n",
              "62                                      8046.969                     45597   \n",
              "63                                       114.676                     22367   \n",
              "64                                      9176.480                      5473   \n",
              "\n",
              "    Human live Lost Nos. - India  ...  Area affected in m.ha. - Bihar  \\\n",
              "62                          1420  ...                             NaN   \n",
              "63                          1420  ...                            0.41   \n",
              "64                          2015  ...                             NaN   \n",
              "\n",
              "    Population affected in million - Bihar  \\\n",
              "62                                   0.279   \n",
              "63                                   8.823   \n",
              "64                                     NaN   \n",
              "\n",
              "    Damage to Crops - Area in m. ha. - Bihar  \\\n",
              "62                                         0   \n",
              "63                                      0.41   \n",
              "64                                      0.81   \n",
              "\n",
              "    Damage to Crops - Value in Rs.Crore - Bihar  \\\n",
              "62                                          NaN   \n",
              "63                                       443.53   \n",
              "64                                          NaN   \n",
              "\n",
              "    Damage to Houses - Nos. - Bihar  \\\n",
              "62                              518   \n",
              "63                            16717   \n",
              "64                           118410   \n",
              "\n",
              "    Damage to Houses - Value in Rs.Crore - Bihar  Cattle Lost Nos. - Bihar  \\\n",
              "62                                         0.694                         1   \n",
              "63                                        44.262                       246   \n",
              "64                                           NaN                       NaN   \n",
              "\n",
              "    Human live Lost Nos. - Bihar  \\\n",
              "62                            27   \n",
              "63                           254   \n",
              "64                           514   \n",
              "\n",
              "    Damage to Public Utilities in Rs.Crore - Bihar  \\\n",
              "62                                              62   \n",
              "63                                           40.97   \n",
              "64                                             NaN   \n",
              "\n",
              "    Total damages Crops, Houses & Public utilities in Rs.Crore (col.6+8+11) - Bihar  \n",
              "62                                             62.694                                \n",
              "63                                            528.762                                \n",
              "64                                                  0                                \n",
              "\n",
              "[3 rows x 42 columns]"
            ],
            "text/html": [
              "\n",
              "  <div id=\"df-89a170ff-2479-48ab-93de-2dc071cb4877\">\n",
              "    <div class=\"colab-df-container\">\n",
              "      <div>\n",
              "<style scoped>\n",
              "    .dataframe tbody tr th:only-of-type {\n",
              "        vertical-align: middle;\n",
              "    }\n",
              "\n",
              "    .dataframe tbody tr th {\n",
              "        vertical-align: top;\n",
              "    }\n",
              "\n",
              "    .dataframe thead th {\n",
              "        text-align: right;\n",
              "    }\n",
              "</style>\n",
              "<table border=\"1\" class=\"dataframe\">\n",
              "  <thead>\n",
              "    <tr style=\"text-align: right;\">\n",
              "      <th></th>\n",
              "      <th>Sl.No\\n - India</th>\n",
              "      <th>Year</th>\n",
              "      <th>Area affected in m.ha. - India</th>\n",
              "      <th>Population affected in million - India</th>\n",
              "      <th>Damage to Crops - Area in m. ha. - India</th>\n",
              "      <th>Damage to Crops - Value in Rs.Crore - India</th>\n",
              "      <th>Damage to Houses - Nos. - India</th>\n",
              "      <th>Damage to Houses - Value in Rs.Crore - India</th>\n",
              "      <th>Cattle Lost Nos. - India</th>\n",
              "      <th>Human live Lost Nos. - India</th>\n",
              "      <th>...</th>\n",
              "      <th>Area affected in m.ha. - Bihar</th>\n",
              "      <th>Population affected in million - Bihar</th>\n",
              "      <th>Damage to Crops - Area in m. ha. - Bihar</th>\n",
              "      <th>Damage to Crops - Value in Rs.Crore - Bihar</th>\n",
              "      <th>Damage to Houses - Nos. - Bihar</th>\n",
              "      <th>Damage to Houses - Value in Rs.Crore - Bihar</th>\n",
              "      <th>Cattle Lost Nos. - Bihar</th>\n",
              "      <th>Human live Lost Nos. - Bihar</th>\n",
              "      <th>Damage to Public Utilities in Rs.Crore - Bihar</th>\n",
              "      <th>Total damages Crops, Houses &amp; Public utilities in Rs.Crore (col.6+8+11) - Bihar</th>\n",
              "    </tr>\n",
              "  </thead>\n",
              "  <tbody>\n",
              "    <tr>\n",
              "      <th>62</th>\n",
              "      <td>63</td>\n",
              "      <td>2015</td>\n",
              "      <td>4.478</td>\n",
              "      <td>33</td>\n",
              "      <td>3.374</td>\n",
              "      <td>17043.948</td>\n",
              "      <td>3959191</td>\n",
              "      <td>8046.969</td>\n",
              "      <td>45597</td>\n",
              "      <td>1420</td>\n",
              "      <td>...</td>\n",
              "      <td>NaN</td>\n",
              "      <td>0.279</td>\n",
              "      <td>0</td>\n",
              "      <td>NaN</td>\n",
              "      <td>518</td>\n",
              "      <td>0.694</td>\n",
              "      <td>1</td>\n",
              "      <td>27</td>\n",
              "      <td>62</td>\n",
              "      <td>62.694</td>\n",
              "    </tr>\n",
              "    <tr>\n",
              "      <th>63</th>\n",
              "      <td>64</td>\n",
              "      <td>2016</td>\n",
              "      <td>7.065</td>\n",
              "      <td>26</td>\n",
              "      <td>6.658</td>\n",
              "      <td>4052.723</td>\n",
              "      <td>278240</td>\n",
              "      <td>114.676</td>\n",
              "      <td>22367</td>\n",
              "      <td>1420</td>\n",
              "      <td>...</td>\n",
              "      <td>0.41</td>\n",
              "      <td>8.823</td>\n",
              "      <td>0.41</td>\n",
              "      <td>443.53</td>\n",
              "      <td>16717</td>\n",
              "      <td>44.262</td>\n",
              "      <td>246</td>\n",
              "      <td>254</td>\n",
              "      <td>40.97</td>\n",
              "      <td>528.762</td>\n",
              "    </tr>\n",
              "    <tr>\n",
              "      <th>64</th>\n",
              "      <td>65</td>\n",
              "      <td>2017</td>\n",
              "      <td>0.000</td>\n",
              "      <td>17</td>\n",
              "      <td>5.124</td>\n",
              "      <td>6923.800</td>\n",
              "      <td>1151755</td>\n",
              "      <td>9176.480</td>\n",
              "      <td>5473</td>\n",
              "      <td>2015</td>\n",
              "      <td>...</td>\n",
              "      <td>NaN</td>\n",
              "      <td>NaN</td>\n",
              "      <td>0.81</td>\n",
              "      <td>NaN</td>\n",
              "      <td>118410</td>\n",
              "      <td>NaN</td>\n",
              "      <td>NaN</td>\n",
              "      <td>514</td>\n",
              "      <td>NaN</td>\n",
              "      <td>0</td>\n",
              "    </tr>\n",
              "  </tbody>\n",
              "</table>\n",
              "<p>3 rows × 42 columns</p>\n",
              "</div>\n",
              "      <button class=\"colab-df-convert\" onclick=\"convertToInteractive('df-89a170ff-2479-48ab-93de-2dc071cb4877')\"\n",
              "              title=\"Convert this dataframe to an interactive table.\"\n",
              "              style=\"display:none;\">\n",
              "        \n",
              "  <svg xmlns=\"http://www.w3.org/2000/svg\" height=\"24px\"viewBox=\"0 0 24 24\"\n",
              "       width=\"24px\">\n",
              "    <path d=\"M0 0h24v24H0V0z\" fill=\"none\"/>\n",
              "    <path d=\"M18.56 5.44l.94 2.06.94-2.06 2.06-.94-2.06-.94-.94-2.06-.94 2.06-2.06.94zm-11 1L8.5 8.5l.94-2.06 2.06-.94-2.06-.94L8.5 2.5l-.94 2.06-2.06.94zm10 10l.94 2.06.94-2.06 2.06-.94-2.06-.94-.94-2.06-.94 2.06-2.06.94z\"/><path d=\"M17.41 7.96l-1.37-1.37c-.4-.4-.92-.59-1.43-.59-.52 0-1.04.2-1.43.59L10.3 9.45l-7.72 7.72c-.78.78-.78 2.05 0 2.83L4 21.41c.39.39.9.59 1.41.59.51 0 1.02-.2 1.41-.59l7.78-7.78 2.81-2.81c.8-.78.8-2.07 0-2.86zM5.41 20L4 18.59l7.72-7.72 1.47 1.35L5.41 20z\"/>\n",
              "  </svg>\n",
              "      </button>\n",
              "      \n",
              "  <style>\n",
              "    .colab-df-container {\n",
              "      display:flex;\n",
              "      flex-wrap:wrap;\n",
              "      gap: 12px;\n",
              "    }\n",
              "\n",
              "    .colab-df-convert {\n",
              "      background-color: #E8F0FE;\n",
              "      border: none;\n",
              "      border-radius: 50%;\n",
              "      cursor: pointer;\n",
              "      display: none;\n",
              "      fill: #1967D2;\n",
              "      height: 32px;\n",
              "      padding: 0 0 0 0;\n",
              "      width: 32px;\n",
              "    }\n",
              "\n",
              "    .colab-df-convert:hover {\n",
              "      background-color: #E2EBFA;\n",
              "      box-shadow: 0px 1px 2px rgba(60, 64, 67, 0.3), 0px 1px 3px 1px rgba(60, 64, 67, 0.15);\n",
              "      fill: #174EA6;\n",
              "    }\n",
              "\n",
              "    [theme=dark] .colab-df-convert {\n",
              "      background-color: #3B4455;\n",
              "      fill: #D2E3FC;\n",
              "    }\n",
              "\n",
              "    [theme=dark] .colab-df-convert:hover {\n",
              "      background-color: #434B5C;\n",
              "      box-shadow: 0px 1px 3px 1px rgba(0, 0, 0, 0.15);\n",
              "      filter: drop-shadow(0px 1px 2px rgba(0, 0, 0, 0.3));\n",
              "      fill: #FFFFFF;\n",
              "    }\n",
              "  </style>\n",
              "\n",
              "      <script>\n",
              "        const buttonEl =\n",
              "          document.querySelector('#df-89a170ff-2479-48ab-93de-2dc071cb4877 button.colab-df-convert');\n",
              "        buttonEl.style.display =\n",
              "          google.colab.kernel.accessAllowed ? 'block' : 'none';\n",
              "\n",
              "        async function convertToInteractive(key) {\n",
              "          const element = document.querySelector('#df-89a170ff-2479-48ab-93de-2dc071cb4877');\n",
              "          const dataTable =\n",
              "            await google.colab.kernel.invokeFunction('convertToInteractive',\n",
              "                                                     [key], {});\n",
              "          if (!dataTable) return;\n",
              "\n",
              "          const docLinkHtml = 'Like what you see? Visit the ' +\n",
              "            '<a target=\"_blank\" href=https://colab.research.google.com/notebooks/data_table.ipynb>data table notebook</a>'\n",
              "            + ' to learn more about interactive tables.';\n",
              "          element.innerHTML = '';\n",
              "          dataTable['output_type'] = 'display_data';\n",
              "          await google.colab.output.renderOutput(dataTable, element);\n",
              "          const docLink = document.createElement('div');\n",
              "          docLink.innerHTML = docLinkHtml;\n",
              "          element.appendChild(docLink);\n",
              "        }\n",
              "      </script>\n",
              "    </div>\n",
              "  </div>\n",
              "  "
            ]
          },
          "metadata": {},
          "execution_count": 121
        }
      ]
    },
    {
      "cell_type": "code",
      "source": [
        "final_df['Damage to Houses - Value in Rs.Crore - Uttar Pradesh'] = final_df['Damage to Houses - Value in Rs.Crore - Uttar Pradesh'].fillna(final_df['Damage to Houses - Value in Rs.Crore - Uttar Pradesh'].mode())"
      ],
      "metadata": {
        "id": "4x4SIV3bQkwL"
      },
      "execution_count": 122,
      "outputs": []
    },
    {
      "cell_type": "code",
      "source": [
        "final_df['Area affected in m.ha. - Bihar'].unique()\n"
      ],
      "metadata": {
        "colab": {
          "base_uri": "https://localhost:8080/"
        },
        "id": "16WJwrlvRDdc",
        "outputId": "10855d20-6e3f-4485-d971-a4bcb12a75cd"
      },
      "execution_count": 123,
      "outputs": [
        {
          "output_type": "execute_result",
          "data": {
            "text/plain": [
              "array([9.7000e-01, 2.5000e+00, 1.7700e+00, 1.3200e+00, 7.9000e-01,\n",
              "       7.1000e-01, 2.1000e-01, 1.2700e+00, 1.1100e+00, 2.7000e-01,\n",
              "       1.1200e+00, 4.3000e-01, 1.5300e+00, 1.2500e+00, 7.3000e-01,\n",
              "       9.3000e-01, 4.2600e+00, 2.2000e-01, 3.1400e+00, 2.3100e+00,\n",
              "       2.9900e+00, 1.1500e+00, 2.3700e+00, 8.1000e-01, 1.9200e+00,\n",
              "       1.2600e+00, 1.4700e+00, 3.0500e+00, 1.7550e+00, 4.1640e+00,\n",
              "       1.0500e+00, 4.7100e-01, 8.7000e-01, 9.8000e-01, 7.6000e-02,\n",
              "       4.1500e-01, 6.0100e-01, 9.2600e-01, 1.1890e+00, 1.4710e+00,\n",
              "       2.5120e+00, 8.4500e-01, 7.7900e-01, 1.1950e+00, 1.9690e+00,\n",
              "       1.5080e+00, 2.7000e+00, 4.6000e-01, 1.8200e-01, 1.8800e+00,\n",
              "       8.8200e-01, 1.1050e+00, 1.9900e-01, 0.0000e+00, 6.0000e-01,\n",
              "       3.9000e+00,        nan, 4.1000e-01, 8.1694e+01, 1.2970e+00,\n",
              "       1.9710e+03])"
            ]
          },
          "metadata": {},
          "execution_count": 123
        }
      ]
    },
    {
      "cell_type": "code",
      "source": [
        "final_df['Area affected in m.ha. - Bihar']=final_df['Area affected in m.ha. - Bihar'].fillna(final_df['Area affected in m.ha. - Bihar'].median())"
      ],
      "metadata": {
        "id": "_gyJDlb2RSzQ"
      },
      "execution_count": 124,
      "outputs": []
    },
    {
      "cell_type": "code",
      "source": [
        "final_df.describe()"
      ],
      "metadata": {
        "colab": {
          "base_uri": "https://localhost:8080/",
          "height": 543
        },
        "id": "QUTFcYC5Sq8S",
        "outputId": "b88a8209-56fc-4fb4-cab0-44e1fd6ab524"
      },
      "execution_count": 125,
      "outputs": [
        {
          "output_type": "execute_result",
          "data": {
            "text/plain": [
              "       Area affected in m.ha. - India  Population affected in million - India  \\\n",
              "count                       69.000000                               69.000000   \n",
              "mean                        42.363797                               89.304348   \n",
              "std                        242.684190                              336.147434   \n",
              "min                          0.000000                                3.000000   \n",
              "25%                          4.860000                               19.000000   \n",
              "50%                          7.081000                               29.000000   \n",
              "75%                          9.240000                               45.000000   \n",
              "max                       1978.000000                             2058.000000   \n",
              "\n",
              "       Damage to Crops - Area in m. ha. - India  \\\n",
              "count                                 69.000000   \n",
              "mean                                  36.718536   \n",
              "std                                  242.358428   \n",
              "min                                    0.270000   \n",
              "25%                                    2.450000   \n",
              "50%                                    3.374000   \n",
              "75%                                    5.124000   \n",
              "max                                 2005.000000   \n",
              "\n",
              "       Damage to Crops - Value in Rs.Crore - India  \\\n",
              "count                                    69.000000   \n",
              "mean                                   3465.707159   \n",
              "std                                   13308.127878   \n",
              "min                                       5.870000   \n",
              "25%                                     162.780000   \n",
              "50%                                     888.622000   \n",
              "75%                                    2015.000000   \n",
              "max                                  109197.443000   \n",
              "\n",
              "       Damage to Houses - Nos. - India  \\\n",
              "count                     6.900000e+01   \n",
              "mean                      2.412103e+06   \n",
              "std                       9.599281e+06   \n",
              "min                       2.015000e+03   \n",
              "25%                       6.098840e+05   \n",
              "50%                       9.146640e+05   \n",
              "75%                       1.763603e+06   \n",
              "max                       8.061683e+07   \n",
              "\n",
              "       Damage to Houses - Value in Rs.Crore - India  Cattle Lost Nos. - India  \\\n",
              "count                                     69.000000              6.900000e+01   \n",
              "mean                                    1750.384739              1.850618e+05   \n",
              "std                                     6729.961448              7.250582e+05   \n",
              "min                                        0.195000              1.979000e+03   \n",
              "25%                                       41.112000              2.153300e+04   \n",
              "50%                                      181.308000              6.045000e+04   \n",
              "75%                                      756.481000              1.286380e+05   \n",
              "max                                    53566.824000              6.028149e+06   \n",
              "\n",
              "       Human live Lost Nos. - India  \\\n",
              "count                     69.000000   \n",
              "mean                    3332.188406   \n",
              "std                    12862.691701   \n",
              "min                       37.000000   \n",
              "25%                      865.000000   \n",
              "50%                     1455.000000   \n",
              "75%                     1977.000000   \n",
              "max                   107487.000000   \n",
              "\n",
              "       Damage to Public Utilities in Rs.Crore - India  \\\n",
              "count                                       69.000000   \n",
              "mean                                      6490.958710   \n",
              "std                                      25148.096525   \n",
              "min                                          1.050000   \n",
              "25%                                         68.112000   \n",
              "50%                                        740.762000   \n",
              "75%                                       3106.300000   \n",
              "max                                     201909.504000   \n",
              "\n",
              "       Total Damages Crops, Houses & Public utilities in Rs.Crore (col.6+8+11) - India  \\\n",
              "count                                          69.000000                                 \n",
              "mean                                        11545.744797                                 \n",
              "std                                         44878.460164                                 \n",
              "min                                             7.135000                                 \n",
              "25%                                           287.827000                                 \n",
              "50%                                          2015.000000                                 \n",
              "75%                                          7109.416000                                 \n",
              "max                                        365860.832000                                 \n",
              "\n",
              "       ...  Damage to Crops - Area in m. ha. - Uttar Pradesh  \\\n",
              "count  ...                                         68.000000   \n",
              "mean   ...                                         31.027794   \n",
              "std    ...                                        239.870218   \n",
              "min    ...                                          0.000000   \n",
              "25%    ...                                          0.279250   \n",
              "50%    ...                                          0.651000   \n",
              "75%    ...                                          1.505000   \n",
              "max    ...                                       1979.000000   \n",
              "\n",
              "       Damage to Crops - Value in Rs.Crore - Uttar Pradesh  \\\n",
              "count                                          67.000000     \n",
              "mean                                          299.098597     \n",
              "std                                          1062.440970     \n",
              "min                                             0.000000     \n",
              "25%                                             4.831000     \n",
              "50%                                            43.000000     \n",
              "75%                                           212.231500     \n",
              "max                                          8476.266000     \n",
              "\n",
              "       Damage to Houses - Nos. - Uttar Pradesh  \\\n",
              "count                             6.900000e+01   \n",
              "mean                              4.486577e+05   \n",
              "std                               1.747095e+06   \n",
              "min                               0.000000e+00   \n",
              "25%                               2.295800e+04   \n",
              "50%                               8.523400e+04   \n",
              "75%                               3.280130e+05   \n",
              "max                               1.440532e+07   \n",
              "\n",
              "       Damage to Houses - Value in Rs.Crore - Uttar Pradesh  \\\n",
              "count                                          66.000000      \n",
              "mean                                          100.405106      \n",
              "std                                           358.779947      \n",
              "min                                             0.000000      \n",
              "25%                                             0.471750      \n",
              "50%                                             5.801500      \n",
              "75%                                            58.404500      \n",
              "max                                          2177.533000      \n",
              "\n",
              "       Cattle Lost Nos. - Uttar Pradesh  Human live Lost Nos. - Uttar Pradesh  \\\n",
              "count                         68.000000                             68.000000   \n",
              "mean                        2817.029412                            600.000000   \n",
              "std                        10915.037866                           2244.262688   \n",
              "min                            0.000000                              0.000000   \n",
              "25%                          158.000000                             83.750000   \n",
              "50%                         1036.500000                            212.000000   \n",
              "75%                         2182.750000                            425.500000   \n",
              "max                        90369.000000                          18561.000000   \n",
              "\n",
              "       Total damages Crops, Houses & Public utilities in Rs.Crore (col.6+8+11) - Uttar Pradesh  \\\n",
              "count                                          68.000000                                         \n",
              "mean                                          653.838824                                         \n",
              "std                                          2410.410045                                         \n",
              "min                                             0.000000                                         \n",
              "25%                                             3.837750                                         \n",
              "50%                                            65.343000                                         \n",
              "75%                                           562.586250                                         \n",
              "max                                         19420.584000                                         \n",
              "\n",
              "       Area affected in m.ha. - Bihar  Population affected in million - Bihar  \\\n",
              "count                       69.000000                               68.000000   \n",
              "mean                        31.045870                               41.889015   \n",
              "std                        237.176981                              246.335147   \n",
              "min                          0.000000                                0.244000   \n",
              "25%                          0.730000                                2.591750   \n",
              "50%                          1.110000                                4.985000   \n",
              "75%                          1.770000                                8.358000   \n",
              "max                       1971.000000                             2004.000000   \n",
              "\n",
              "       Damage to Houses - Nos. - Bihar  \n",
              "count                     6.900000e+01  \n",
              "mean                      3.118850e+05  \n",
              "std                       1.215492e+06  \n",
              "min                       5.180000e+02  \n",
              "25%                       1.671700e+04  \n",
              "50%                       6.824200e+04  \n",
              "75%                       1.843000e+05  \n",
              "max                       9.983005e+06  \n",
              "\n",
              "[8 rows x 22 columns]"
            ],
            "text/html": [
              "\n",
              "  <div id=\"df-7db55b32-5a1b-4134-b0a3-76ad621f0369\">\n",
              "    <div class=\"colab-df-container\">\n",
              "      <div>\n",
              "<style scoped>\n",
              "    .dataframe tbody tr th:only-of-type {\n",
              "        vertical-align: middle;\n",
              "    }\n",
              "\n",
              "    .dataframe tbody tr th {\n",
              "        vertical-align: top;\n",
              "    }\n",
              "\n",
              "    .dataframe thead th {\n",
              "        text-align: right;\n",
              "    }\n",
              "</style>\n",
              "<table border=\"1\" class=\"dataframe\">\n",
              "  <thead>\n",
              "    <tr style=\"text-align: right;\">\n",
              "      <th></th>\n",
              "      <th>Area affected in m.ha. - India</th>\n",
              "      <th>Population affected in million - India</th>\n",
              "      <th>Damage to Crops - Area in m. ha. - India</th>\n",
              "      <th>Damage to Crops - Value in Rs.Crore - India</th>\n",
              "      <th>Damage to Houses - Nos. - India</th>\n",
              "      <th>Damage to Houses - Value in Rs.Crore - India</th>\n",
              "      <th>Cattle Lost Nos. - India</th>\n",
              "      <th>Human live Lost Nos. - India</th>\n",
              "      <th>Damage to Public Utilities in Rs.Crore - India</th>\n",
              "      <th>Total Damages Crops, Houses &amp; Public utilities in Rs.Crore (col.6+8+11) - India</th>\n",
              "      <th>...</th>\n",
              "      <th>Damage to Crops - Area in m. ha. - Uttar Pradesh</th>\n",
              "      <th>Damage to Crops - Value in Rs.Crore - Uttar Pradesh</th>\n",
              "      <th>Damage to Houses - Nos. - Uttar Pradesh</th>\n",
              "      <th>Damage to Houses - Value in Rs.Crore - Uttar Pradesh</th>\n",
              "      <th>Cattle Lost Nos. - Uttar Pradesh</th>\n",
              "      <th>Human live Lost Nos. - Uttar Pradesh</th>\n",
              "      <th>Total damages Crops, Houses &amp; Public utilities in Rs.Crore (col.6+8+11) - Uttar Pradesh</th>\n",
              "      <th>Area affected in m.ha. - Bihar</th>\n",
              "      <th>Population affected in million - Bihar</th>\n",
              "      <th>Damage to Houses - Nos. - Bihar</th>\n",
              "    </tr>\n",
              "  </thead>\n",
              "  <tbody>\n",
              "    <tr>\n",
              "      <th>count</th>\n",
              "      <td>69.000000</td>\n",
              "      <td>69.000000</td>\n",
              "      <td>69.000000</td>\n",
              "      <td>69.000000</td>\n",
              "      <td>6.900000e+01</td>\n",
              "      <td>69.000000</td>\n",
              "      <td>6.900000e+01</td>\n",
              "      <td>69.000000</td>\n",
              "      <td>69.000000</td>\n",
              "      <td>69.000000</td>\n",
              "      <td>...</td>\n",
              "      <td>68.000000</td>\n",
              "      <td>67.000000</td>\n",
              "      <td>6.900000e+01</td>\n",
              "      <td>66.000000</td>\n",
              "      <td>68.000000</td>\n",
              "      <td>68.000000</td>\n",
              "      <td>68.000000</td>\n",
              "      <td>69.000000</td>\n",
              "      <td>68.000000</td>\n",
              "      <td>6.900000e+01</td>\n",
              "    </tr>\n",
              "    <tr>\n",
              "      <th>mean</th>\n",
              "      <td>42.363797</td>\n",
              "      <td>89.304348</td>\n",
              "      <td>36.718536</td>\n",
              "      <td>3465.707159</td>\n",
              "      <td>2.412103e+06</td>\n",
              "      <td>1750.384739</td>\n",
              "      <td>1.850618e+05</td>\n",
              "      <td>3332.188406</td>\n",
              "      <td>6490.958710</td>\n",
              "      <td>11545.744797</td>\n",
              "      <td>...</td>\n",
              "      <td>31.027794</td>\n",
              "      <td>299.098597</td>\n",
              "      <td>4.486577e+05</td>\n",
              "      <td>100.405106</td>\n",
              "      <td>2817.029412</td>\n",
              "      <td>600.000000</td>\n",
              "      <td>653.838824</td>\n",
              "      <td>31.045870</td>\n",
              "      <td>41.889015</td>\n",
              "      <td>3.118850e+05</td>\n",
              "    </tr>\n",
              "    <tr>\n",
              "      <th>std</th>\n",
              "      <td>242.684190</td>\n",
              "      <td>336.147434</td>\n",
              "      <td>242.358428</td>\n",
              "      <td>13308.127878</td>\n",
              "      <td>9.599281e+06</td>\n",
              "      <td>6729.961448</td>\n",
              "      <td>7.250582e+05</td>\n",
              "      <td>12862.691701</td>\n",
              "      <td>25148.096525</td>\n",
              "      <td>44878.460164</td>\n",
              "      <td>...</td>\n",
              "      <td>239.870218</td>\n",
              "      <td>1062.440970</td>\n",
              "      <td>1.747095e+06</td>\n",
              "      <td>358.779947</td>\n",
              "      <td>10915.037866</td>\n",
              "      <td>2244.262688</td>\n",
              "      <td>2410.410045</td>\n",
              "      <td>237.176981</td>\n",
              "      <td>246.335147</td>\n",
              "      <td>1.215492e+06</td>\n",
              "    </tr>\n",
              "    <tr>\n",
              "      <th>min</th>\n",
              "      <td>0.000000</td>\n",
              "      <td>3.000000</td>\n",
              "      <td>0.270000</td>\n",
              "      <td>5.870000</td>\n",
              "      <td>2.015000e+03</td>\n",
              "      <td>0.195000</td>\n",
              "      <td>1.979000e+03</td>\n",
              "      <td>37.000000</td>\n",
              "      <td>1.050000</td>\n",
              "      <td>7.135000</td>\n",
              "      <td>...</td>\n",
              "      <td>0.000000</td>\n",
              "      <td>0.000000</td>\n",
              "      <td>0.000000e+00</td>\n",
              "      <td>0.000000</td>\n",
              "      <td>0.000000</td>\n",
              "      <td>0.000000</td>\n",
              "      <td>0.000000</td>\n",
              "      <td>0.000000</td>\n",
              "      <td>0.244000</td>\n",
              "      <td>5.180000e+02</td>\n",
              "    </tr>\n",
              "    <tr>\n",
              "      <th>25%</th>\n",
              "      <td>4.860000</td>\n",
              "      <td>19.000000</td>\n",
              "      <td>2.450000</td>\n",
              "      <td>162.780000</td>\n",
              "      <td>6.098840e+05</td>\n",
              "      <td>41.112000</td>\n",
              "      <td>2.153300e+04</td>\n",
              "      <td>865.000000</td>\n",
              "      <td>68.112000</td>\n",
              "      <td>287.827000</td>\n",
              "      <td>...</td>\n",
              "      <td>0.279250</td>\n",
              "      <td>4.831000</td>\n",
              "      <td>2.295800e+04</td>\n",
              "      <td>0.471750</td>\n",
              "      <td>158.000000</td>\n",
              "      <td>83.750000</td>\n",
              "      <td>3.837750</td>\n",
              "      <td>0.730000</td>\n",
              "      <td>2.591750</td>\n",
              "      <td>1.671700e+04</td>\n",
              "    </tr>\n",
              "    <tr>\n",
              "      <th>50%</th>\n",
              "      <td>7.081000</td>\n",
              "      <td>29.000000</td>\n",
              "      <td>3.374000</td>\n",
              "      <td>888.622000</td>\n",
              "      <td>9.146640e+05</td>\n",
              "      <td>181.308000</td>\n",
              "      <td>6.045000e+04</td>\n",
              "      <td>1455.000000</td>\n",
              "      <td>740.762000</td>\n",
              "      <td>2015.000000</td>\n",
              "      <td>...</td>\n",
              "      <td>0.651000</td>\n",
              "      <td>43.000000</td>\n",
              "      <td>8.523400e+04</td>\n",
              "      <td>5.801500</td>\n",
              "      <td>1036.500000</td>\n",
              "      <td>212.000000</td>\n",
              "      <td>65.343000</td>\n",
              "      <td>1.110000</td>\n",
              "      <td>4.985000</td>\n",
              "      <td>6.824200e+04</td>\n",
              "    </tr>\n",
              "    <tr>\n",
              "      <th>75%</th>\n",
              "      <td>9.240000</td>\n",
              "      <td>45.000000</td>\n",
              "      <td>5.124000</td>\n",
              "      <td>2015.000000</td>\n",
              "      <td>1.763603e+06</td>\n",
              "      <td>756.481000</td>\n",
              "      <td>1.286380e+05</td>\n",
              "      <td>1977.000000</td>\n",
              "      <td>3106.300000</td>\n",
              "      <td>7109.416000</td>\n",
              "      <td>...</td>\n",
              "      <td>1.505000</td>\n",
              "      <td>212.231500</td>\n",
              "      <td>3.280130e+05</td>\n",
              "      <td>58.404500</td>\n",
              "      <td>2182.750000</td>\n",
              "      <td>425.500000</td>\n",
              "      <td>562.586250</td>\n",
              "      <td>1.770000</td>\n",
              "      <td>8.358000</td>\n",
              "      <td>1.843000e+05</td>\n",
              "    </tr>\n",
              "    <tr>\n",
              "      <th>max</th>\n",
              "      <td>1978.000000</td>\n",
              "      <td>2058.000000</td>\n",
              "      <td>2005.000000</td>\n",
              "      <td>109197.443000</td>\n",
              "      <td>8.061683e+07</td>\n",
              "      <td>53566.824000</td>\n",
              "      <td>6.028149e+06</td>\n",
              "      <td>107487.000000</td>\n",
              "      <td>201909.504000</td>\n",
              "      <td>365860.832000</td>\n",
              "      <td>...</td>\n",
              "      <td>1979.000000</td>\n",
              "      <td>8476.266000</td>\n",
              "      <td>1.440532e+07</td>\n",
              "      <td>2177.533000</td>\n",
              "      <td>90369.000000</td>\n",
              "      <td>18561.000000</td>\n",
              "      <td>19420.584000</td>\n",
              "      <td>1971.000000</td>\n",
              "      <td>2004.000000</td>\n",
              "      <td>9.983005e+06</td>\n",
              "    </tr>\n",
              "  </tbody>\n",
              "</table>\n",
              "<p>8 rows × 22 columns</p>\n",
              "</div>\n",
              "      <button class=\"colab-df-convert\" onclick=\"convertToInteractive('df-7db55b32-5a1b-4134-b0a3-76ad621f0369')\"\n",
              "              title=\"Convert this dataframe to an interactive table.\"\n",
              "              style=\"display:none;\">\n",
              "        \n",
              "  <svg xmlns=\"http://www.w3.org/2000/svg\" height=\"24px\"viewBox=\"0 0 24 24\"\n",
              "       width=\"24px\">\n",
              "    <path d=\"M0 0h24v24H0V0z\" fill=\"none\"/>\n",
              "    <path d=\"M18.56 5.44l.94 2.06.94-2.06 2.06-.94-2.06-.94-.94-2.06-.94 2.06-2.06.94zm-11 1L8.5 8.5l.94-2.06 2.06-.94-2.06-.94L8.5 2.5l-.94 2.06-2.06.94zm10 10l.94 2.06.94-2.06 2.06-.94-2.06-.94-.94-2.06-.94 2.06-2.06.94z\"/><path d=\"M17.41 7.96l-1.37-1.37c-.4-.4-.92-.59-1.43-.59-.52 0-1.04.2-1.43.59L10.3 9.45l-7.72 7.72c-.78.78-.78 2.05 0 2.83L4 21.41c.39.39.9.59 1.41.59.51 0 1.02-.2 1.41-.59l7.78-7.78 2.81-2.81c.8-.78.8-2.07 0-2.86zM5.41 20L4 18.59l7.72-7.72 1.47 1.35L5.41 20z\"/>\n",
              "  </svg>\n",
              "      </button>\n",
              "      \n",
              "  <style>\n",
              "    .colab-df-container {\n",
              "      display:flex;\n",
              "      flex-wrap:wrap;\n",
              "      gap: 12px;\n",
              "    }\n",
              "\n",
              "    .colab-df-convert {\n",
              "      background-color: #E8F0FE;\n",
              "      border: none;\n",
              "      border-radius: 50%;\n",
              "      cursor: pointer;\n",
              "      display: none;\n",
              "      fill: #1967D2;\n",
              "      height: 32px;\n",
              "      padding: 0 0 0 0;\n",
              "      width: 32px;\n",
              "    }\n",
              "\n",
              "    .colab-df-convert:hover {\n",
              "      background-color: #E2EBFA;\n",
              "      box-shadow: 0px 1px 2px rgba(60, 64, 67, 0.3), 0px 1px 3px 1px rgba(60, 64, 67, 0.15);\n",
              "      fill: #174EA6;\n",
              "    }\n",
              "\n",
              "    [theme=dark] .colab-df-convert {\n",
              "      background-color: #3B4455;\n",
              "      fill: #D2E3FC;\n",
              "    }\n",
              "\n",
              "    [theme=dark] .colab-df-convert:hover {\n",
              "      background-color: #434B5C;\n",
              "      box-shadow: 0px 1px 3px 1px rgba(0, 0, 0, 0.15);\n",
              "      filter: drop-shadow(0px 1px 2px rgba(0, 0, 0, 0.3));\n",
              "      fill: #FFFFFF;\n",
              "    }\n",
              "  </style>\n",
              "\n",
              "      <script>\n",
              "        const buttonEl =\n",
              "          document.querySelector('#df-7db55b32-5a1b-4134-b0a3-76ad621f0369 button.colab-df-convert');\n",
              "        buttonEl.style.display =\n",
              "          google.colab.kernel.accessAllowed ? 'block' : 'none';\n",
              "\n",
              "        async function convertToInteractive(key) {\n",
              "          const element = document.querySelector('#df-7db55b32-5a1b-4134-b0a3-76ad621f0369');\n",
              "          const dataTable =\n",
              "            await google.colab.kernel.invokeFunction('convertToInteractive',\n",
              "                                                     [key], {});\n",
              "          if (!dataTable) return;\n",
              "\n",
              "          const docLinkHtml = 'Like what you see? Visit the ' +\n",
              "            '<a target=\"_blank\" href=https://colab.research.google.com/notebooks/data_table.ipynb>data table notebook</a>'\n",
              "            + ' to learn more about interactive tables.';\n",
              "          element.innerHTML = '';\n",
              "          dataTable['output_type'] = 'display_data';\n",
              "          await google.colab.output.renderOutput(dataTable, element);\n",
              "          const docLink = document.createElement('div');\n",
              "          docLink.innerHTML = docLinkHtml;\n",
              "          element.appendChild(docLink);\n",
              "        }\n",
              "      </script>\n",
              "    </div>\n",
              "  </div>\n",
              "  "
            ]
          },
          "metadata": {},
          "execution_count": 125
        }
      ]
    },
    {
      "cell_type": "code",
      "source": [
        "final_df['Year'].unique()"
      ],
      "metadata": {
        "colab": {
          "base_uri": "https://localhost:8080/"
        },
        "id": "L2eJXWDADfv9",
        "outputId": "dd58aba7-37e1-4226-c391-6d36bbadbbc3"
      },
      "execution_count": 126,
      "outputs": [
        {
          "output_type": "execute_result",
          "data": {
            "text/plain": [
              "array(['1953', '1954', '1955', '1956', '1957', '1958', '1959', '1960',\n",
              "       '1961', '1962', '1963', '1964', '1965', '1966', '1967', '1968',\n",
              "       '1969', '1970', '1971', '1972', '1973', '1974', '1975', '1976',\n",
              "       '1977', '1978', '1979', '1980', '1981', '1982', '1983', '1984',\n",
              "       '1985', '1986', '1987', '1988', '1989', '1990', '1991', '1992',\n",
              "       '1993', '1994', '1995', '1996', '1997', '1998', '1999', '2000',\n",
              "       '2001', '2002', '2003', '2004', '2005', '2006', '2007', '2008',\n",
              "       '2009', '2010', '2011', '2012', '2013', '2014', '2015', '2016',\n",
              "       '2017', 'Total', 'Average', 'Maximum', '(Year)'], dtype=object)"
            ]
          },
          "metadata": {},
          "execution_count": 126
        }
      ]
    },
    {
      "cell_type": "code",
      "source": [
        "final_df['Human live Lost Nos. - Madhya Pradesh']=final_df['Human live Lost Nos. - Madhya Pradesh'].astype(float)"
      ],
      "metadata": {
        "id": "FcGx6PXANaUp"
      },
      "execution_count": 127,
      "outputs": []
    },
    {
      "cell_type": "code",
      "source": [
        "final_df['Area affected in m.ha. - Uttar Pradesh'].unique()"
      ],
      "metadata": {
        "colab": {
          "base_uri": "https://localhost:8080/"
        },
        "id": "p6ZK8lNS0EUx",
        "outputId": "61324178-e324-4512-fae1-a815736f994b"
      },
      "execution_count": 128,
      "outputs": [
        {
          "output_type": "execute_result",
          "data": {
            "text/plain": [
              "array([9.10000e-01, 1.35000e+00, 4.13000e+00, 2.50000e+00, 1.70000e+00,\n",
              "       2.18000e+00, 7.00000e-02, 3.25000e+00, 2.29000e+00, 1.06000e+00,\n",
              "       1.26000e+00, 8.00000e-02, 5.20000e-01, 3.43000e+00, 8.00000e-01,\n",
              "       2.40000e+00, 2.91000e+00, 5.26000e+00, 3.10000e-01, 2.63000e+00,\n",
              "       3.63000e+00, 1.30000e+00, 7.34000e+00, 7.00000e-01, 5.86000e+00,\n",
              "       2.99000e+00, 5.50000e+00, 3.86000e+00, 1.69000e+00, 4.03000e+00,\n",
              "       1.04000e+00, 6.00000e-01, 3.18000e+00, 1.00300e+00, 2.20800e+00,\n",
              "       8.11000e-01, 6.96000e-01, 1.44400e+00, 9.85000e-01, 1.27900e+00,\n",
              "       1.12400e+00, 3.49000e-01, 2.52300e+00, 5.40000e-02, 7.84000e-01,\n",
              "       4.63000e-01, 1.11000e-01, 2.35500e+00, 0.00000e+00, 5.10000e-01,\n",
              "       5.25000e-01, 4.50000e-01,         nan, 5.69000e-01, 1.03942e+02,\n",
              "       1.65000e+00, 1.97800e+03])"
            ]
          },
          "metadata": {},
          "execution_count": 128
        }
      ]
    },
    {
      "cell_type": "code",
      "source": [
        "final_df['Area affected in m.ha. - Madhya Pradesh'].unique()"
      ],
      "metadata": {
        "colab": {
          "base_uri": "https://localhost:8080/"
        },
        "id": "gyeY2aoEz8-R",
        "outputId": "e8d637b2-9ac7-4442-ad99-dc40b25bed81"
      },
      "execution_count": 129,
      "outputs": [
        {
          "output_type": "execute_result",
          "data": {
            "text/plain": [
              "array(['0.26', 'Nil', '0.03', '0.04', '0.13', 'Neg', '0.01', '0.09',\n",
              "       '0.05', '0.1', '0.11', '0', '0.16', '0.07', '0.18', '0.041',\n",
              "       '0.377', '0.014', '0.022', '0.115', '0.062', '0.002', '0.126',\n",
              "       '0.037', '3.67', '0.925', '1.304', nan, '8.055', '0.192', '2013'],\n",
              "      dtype=object)"
            ]
          },
          "metadata": {},
          "execution_count": 129
        }
      ]
    },
    {
      "cell_type": "code",
      "source": [
        "final_df['Area affected in m.ha. - Madhya Pradesh']=final_df['Area affected in m.ha. - Madhya Pradesh'].replace('Nil',np.median(pd.to_numeric(final_df['Area affected in m.ha. - Madhya Pradesh'], errors='coerce')))\n",
        "final_df['Area affected in m.ha. - Madhya Pradesh']=final_df['Area affected in m.ha. - Madhya Pradesh'].replace('Neg',np.median(pd.to_numeric(final_df['Area affected in m.ha. - Madhya Pradesh'], errors='coerce')))\n",
        "final_df['Area affected in m.ha. - Madhya Pradesh']=final_df['Area affected in m.ha. - Madhya Pradesh'].replace('nan',np.median(pd.to_numeric(final_df['Area affected in m.ha. - Madhya Pradesh'], errors='coerce')))"
      ],
      "metadata": {
        "id": "UHO0QtRP2naS"
      },
      "execution_count": 130,
      "outputs": []
    },
    {
      "cell_type": "code",
      "source": [
        "final_df['Area affected in m.ha. - Madhya Pradesh']=final_df['Area affected in m.ha. - Madhya Pradesh'].fillna(final_df['Area affected in m.ha. - Madhya Pradesh'].median())"
      ],
      "metadata": {
        "id": "WUN2gitz092h"
      },
      "execution_count": 131,
      "outputs": []
    },
    {
      "cell_type": "code",
      "source": [
        "final_df['Area affected in m.ha. - Madhya Pradesh']=final_df['Area affected in m.ha. - Madhya Pradesh'].astype(float)"
      ],
      "metadata": {
        "id": "85H33c7v3qeq"
      },
      "execution_count": 132,
      "outputs": []
    },
    {
      "cell_type": "code",
      "source": [
        "plt.subplots(figsize=(15,8))\n",
        "sns.lineplot(x='Year',y='Area affected in m.ha. - India',data=final_df)\n",
        "plt.title(\"Overall Areas effected In India\")\n",
        "plt.xticks(rotation=90)\n",
        "plt.show()\n",
        "\n",
        "plt.subplots(figsize=(15,8))\n",
        "sns.lineplot(x='Year',y='Area affected in m.ha. - Bihar',data=final_df)\n",
        "plt.title(\"Areas effected In Bihar\")\n",
        "plt.xticks(rotation=90)\n",
        "plt.show()\n",
        "\n",
        "plt.subplots(figsize=(15,8))\n",
        "sns.lineplot(x='Year',y='Area affected in m.ha. - Uttar Pradesh',data=final_df)\n",
        "plt.title(\"Areas effected In Uttar Pradesh\")\n",
        "plt.xticks(rotation=90)\n",
        "plt.show()\n",
        "\n",
        "plt.subplots(figsize=(15,8))\n",
        "sns.lineplot(x='Year',y='Area affected in m.ha. - Madhya Pradesh',data=final_df)\n",
        "plt.title(\"Areas effected In Madhya Pradesh\")\n",
        "plt.xticks(rotation=90)\n",
        "plt.show()"
      ],
      "metadata": {
        "colab": {
          "base_uri": "https://localhost:8080/",
          "height": 1000
        },
        "id": "OWShvJfDIm6w",
        "outputId": "ca04478f-2f5c-4dc3-9cc0-23a00f90940f"
      },
      "execution_count": 133,
      "outputs": [
        {
          "output_type": "display_data",
          "data": {
            "text/plain": [
              "<Figure size 1080x576 with 1 Axes>"
            ],
            "image/png": "[encoded data removed]"
          },
          "metadata": {
            "needs_background": "light"
          }
        },
        {
          "output_type": "display_data",
          "data": {
            "text/plain": [
              "<Figure size 1080x576 with 1 Axes>"
            ],
            "image/png": "[encoded data removed]"
          },
          "metadata": {
            "needs_background": "light"
          }
        },
        {
          "output_type": "display_data",
          "data": {
            "text/plain": [
              "<Figure size 1080x576 with 1 Axes>"
            ],
            "image/png": "[encoded data removed]"
          },
          "metadata": {
            "needs_background": "light"
          }
        },
        {
          "output_type": "display_data",
          "data": {
            "text/plain": [
              "<Figure size 1080x576 with 1 Axes>"
            ],
            "image/png": "[encoded data removed]"
          },
          "metadata": {
            "needs_background": "light"
          }
        }
      ]
    },
    {
      "cell_type": "code",
      "source": [
        "final_df['Human live Lost Nos. - Bihar']=final_df['Human live Lost Nos. - Bihar'].astype(float)"
      ],
      "metadata": {
        "id": "fFr0i5LRLQpP"
      },
      "execution_count": 134,
      "outputs": []
    },
    {
      "cell_type": "code",
      "source": [
        "final_df['Human live Lost Nos. - Madhya Pradesh']=final_df['Human live Lost Nos. - Madhya Pradesh'].astype(float)"
      ],
      "metadata": {
        "id": "yIuqkXdmK4lj"
      },
      "execution_count": 135,
      "outputs": []
    },
    {
      "cell_type": "code",
      "source": [
        "# plt.subplots(figsize=(15,12))\n",
        "# sns.countplot(x=\"Human live Lost Nos. - India\", data=final_df)\n",
        "# plt.title(\"Loss of live in India\")\n",
        "# plt.xticks(rotation=90)\n",
        "# plt.show()\n",
        "\n",
        "# plt.subplots(figsize=(15,12))\n",
        "# sns.countplot(x=\"Human live Lost Nos. - Bihar\", data=final_df)\n",
        "# plt.title(\"Loss of live in India\")\n",
        "# plt.xticks(rotation=90)\n",
        "# plt.show()\n",
        "\n",
        "# plt.subplots(figsize=(15,12))\n",
        "# sns.countplot(x=\"Human live Lost Nos. - Madhya Pradesh\", data=final_df)\n",
        "# plt.title(\"Loss of live in India\")\n",
        "# plt.xticks(rotation=90)\n",
        "# plt.show()\n",
        "\n",
        "# plt.subplots(figsize=(15,12))\n",
        "# sns.countplot(x=\"Human live Lost Nos. - Uttar Pradesh\", data=final_df)\n",
        "# plt.title(\"Loss of live in India\")\n",
        "# plt.xticks(rotation=90)\n",
        "# plt.show()\n"
      ],
      "metadata": {
        "id": "5215Np80pxuK"
      },
      "execution_count": 136,
      "outputs": []
    },
    {
      "cell_type": "code",
      "source": [
        "final_df['Human live Lost Nos. - Bihar'].unique()"
      ],
      "metadata": {
        "colab": {
          "base_uri": "https://localhost:8080/"
        },
        "id": "APZmG1uO4Zcb",
        "outputId": "87160a3d-3c78-4292-fa06-93c1e901d7e5"
      },
      "execution_count": 137,
      "outputs": [
        {
          "output_type": "execute_result",
          "data": {
            "text/plain": [
              "array([5.0000e+00, 6.3000e+01, 4.4000e+01, 3.2000e+01, 7.0000e+00,\n",
              "       6.0000e+00, 0.0000e+00, 5.5100e+02, 2.0000e+01, 2.0000e+00,\n",
              "       3.8000e+01, 2.3000e+01, 1.3000e+01, 3.1000e+01, 8.0000e+00,\n",
              "       8.0000e+01, 1.4800e+02, 1.8600e+02, 1.6000e+01, 1.7700e+02,\n",
              "       1.4000e+01, 6.7000e+01, 1.8000e+01, 2.5000e+01, 1.4300e+02,\n",
              "       6.9000e+01, 9.4000e+01, 1.1160e+03, 5.2000e+01, 2.6000e+01,\n",
              "       3.6000e+01, 5.6000e+01, 4.0000e+00, 1.1530e+03, 8.3000e+01,\n",
              "       2.9100e+02, 2.1800e+02, 1.6300e+02, 3.8100e+02, 2.4300e+02,\n",
              "       3.0800e+02, 2.3100e+02, 4.8900e+02, 2.5100e+02, 8.8500e+02,\n",
              "       5.8000e+01, 1.2870e+03, 2.5200e+02, 9.7000e+01, 1.0000e+02,\n",
              "       1.5800e+02, 2.7000e+01, 2.5400e+02, 5.1400e+02, 1.1088e+04,\n",
              "       1.7900e+02, 2.0070e+03])"
            ]
          },
          "metadata": {},
          "execution_count": 137
        }
      ]
    },
    {
      "cell_type": "code",
      "source": [
        "final_df['Human live Lost Nos. - Uttar Pradesh'].unique()"
      ],
      "metadata": {
        "colab": {
          "base_uri": "https://localhost:8080/"
        },
        "id": "W8A0NH7p4dfd",
        "outputId": "3eb9f15e-c26c-4f01-bd49-57f0b222afa9"
      },
      "execution_count": 138,
      "outputs": [
        {
          "output_type": "execute_result",
          "data": {
            "text/plain": [
              "array([2.3000e+01, 2.7000e+01, 2.3100e+02, 1.5500e+02, 1.9300e+02,\n",
              "       1.4300e+02, 1.0000e+00, 2.2900e+02, 3.3400e+02, 2.8000e+01,\n",
              "       2.9200e+02, 6.9000e+01, 4.0000e+00, 4.0000e+01, 2.2600e+02,\n",
              "       6.6000e+01, 1.1300e+02, 3.4400e+02, 6.0500e+02, 1.9200e+02,\n",
              "       3.7000e+01, 1.4800e+02, 2.5700e+02, 1.5700e+02, 7.3900e+02,\n",
              "       7.7000e+01, 1.3090e+03, 4.2700e+02, 5.6200e+02, 5.1900e+02,\n",
              "       2.0900e+02, 8.0400e+02, 2.2300e+02, 1.6500e+02, 7.6500e+02,\n",
              "       1.6800e+02, 4.9200e+02, 2.1500e+02, 1.5300e+02, 3.8900e+02,\n",
              "       3.1700e+02, 4.2500e+02, 3.1300e+02, 1.0200e+02, 1.3900e+03,\n",
              "       8.6000e+01, 4.5300e+02, 2.7000e+02, 3.3000e+01, 9.5300e+02,\n",
              "       0.0000e+00, 1.3000e+01, 1.7000e+02, 1.0560e+03, 2.5400e+02,\n",
              "       1.2000e+01, 7.2900e+02, 1.0500e+02, 3.8000e+02, 1.0600e+02,\n",
              "              nan, 7.4000e+01, 1.2100e+02, 1.8561e+04, 2.9000e+02,\n",
              "       1.9980e+03])"
            ]
          },
          "metadata": {},
          "execution_count": 138
        }
      ]
    },
    {
      "cell_type": "code",
      "source": [
        "final_df['Human live Lost Nos. - Madhya Pradesh'].unique()"
      ],
      "metadata": {
        "colab": {
          "base_uri": "https://localhost:8080/"
        },
        "id": "WH-rP4Yz4nCi",
        "outputId": "f76bb9ce-6258-45a9-ec76-67dd7f246a8e"
      },
      "execution_count": 139,
      "outputs": [
        {
          "output_type": "execute_result",
          "data": {
            "text/plain": [
              "array([2.000e+00, 1.000e+01, 5.000e+00, 0.000e+00, 1.000e+00, 7.000e+00,\n",
              "       8.600e+01, 4.500e+01, 1.500e+01, 2.460e+02, 2.500e+01, 2.800e+01,\n",
              "       9.000e+00, 5.600e+01, 2.700e+01, 4.200e+01, 1.240e+02, 7.000e+01,\n",
              "       3.300e+01, 3.200e+01, 2.880e+02, 5.800e+01, 4.800e+01, 1.400e+01,\n",
              "       8.100e+01, 2.900e+01, 1.800e+01, 9.500e+01, 1.600e+01, 3.800e+01,\n",
              "       8.200e+01, 4.700e+01, 4.300e+01, 3.900e+02, 1.900e+01, 3.270e+02,\n",
              "             nan, 2.564e+03, 5.100e+01, 2.014e+03])"
            ]
          },
          "metadata": {},
          "execution_count": 139
        }
      ]
    },
    {
      "cell_type": "code",
      "source": [
        "final_df['Human live Lost Nos. - Uttar Pradesh']=final_df['Human live Lost Nos. - Uttar Pradesh'].fillna(final_df['Human live Lost Nos. - Uttar Pradesh'].mode())"
      ],
      "metadata": {
        "id": "Q0UpYLFa5Idt"
      },
      "execution_count": 140,
      "outputs": []
    },
    {
      "cell_type": "code",
      "source": [
        "final_df['Human live Lost Nos. - Madhya Pradesh']=final_df['Human live Lost Nos. - Madhya Pradesh'].fillna(final_df['Human live Lost Nos. - Madhya Pradesh'].mode())"
      ],
      "metadata": {
        "id": "uXR_tPME460p"
      },
      "execution_count": 141,
      "outputs": []
    },
    {
      "cell_type": "code",
      "source": [
        "final_df.count()"
      ],
      "metadata": {
        "colab": {
          "base_uri": "https://localhost:8080/"
        },
        "id": "RO83Y0GL5kke",
        "outputId": "d5e02a49-ab92-4764-fb64-f650480ddfda"
      },
      "execution_count": 142,
      "outputs": [
        {
          "output_type": "execute_result",
          "data": {
            "text/plain": [
              "Sl.No\\n - India                                                                             69\n",
              "Year                                                                                        69\n",
              "Area affected in m.ha. - India                                                              69\n",
              "Population affected in million - India                                                      69\n",
              "Damage to Crops - Area in m. ha. - India                                                    69\n",
              "Damage to Crops - Value in Rs.Crore - India                                                 69\n",
              "Damage to Houses - Nos. - India                                                             69\n",
              "Damage to Houses - Value in Rs.Crore - India                                                69\n",
              "Cattle Lost Nos. - India                                                                    69\n",
              "Human live Lost Nos. - India                                                                69\n",
              "Damage to Public Utilities in Rs.Crore - India                                              69\n",
              "Total Damages Crops, Houses & Public utilities in Rs.Crore (col.6+8+11) - India             69\n",
              "Area affected in m.ha. - Uttar Pradesh                                                      67\n",
              "Population affected in million - Uttar Pradesh                                              69\n",
              "Damage to Crops - Area in m. ha. - Uttar Pradesh                                            68\n",
              "Damage to Crops - Value in Rs.Crore - Uttar Pradesh                                         67\n",
              "Damage to Houses - Nos. - Uttar Pradesh                                                     69\n",
              "Damage to Houses - Value in Rs.Crore - Uttar Pradesh                                        66\n",
              "Cattle Lost Nos. - Uttar Pradesh                                                            68\n",
              "Human live Lost Nos. - Uttar Pradesh                                                        68\n",
              "Damage to Public Utilities in Rs.Crore - Uttar Pradesh                                      66\n",
              "Total damages Crops, Houses & Public utilities in Rs.Crore (col.6+8+11) - Uttar Pradesh     68\n",
              "Area affected in m.ha. - Madhya Pradesh                                                     69\n",
              "Population affected in million - Madhya Pradesh                                             68\n",
              "Damage to Crops - Area in m. ha. - Madhya Pradesh                                           67\n",
              "Damage to Crops - Value in Rs.Crore - Madhya Pradesh                                        66\n",
              "Damage to Houses - Nos. - Madhya Pradesh                                                    68\n",
              "Damage to Houses - Value in Rs.Crore - Madhya Pradesh                                       66\n",
              "Cattle Lost Nos. - Madhya Pradesh                                                           68\n",
              "Human live Lost Nos. - Madhya Pradesh                                                       68\n",
              "Damage to Public Utilities in Rs.Crore - Madhya Pradesh                                     68\n",
              "Total damages Crops, Houses & Public utilities in Rs.Crore (col.6+8+11) - Madhya Pradesh    69\n",
              "Area affected in m.ha. - Bihar                                                              69\n",
              "Population affected in million - Bihar                                                      68\n",
              "Damage to Crops - Area in m. ha. - Bihar                                                    69\n",
              "Damage to Crops - Value in Rs.Crore - Bihar                                                 67\n",
              "Damage to Houses - Nos. - Bihar                                                             69\n",
              "Damage to Houses - Value in Rs.Crore - Bihar                                                68\n",
              "Cattle Lost Nos. - Bihar                                                                    68\n",
              "Human live Lost Nos. - Bihar                                                                69\n",
              "Damage to Public Utilities in Rs.Crore - Bihar                                              68\n",
              "Total damages Crops, Houses & Public utilities in Rs.Crore (col.6+8+11) - Bihar             69\n",
              "dtype: int64"
            ]
          },
          "metadata": {},
          "execution_count": 142
        }
      ]
    },
    {
      "cell_type": "code",
      "source": [
        "\n",
        "# plt.subplots(figsize=(15,8))\n",
        "# sns.kdeplot(final_df['Human live Lost Nos. - Bihar'],label='Human live Lost Nos. - Bihar',shade=True, color=\"r\")\n",
        "# sns.kdeplot(final_df['Human live Lost Nos. - Uttar Pradesh'],label='Human live Lost Nos. - Uttar Pradesh',shade=True, color=\"b\")\n",
        "# plt.title(\"Loss of live in Bihar VS UP\")\n",
        "# plt.xticks(rotation=90)\n",
        "# plt.legend()\n",
        "# plt.show()\n",
        "plt.subplots(figsize=(15,8))\n",
        "plt.hist(final_df['Human live Lost Nos. - Bihar'], alpha=1,label='Human live Lost Nos. - Bihar')\n",
        "plt.hist(final_df['Human live Lost Nos. - Uttar Pradesh'], alpha=1,label='Human live Lost Nos. - Uttar Pradesh')\n",
        "plt.xticks(rotation=90)\n",
        "plt.legend()\n",
        "plt.title('Total damage Bihar VS UP')\n",
        "plt.show()\n",
        "\n",
        "# plt.subplots(figsize=(15,8))\n",
        "# sns.kdeplot(final_df['Human live Lost Nos. - Bihar'],label='Human live Lost Nos. - Bihar',shade=True, color=\"r\")\n",
        "# sns.kdeplot(final_df['Human live Lost Nos. - Madhya Pradesh'],label='Human live Lost Nos. - Madhya Pradesh', shade=True, color=\"b\")\n",
        "# plt.title(\"Loss of live in Bihar VS MP\")\n",
        "# plt.xticks(rotation=90)\n",
        "# plt.legend()\n",
        "# plt.show()\n",
        "\n",
        "plt.subplots(figsize=(15,8))\n",
        "plt.hist(final_df['Human live Lost Nos. - Bihar'], alpha=1,label='Human live Lost Nos. - Bihar')\n",
        "plt.hist(final_df['Human live Lost Nos. - Madhya Pradesh'], alpha=1,label='Human live Lost Nos. - Madhya Pradesh')\n",
        "plt.xticks(rotation=90)\n",
        "plt.legend()\n",
        "plt.title('Total damage Bihar VS MP')\n",
        "plt.show()\n",
        "\n",
        "# plt.subplots(figsize=(15,8))\n",
        "# sns.kdeplot(final_df['Human live Lost Nos. - Uttar Pradesh'],label='Human live Lost Nos. - Uttar Pradesh',shade=True, color=\"r\")\n",
        "# sns.kdeplot(final_df['Human live Lost Nos. - Madhya Pradesh'],label='Human live Lost Nos. - Madhya Pradesh',shade=True, color=\"b\")\n",
        "# plt.title(\"Loss of live in UP VS MP\")\n",
        "# plt.xticks(rotation=90)\n",
        "# plt.legend()\n",
        "# plt.show()\n",
        "\n",
        "plt.subplots(figsize=(15,8))\n",
        "plt.hist(final_df['Human live Lost Nos. - Uttar Pradesh'], alpha=1,label='Human live Lost Nos. - Uttar')\n",
        "plt.hist(final_df['Human live Lost Nos. - Madhya Pradesh'], alpha=1,label='Human live Lost Nos. - Madhya Pradesh')\n",
        "plt.xticks(rotation=90)\n",
        "plt.legend()\n",
        "plt.title('Total damage U VS MP')\n",
        "plt.show()"
      ],
      "metadata": {
        "colab": {
          "base_uri": "https://localhost:8080/",
          "height": 1000
        },
        "id": "oeF-UAWirV5j",
        "outputId": "ffd8cbb2-b6b5-4a16-d791-0048b1880aba"
      },
      "execution_count": 143,
      "outputs": [
        {
          "output_type": "display_data",
          "data": {
            "text/plain": [
              "<Figure size 1080x576 with 1 Axes>"
            ],
            "image/png": "[encoded data removed]"
          },
          "metadata": {
            "needs_background": "light"
          }
        },
        {
          "output_type": "display_data",
          "data": {
            "text/plain": [
              "<Figure size 1080x576 with 1 Axes>"
            ],
            "image/png": "[encoded data removed]"
          },
          "metadata": {
            "needs_background": "light"
          }
        },
        {
          "output_type": "display_data",
          "data": {
            "text/plain": [
              "<Figure size 1080x576 with 1 Axes>"
            ],
            "image/png": "[encoded data removed]"
          },
          "metadata": {
            "needs_background": "light"
          }
        }
      ]
    },
    {
      "cell_type": "markdown",
      "source": [
        "# The data represents the maximum loss of life has occured in uttar pradesh."
      ],
      "metadata": {
        "id": "sd5k617pMq6D"
      }
    },
    {
      "cell_type": "code",
      "source": [
        "final_df['Human live Lost Nos. - Uttar Pradesh']=final_df['Human live Lost Nos. - Uttar Pradesh'].fillna(final_df['Human live Lost Nos. - Uttar Pradesh'].mode())"
      ],
      "metadata": {
        "id": "9dDKhtdi6bEw"
      },
      "execution_count": 144,
      "outputs": []
    },
    {
      "cell_type": "code",
      "source": [
        "final_df['Total damages Crops, Houses & Public utilities in Rs.Crore (col.6+8+11) - Bihar'].unique()"
      ],
      "metadata": {
        "colab": {
          "base_uri": "https://localhost:8080/"
        },
        "id": "01Db_Lwx6e4j",
        "outputId": "be5fafb9-03d1-4297-acdf-654f0b51cb00"
      },
      "execution_count": 145,
      "outputs": [
        {
          "output_type": "execute_result",
          "data": {
            "text/plain": [
              "array(['36.5', '21.5', '21.625', '5.73', 'Neg', '3.208', '0.006', '13.25',\n",
              "       '10.131', '0.764', '13.273', '1.804', '39', '19.67', '10.16', '36',\n",
              "       '15.077', '217.437', '1.702', '20.061', '381.836', '265.763',\n",
              "       '205.994', '12.286', '178.855', '20.189', '57.733', '79.075',\n",
              "       '113.422', '26.285', '235.531', '36.54', '308.047', '1209.61',\n",
              "       '53.49', '9.5', '21.59', '31.147', '0.75', '73.008', '48.559',\n",
              "       '292.083', '92.782', '108.325', '514.844', '349.989', '252.644',\n",
              "       '624.34', '1446.632', '1118.14', '2310.647', '18.518', '103.882',\n",
              "       '2242.239', '216.42', '32.413', '11.76', '103.448', '4.572',\n",
              "       '146.35', '192.58', '62.694', '528.762', '0', '14630.171',\n",
              "       '232.225', '2004'], dtype=object)"
            ]
          },
          "metadata": {},
          "execution_count": 145
        }
      ]
    },
    {
      "cell_type": "code",
      "source": [
        "final_df['Total damages Crops, Houses & Public utilities in Rs.Crore (col.6+8+11) - Madhya Pradesh'].unique()"
      ],
      "metadata": {
        "colab": {
          "base_uri": "https://localhost:8080/"
        },
        "id": "XpGXJOlz9gNw",
        "outputId": "ecb2656d-d5c8-43e5-dc08-67ad118adca5"
      },
      "execution_count": 146,
      "outputs": [
        {
          "output_type": "execute_result",
          "data": {
            "text/plain": [
              "array(['0.12', '1', '7.01', '2.115', '0.092', '0.009', '0.217', 'Neg',\n",
              "       '0.692', '0.137', 'Nil', '0.184', '0.55', '0.15', '1.57', '0.97',\n",
              "       '0.017', '69.408', '0.894', '0.119', '0.592', '5.784', '0.034',\n",
              "       '30.64', '20.905', '12.572', '7.393', '16.912', '0.03', '1.674',\n",
              "       '0.903', '0', '31.55', '24.856', '19.358', '0.05', '0.02', '3.107',\n",
              "       '81.684', '411.87', '0.069', '8.967', '35.23', '464.06', '69.01',\n",
              "       '207.86', '1541.384', '28.025', '2014'], dtype=object)"
            ]
          },
          "metadata": {},
          "execution_count": 146
        }
      ]
    },
    {
      "cell_type": "code",
      "source": [
        "final_df['Total damages Crops, Houses & Public utilities in Rs.Crore (col.6+8+11) - Bihar']=final_df['Total damages Crops, Houses & Public utilities in Rs.Crore (col.6+8+11) - Bihar'].replace('Neg',np.mean(pd.to_numeric(final_df['Total damages Crops, Houses & Public utilities in Rs.Crore (col.6+8+11) - Bihar'], errors='coerce')))\n",
        "final_df['Total damages Crops, Houses & Public utilities in Rs.Crore (col.6+8+11) - Bihar']=final_df['Total damages Crops, Houses & Public utilities in Rs.Crore (col.6+8+11) - Bihar'].astype(float)"
      ],
      "metadata": {
        "id": "4_CSAZhoOs50"
      },
      "execution_count": 147,
      "outputs": []
    },
    {
      "cell_type": "code",
      "source": [
        "final_df['Total damages Crops, Houses & Public utilities in Rs.Crore (col.6+8+11) - Uttar Pradesh']=final_df['Total damages Crops, Houses & Public utilities in Rs.Crore (col.6+8+11) - Uttar Pradesh'].astype(float)"
      ],
      "metadata": {
        "id": "J_mrdFE_OKLI"
      },
      "execution_count": 148,
      "outputs": []
    },
    {
      "cell_type": "code",
      "source": [
        "final_df['Total damages Crops, Houses & Public utilities in Rs.Crore (col.6+8+11) - Madhya Pradesh']=final_df['Total damages Crops, Houses & Public utilities in Rs.Crore (col.6+8+11) - Madhya Pradesh'].replace('Neg',np.median(pd.to_numeric(final_df['Total damages Crops, Houses & Public utilities in Rs.Crore (col.6+8+11) - Madhya Pradesh'], errors='coerce')))\n",
        "final_df['Total damages Crops, Houses & Public utilities in Rs.Crore (col.6+8+11) - Madhya Pradesh']=final_df['Total damages Crops, Houses & Public utilities in Rs.Crore (col.6+8+11) - Madhya Pradesh'].replace('Nil',np.median(pd.to_numeric(final_df['Total damages Crops, Houses & Public utilities in Rs.Crore (col.6+8+11) - Madhya Pradesh'], errors='coerce')))"
      ],
      "metadata": {
        "id": "x0CEm2Z8Q191"
      },
      "execution_count": 149,
      "outputs": []
    },
    {
      "cell_type": "code",
      "source": [
        "final_df['Total damages Crops, Houses & Public utilities in Rs.Crore (col.6+8+11) - Madhya Pradesh']=final_df['Total damages Crops, Houses & Public utilities in Rs.Crore (col.6+8+11) - Madhya Pradesh'].astype(float)"
      ],
      "metadata": {
        "id": "VstSueMPQTZ3"
      },
      "execution_count": 150,
      "outputs": []
    },
    {
      "cell_type": "code",
      "source": [
        "# plt.subplots(figsize=(15,8))\n",
        "# sns.kdeplot(final_df['Total damages Crops, Houses & Public utilities in Rs.Crore (col.6+8+11) - Bihar'],label='Total damages Crops, Houses & Public utilities in Rs.Crore (col.6+8+11) - Bihar', shade=True, color=\"r\")\n",
        "# sns.kdeplot(final_df['Total damages Crops, Houses & Public utilities in Rs.Crore (col.6+8+11) - Uttar Pradesh'],label='Total damages Crops, Houses & Public utilities in Rs.Crore (col.6+8+11) - Uttar Pradesh', shade=True, color=\"b\")\n",
        "# plt.title(\"Totoal damage in terms of crops,house & public utilities in Bihar VS UP\")\n",
        "# plt.xticks(rotation=90)\n",
        "# plt.legend()\n",
        "# plt.show()\n",
        "\n",
        "# plt.subplots(figsize=(15,8))\n",
        "# sns.kdeplot(final_df['Total damages Crops, Houses & Public utilities in Rs.Crore (col.6+8+11) - Bihar'],label='Total damages Crops, Houses & Public utilities in Rs.Crore (col.6+8+11) - Bihar',shade=True, color=\"r\")\n",
        "# sns.kdeplot(final_df['Total damages Crops, Houses & Public utilities in Rs.Crore (col.6+8+11) - Madhya Pradesh'],label='Total damages Crops, Houses & Public utilities in Rs.Crore (col.6+8+11) - Madhya Pradesh', shade=True, color=\"b\")\n",
        "# plt.title(\"Totoal damage in terms of crops,house & public utilities in Bihar VS MP\")\n",
        "# plt.xticks(rotation=90)\n",
        "# plt.legend()\n",
        "# plt.show()\n",
        "\n",
        "# plt.subplots(figsize=(15,8))\n",
        "# sns.kdeplot(final_df['Total damages Crops, Houses & Public utilities in Rs.Crore (col.6+8+11) - Uttar Pradesh'],label='Total damages Crops, Houses & Public utilities in Rs.Crore (col.6+8+11) - Uttar Pradesh', shade=True, color=\"r\")\n",
        "# sns.kdeplot(final_df['Total damages Crops, Houses & Public utilities in Rs.Crore (col.6+8+11) - Madhya Pradesh'],label='Total damages Crops, Houses & Public utilities in Rs.Crore (col.6+8+11) - Madhya Pradesh', shade=True, color=\"b\")\n",
        "# plt.title(\"Totoal damage in terms of crops,house & public utilities in UP VS MP\")\n",
        "# plt.xticks(rotation=90)\n",
        "# plt.legend()\n",
        "# plt.show()\n"
      ],
      "metadata": {
        "id": "fxowsmIVM07n"
      },
      "execution_count": 151,
      "outputs": []
    },
    {
      "cell_type": "code",
      "source": [
        "plt.hist(final_df['Total damages Crops, Houses & Public utilities in Rs.Crore (col.6+8+11) - Bihar'], alpha=0.5,label='Total damage Bihar')\n",
        "plt.hist(final_df['Total damages Crops, Houses & Public utilities in Rs.Crore (col.6+8+11) - Uttar Pradesh'], alpha=0.5,label='Total damage Uttar pradesh')\n",
        "plt.legend()\n",
        "plt.title('Total damage Bihar VS UP')\n"
      ],
      "metadata": {
        "colab": {
          "base_uri": "https://localhost:8080/",
          "height": 298
        },
        "id": "3pkFbc97CVrk",
        "outputId": "ce3bc60d-e3aa-4683-d8f8-872c54ed7da1"
      },
      "execution_count": 152,
      "outputs": [
        {
          "output_type": "execute_result",
          "data": {
            "text/plain": [
              "Text(0.5, 1.0, 'Total damage Bihar VS UP')"
            ]
          },
          "metadata": {},
          "execution_count": 152
        },
        {
          "output_type": "display_data",
          "data": {
            "text/plain": [
              "<Figure size 432x288 with 1 Axes>"
            ],
            "image/png": "[encoded data removed]"
          },
          "metadata": {
            "needs_background": "light"
          }
        }
      ]
    },
    {
      "cell_type": "code",
      "source": [
        "plt.hist(final_df['Total damages Crops, Houses & Public utilities in Rs.Crore (col.6+8+11) - Bihar'], alpha=0.5,label='Total damage Bihar')\n",
        "plt.hist(final_df['Total damages Crops, Houses & Public utilities in Rs.Crore (col.6+8+11) - Madhya Pradesh'], alpha=0.5,label='Total damage Madhya pradesh')\n",
        "plt.legend()\n",
        "plt.title('Total damage Bihar VS UP')"
      ],
      "metadata": {
        "colab": {
          "base_uri": "https://localhost:8080/",
          "height": 298
        },
        "id": "f6y6mLw9DRWn",
        "outputId": "6ca472bd-87dd-4489-eb98-80d2bc55fb30"
      },
      "execution_count": 153,
      "outputs": [
        {
          "output_type": "execute_result",
          "data": {
            "text/plain": [
              "Text(0.5, 1.0, 'Total damage Bihar VS UP')"
            ]
          },
          "metadata": {},
          "execution_count": 153
        },
        {
          "output_type": "display_data",
          "data": {
            "text/plain": [
              "<Figure size 432x288 with 1 Axes>"
            ],
            "image/png": "[encoded data removed]"
          },
          "metadata": {
            "needs_background": "light"
          }
        }
      ]
    },
    {
      "cell_type": "code",
      "source": [
        "plt.hist(final_df['Total damages Crops, Houses & Public utilities in Rs.Crore (col.6+8+11) - Uttar Pradesh'], alpha=0.5,label='Total damage Uttar Pradesh')\n",
        "plt.hist(final_df['Total damages Crops, Houses & Public utilities in Rs.Crore (col.6+8+11) - Madhya Pradesh'], alpha=0.5,label='Total damage Madhya pradesh')\n",
        "plt.legend()\n",
        "plt.title('Total damage UP VS MP')"
      ],
      "metadata": {
        "colab": {
          "base_uri": "https://localhost:8080/",
          "height": 298
        },
        "id": "3p-ZZ49TDUOT",
        "outputId": "ed638113-7100-4d2f-df2a-f163c7dd2a7b"
      },
      "execution_count": 154,
      "outputs": [
        {
          "output_type": "execute_result",
          "data": {
            "text/plain": [
              "Text(0.5, 1.0, 'Total damage UP VS MP')"
            ]
          },
          "metadata": {},
          "execution_count": 154
        },
        {
          "output_type": "display_data",
          "data": {
            "text/plain": [
              "<Figure size 432x288 with 1 Axes>"
            ],
            "image/png": "[encoded data removed]"
          },
          "metadata": {
            "needs_background": "light"
          }
        }
      ]
    },
    {
      "cell_type": "markdown",
      "source": [
        "# And total damage of crops,house and public utilities is maximum in bihar and least in MP"
      ],
      "metadata": {
        "id": "TTwYksr2FqVq"
      }
    }
  ]
}